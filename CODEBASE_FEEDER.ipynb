{
  "nbformat": 4,
  "nbformat_minor": 0,
  "metadata": {
    "colab": {
      "name": "CODEBASE_FEEDER",
      "provenance": [],
      "authorship_tag": "ABX9TyPuNhN5YktKdUo2V5QcoaQa",
      "include_colab_link": true
    },
    "kernelspec": {
      "name": "python3",
      "display_name": "Python 3"
    },
    "language_info": {
      "name": "python"
    }
  },
  "cells": [
    {
      "cell_type": "markdown",
      "metadata": {
        "id": "view-in-github",
        "colab_type": "text"
      },
      "source": [
        "<a href=\"https://colab.research.google.com/github/x1001000/Python_snippets/blob/master/CODEBASE_FEEDER.ipynb\" target=\"_parent\"><img src=\"https://colab.research.google.com/assets/colab-badge.svg\" alt=\"Open In Colab\"/></a>"
      ]
    },
    {
      "cell_type": "code",
      "metadata": {
        "id": "e3mm1ol-M-xG"
      },
      "source": [
        "import pandas as pd\n",
        "df1 = pd.read_csv('/content/餽線電箱_統計區.txt')\n",
        "df1"
      ],
      "execution_count": null,
      "outputs": []
    },
    {
      "cell_type": "code",
      "metadata": {
        "id": "xD3ApvMCBDKC"
      },
      "source": [
        "df2 = df1[['CODEBASE','FEEDER']].groupby(['CODEBASE']).count()\n",
        "df2"
      ],
      "execution_count": null,
      "outputs": []
    },
    {
      "cell_type": "code",
      "metadata": {
        "id": "Ha-qxi9G2rvO"
      },
      "source": [
        "FEEDERS = []\n",
        "MAX_FEEDER = []\n",
        "\n",
        "for codebase, group in df1[['FEEDER', 'CODEBASE']].groupby(['CODEBASE']):\n",
        "    feeders = list(group['FEEDER'])\n",
        "    counts = [feeders.count(feeder) for feeder in feeders]\n",
        "    FEEDERS.append(feeders)\n",
        "    MAX_FEEDER.append(feeders[counts.index(max(counts))])\n",
        "\n",
        "df2['包含'] = FEEDERS\n",
        "df2['代表'] = MAX_FEEDER\n",
        "df2"
      ],
      "execution_count": null,
      "outputs": []
    },
    {
      "cell_type": "code",
      "metadata": {
        "id": "cKbktfsuNp69"
      },
      "source": [
        "df2.to_csv('CODEBASE_FEEDER.csv')"
      ],
      "execution_count": null,
      "outputs": []
    }
  ]
}