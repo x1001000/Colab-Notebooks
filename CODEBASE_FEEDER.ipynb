{
  "cells": [
    {
      "cell_type": "markdown",
      "metadata": {
        "colab_type": "text",
        "id": "view-in-github"
      },
      "source": [
        "<a href=\"https://colab.research.google.com/github/x1001000/Colab-Notebooks/blob/master/CODEBASE_FEEDER.ipynb\" target=\"_parent\"><img src=\"https://colab.research.google.com/assets/colab-badge.svg\" alt=\"Open In Colab\"/></a>"
      ]
    },
    {
      "cell_type": "code",
      "execution_count": null,
      "metadata": {
        "id": "e3mm1ol-M-xG"
      },
      "outputs": [],
      "source": [
        "import pandas as pd\n",
        "df1 = pd.read_csv('/content/餽線電箱_統計區.txt')\n",
        "df1"
      ]
    },
    {
      "cell_type": "code",
      "execution_count": null,
      "metadata": {
        "id": "xD3ApvMCBDKC"
      },
      "outputs": [],
      "source": [
        "df2 = df1[['CODEBASE','FEEDER']].groupby(['CODEBASE']).count()\n",
        "df2"
      ]
    },
    {
      "cell_type": "code",
      "execution_count": null,
      "metadata": {
        "id": "Ha-qxi9G2rvO"
      },
      "outputs": [],
      "source": [
        "FEEDERS = []\n",
        "MAX_FEEDER = []\n",
        "\n",
        "for codebase, group in df1[['FEEDER', 'CODEBASE']].groupby(['CODEBASE']):\n",
        "    feeders = list(group['FEEDER'])\n",
        "    counts = [feeders.count(feeder) for feeder in feeders]\n",
        "    FEEDERS.append(feeders)\n",
        "    MAX_FEEDER.append(feeders[counts.index(max(counts))])\n",
        "\n",
        "df2['包含'] = FEEDERS\n",
        "df2['代表'] = MAX_FEEDER\n",
        "df2"
      ]
    },
    {
      "cell_type": "code",
      "execution_count": null,
      "metadata": {
        "id": "cKbktfsuNp69"
      },
      "outputs": [],
      "source": [
        "df2.to_csv('CODEBASE_FEEDER.csv')"
      ]
    }
  ],
  "metadata": {
    "colab": {
      "authorship_tag": "ABX9TyPuNhN5YktKdUo2V5QcoaQa",
      "include_colab_link": true,
      "name": "CODEBASE_FEEDER",
      "provenance": []
    },
    "kernelspec": {
      "display_name": "Python 3",
      "name": "python3"
    },
    "language_info": {
      "name": "python"
    }
  },
  "nbformat": 4,
  "nbformat_minor": 0
}
