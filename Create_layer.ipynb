{
  "nbformat": 4,
  "nbformat_minor": 0,
  "metadata": {
    "colab": {
      "provenance": [],
      "authorship_tag": "ABX9TyPPHpD4g1pMbi7eXWLwwmcY",
      "include_colab_link": true
    },
    "kernelspec": {
      "name": "python3",
      "display_name": "Python 3"
    },
    "language_info": {
      "name": "python"
    }
  },
  "cells": [
    {
      "cell_type": "markdown",
      "metadata": {
        "id": "view-in-github",
        "colab_type": "text"
      },
      "source": [
        "<a href=\"https://colab.research.google.com/github/x1001000/Colab-Notebooks/blob/main/Create_layer.ipynb\" target=\"_parent\"><img src=\"https://colab.research.google.com/assets/colab-badge.svg\" alt=\"Open In Colab\"/></a>"
      ]
    },
    {
      "cell_type": "code",
      "execution_count": null,
      "metadata": {
        "id": "qrKgq0bSnsl5"
      },
      "outputs": [],
      "source": [
        "!pip install line-bot-sdk -t python/lib/python3.9/site-packages"
      ]
    },
    {
      "cell_type": "code",
      "source": [
        "!zip -r layer.zip python"
      ],
      "metadata": {
        "id": "gnovdbEKprZ-"
      },
      "execution_count": null,
      "outputs": []
    },
    {
      "cell_type": "code",
      "source": [
        "from google.colab import files\n",
        "files.download('layer.zip')"
      ],
      "metadata": {
        "id": "PcEo-r1jw1Wq"
      },
      "execution_count": null,
      "outputs": []
    }
  ]
}