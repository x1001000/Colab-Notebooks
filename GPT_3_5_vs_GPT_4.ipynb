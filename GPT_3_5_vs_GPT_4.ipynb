{
  "nbformat": 4,
  "nbformat_minor": 0,
  "metadata": {
    "colab": {
      "provenance": [],
      "authorship_tag": "ABX9TyNFJMIDtS9YK3qw3PSMHcRX",
      "include_colab_link": true
    },
    "kernelspec": {
      "name": "python3",
      "display_name": "Python 3"
    },
    "language_info": {
      "name": "python"
    }
  },
  "cells": [
    {
      "cell_type": "markdown",
      "metadata": {
        "id": "view-in-github",
        "colab_type": "text"
      },
      "source": [
        "<a href=\"https://colab.research.google.com/github/x1001000/Colab-Notebooks/blob/main/GPT_3_5_vs_GPT_4.ipynb\" target=\"_parent\"><img src=\"https://colab.research.google.com/assets/colab-badge.svg\" alt=\"Open In Colab\"/></a>"
      ]
    },
    {
      "cell_type": "markdown",
      "source": [
        "# 匯入文本"
      ],
      "metadata": {
        "id": "UP6jFtw2oEhT"
      }
    },
    {
      "cell_type": "code",
      "source": [
        "with open('kaijin_nijumenso.txt', encoding='cp932') as f:\n",
        "    text = ''.join(f.readlines())\n",
        "print(f'文本（含換行及標點符號）共 {len(text)} 字')"
      ],
      "metadata": {
        "id": "ni5Jd11LUBwh",
        "outputId": "fbb795a0-eacc-4f19-b131-dd707b9984b5",
        "colab": {
          "base_uri": "https://localhost:8080/"
        }
      },
      "execution_count": 1,
      "outputs": [
        {
          "output_type": "stream",
          "name": "stdout",
          "text": [
            "文本（含換行及標點符號）共 111341 字\n"
          ]
        }
      ]
    },
    {
      "cell_type": "markdown",
      "source": [
        "# 安裝套件"
      ],
      "metadata": {
        "id": "1FgFeQEzoMDM"
      }
    },
    {
      "cell_type": "code",
      "source": [
        "!pip install openai --quiet"
      ],
      "metadata": {
        "id": "8NxLs7m56Ho8",
        "colab": {
          "base_uri": "https://localhost:8080/"
        },
        "outputId": "d64a06aa-5351-4566-eb68-78d8853697e2"
      },
      "execution_count": 2,
      "outputs": [
        {
          "output_type": "stream",
          "name": "stdout",
          "text": [
            "\u001b[2K     \u001b[90m━━━━━━━━━━━━━━━━━━━━━━━━━━━━━━━━━━━━━━━━\u001b[0m \u001b[32m70.1/70.1 KB\u001b[0m \u001b[31m3.3 MB/s\u001b[0m eta \u001b[36m0:00:00\u001b[0m\n",
            "\u001b[2K     \u001b[90m━━━━━━━━━━━━━━━━━━━━━━━━━━━━━━━━━━━━━━━━\u001b[0m \u001b[32m1.0/1.0 MB\u001b[0m \u001b[31m24.6 MB/s\u001b[0m eta \u001b[36m0:00:00\u001b[0m\n",
            "\u001b[2K     \u001b[90m━━━━━━━━━━━━━━━━━━━━━━━━━━━━━━━━━━━━━━━\u001b[0m \u001b[32m114.2/114.2 KB\u001b[0m \u001b[31m4.5 MB/s\u001b[0m eta \u001b[36m0:00:00\u001b[0m\n",
            "\u001b[2K     \u001b[90m━━━━━━━━━━━━━━━━━━━━━━━━━━━━━━━━━━━━━━\u001b[0m \u001b[32m264.6/264.6 KB\u001b[0m \u001b[31m22.7 MB/s\u001b[0m eta \u001b[36m0:00:00\u001b[0m\n",
            "\u001b[2K     \u001b[90m━━━━━━━━━━━━━━━━━━━━━━━━━━━━━━━━━━━━━━\u001b[0m \u001b[32m158.8/158.8 KB\u001b[0m \u001b[31m17.7 MB/s\u001b[0m eta \u001b[36m0:00:00\u001b[0m\n",
            "\u001b[2K     \u001b[90m━━━━━━━━━━━━━━━━━━━━━━━━━━━━━━━━━━━━━━\u001b[0m \u001b[32m199.2/199.2 KB\u001b[0m \u001b[31m11.9 MB/s\u001b[0m eta \u001b[36m0:00:00\u001b[0m\n",
            "\u001b[?25h"
          ]
        }
      ]
    },
    {
      "cell_type": "markdown",
      "source": [
        "# 設定金鑰"
      ],
      "metadata": {
        "id": "vdSgdwY-oP3w"
      }
    },
    {
      "cell_type": "code",
      "source": [
        "import openai\n",
        "openai.api_key = OPENAI_API_KEY # https://platform.openai.com 開第一把送18USD"
      ],
      "metadata": {
        "id": "VV_BZ4etT_LU"
      },
      "execution_count": 3,
      "outputs": []
    },
    {
      "cell_type": "markdown",
      "source": [
        "# 設計提詞"
      ],
      "metadata": {
        "id": "ZTPz5evIoTFp"
      }
    },
    {
      "cell_type": "code",
      "source": [
        "def translate(text, model):\n",
        "    response = openai.ChatCompletion.create(\n",
        "        model=model,\n",
        "        messages=[\n",
        "            {'role': 'system', 'content': '你是翻譯軟體，任務是將日文翻譯至繁體中文。'},\n",
        "            {'role': 'assistant', 'content': '請提供一段日文，讓我翻譯至繁體中文。'},\n",
        "            {'role': 'user', 'content': f'請翻譯以下日文至繁體中文：\\n\\n\\n{text}'}])\n",
        "    return response['choices'][0]['message']['content']"
      ],
      "metadata": {
        "id": "gFdApCSs9KBj"
      },
      "execution_count": 4,
      "outputs": []
    },
    {
      "cell_type": "markdown",
      "source": [
        "# 批次處理"
      ],
      "metadata": {
        "id": "hyX5eo2Ioq_y"
      }
    },
    {
      "cell_type": "code",
      "source": [
        "gpt3_translation = []\n",
        "gpt4_translation = []\n",
        "for batch in range(3): # 3 改成 len(text)//1000+1 就能跑完整個文本\n",
        "    gpt3_translation.append(translate(text[batch*1000:(batch+1)*1000], 'gpt-3.5-turbo')) # gpt-3.5模型一次能處理（含輸入及輸出）約4K個token（約2K個中文字）\n",
        "    gpt4_translation.append(translate(text[batch*1000:(batch+1)*1000], 'gpt-4')) # gpt-4模型一次能處理（含輸入及輸出）約8K個token（約4K個中文字），速度很慢且限時600秒"
      ],
      "metadata": {
        "id": "S8FR5s6YiGRe"
      },
      "execution_count": 5,
      "outputs": []
    },
    {
      "cell_type": "markdown",
      "source": [
        "# 字串存檔"
      ],
      "metadata": {
        "id": "AQV-H0sFpHjy"
      }
    },
    {
      "cell_type": "code",
      "source": [
        "with open('gpt3_translation.txt', 'w') as f:\n",
        "    f.write('\\n\\n----批次分隔線----\\n\\n'.join(gpt3_translation))\n",
        "with open('gpt4_translation.txt', 'w') as f:\n",
        "    f.write('\\n\\n----批次分隔線----\\n\\n'.join(gpt4_translation))"
      ],
      "metadata": {
        "id": "v9sKsaaBlRhB"
      },
      "execution_count": 6,
      "outputs": []
    },
    {
      "cell_type": "markdown",
      "source": [
        "# 檔案下載"
      ],
      "metadata": {
        "id": "T4OQURu7pKlS"
      }
    },
    {
      "cell_type": "code",
      "source": [
        "from google.colab import files\n",
        "files.download('gpt3_translation.txt')\n",
        "files.download('gpt4_translation.txt')"
      ],
      "metadata": {
        "id": "H6sRFPMhYamR",
        "outputId": "d95ae39c-954b-4bd8-8966-00a86630505b",
        "colab": {
          "base_uri": "https://localhost:8080/",
          "height": 17
        }
      },
      "execution_count": 7,
      "outputs": [
        {
          "output_type": "display_data",
          "data": {
            "text/plain": [
              "<IPython.core.display.Javascript object>"
            ],
            "application/javascript": [
              "\n",
              "    async function download(id, filename, size) {\n",
              "      if (!google.colab.kernel.accessAllowed) {\n",
              "        return;\n",
              "      }\n",
              "      const div = document.createElement('div');\n",
              "      const label = document.createElement('label');\n",
              "      label.textContent = `Downloading \"${filename}\": `;\n",
              "      div.appendChild(label);\n",
              "      const progress = document.createElement('progress');\n",
              "      progress.max = size;\n",
              "      div.appendChild(progress);\n",
              "      document.body.appendChild(div);\n",
              "\n",
              "      const buffers = [];\n",
              "      let downloaded = 0;\n",
              "\n",
              "      const channel = await google.colab.kernel.comms.open(id);\n",
              "      // Send a message to notify the kernel that we're ready.\n",
              "      channel.send({})\n",
              "\n",
              "      for await (const message of channel.messages) {\n",
              "        // Send a message to notify the kernel that we're ready.\n",
              "        channel.send({})\n",
              "        if (message.buffers) {\n",
              "          for (const buffer of message.buffers) {\n",
              "            buffers.push(buffer);\n",
              "            downloaded += buffer.byteLength;\n",
              "            progress.value = downloaded;\n",
              "          }\n",
              "        }\n",
              "      }\n",
              "      const blob = new Blob(buffers, {type: 'application/binary'});\n",
              "      const a = document.createElement('a');\n",
              "      a.href = window.URL.createObjectURL(blob);\n",
              "      a.download = filename;\n",
              "      div.appendChild(a);\n",
              "      a.click();\n",
              "      div.remove();\n",
              "    }\n",
              "  "
            ]
          },
          "metadata": {}
        },
        {
          "output_type": "display_data",
          "data": {
            "text/plain": [
              "<IPython.core.display.Javascript object>"
            ],
            "application/javascript": [
              "download(\"download_c03cfa32-b2e1-471d-8961-8b6dc4145236\", \"gpt3_translation.txt\", 3733)"
            ]
          },
          "metadata": {}
        },
        {
          "output_type": "display_data",
          "data": {
            "text/plain": [
              "<IPython.core.display.Javascript object>"
            ],
            "application/javascript": [
              "\n",
              "    async function download(id, filename, size) {\n",
              "      if (!google.colab.kernel.accessAllowed) {\n",
              "        return;\n",
              "      }\n",
              "      const div = document.createElement('div');\n",
              "      const label = document.createElement('label');\n",
              "      label.textContent = `Downloading \"${filename}\": `;\n",
              "      div.appendChild(label);\n",
              "      const progress = document.createElement('progress');\n",
              "      progress.max = size;\n",
              "      div.appendChild(progress);\n",
              "      document.body.appendChild(div);\n",
              "\n",
              "      const buffers = [];\n",
              "      let downloaded = 0;\n",
              "\n",
              "      const channel = await google.colab.kernel.comms.open(id);\n",
              "      // Send a message to notify the kernel that we're ready.\n",
              "      channel.send({})\n",
              "\n",
              "      for await (const message of channel.messages) {\n",
              "        // Send a message to notify the kernel that we're ready.\n",
              "        channel.send({})\n",
              "        if (message.buffers) {\n",
              "          for (const buffer of message.buffers) {\n",
              "            buffers.push(buffer);\n",
              "            downloaded += buffer.byteLength;\n",
              "            progress.value = downloaded;\n",
              "          }\n",
              "        }\n",
              "      }\n",
              "      const blob = new Blob(buffers, {type: 'application/binary'});\n",
              "      const a = document.createElement('a');\n",
              "      a.href = window.URL.createObjectURL(blob);\n",
              "      a.download = filename;\n",
              "      div.appendChild(a);\n",
              "      a.click();\n",
              "      div.remove();\n",
              "    }\n",
              "  "
            ]
          },
          "metadata": {}
        },
        {
          "output_type": "display_data",
          "data": {
            "text/plain": [
              "<IPython.core.display.Javascript object>"
            ],
            "application/javascript": [
              "download(\"download_2ac7eb1a-20b2-49e1-8a1f-12b23f6efbbe\", \"gpt4_translation.txt\", 5829)"
            ]
          },
          "metadata": {}
        }
      ]
    }
  ]
}