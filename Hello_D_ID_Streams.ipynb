{
  "nbformat": 4,
  "nbformat_minor": 0,
  "metadata": {
    "colab": {
      "provenance": [],
      "authorship_tag": "ABX9TyO7Lznj3dWVvNPvNr3W4xlx",
      "include_colab_link": true
    },
    "kernelspec": {
      "name": "python3",
      "display_name": "Python 3"
    },
    "language_info": {
      "name": "python"
    }
  },
  "cells": [
    {
      "cell_type": "markdown",
      "metadata": {
        "id": "view-in-github",
        "colab_type": "text"
      },
      "source": [
        "<a href=\"https://colab.research.google.com/github/x1001000/Colab-Notebooks/blob/main/Hello_D_ID_Streams.ipynb\" target=\"_parent\"><img src=\"https://colab.research.google.com/assets/colab-badge.svg\" alt=\"Open In Colab\"/></a>"
      ]
    },
    {
      "cell_type": "code",
      "source": [
        "import requests\n",
        "url = \"https://api.d-id.com/talks/streams\"\n",
        "api_key = ...\n",
        "headers = {\n",
        "    \"accept\": \"application/json\",\n",
        "    \"content-type\": \"application/json\",\n",
        "    \"authorization\": f\"Basic {api_key}\"}\n",
        "\n",
        "requests.get('https://api.d-id.com/credits', headers=headers).json()"
      ],
      "metadata": {
        "id": "_c0Ivvpgsa6V",
        "colab": {
          "base_uri": "https://localhost:8080/"
        },
        "outputId": "59541f04-886b-4cf9-d63b-105a3b8ca942"
      },
      "execution_count": null,
      "outputs": [
        {
          "output_type": "execute_result",
          "data": {
            "text/plain": [
              "{'credits': [{'owner_id': 'auth0|643b25cd1d0529522af4c5e2',\n",
              "   'expire_at': '2023-04-29T22:15:32.472Z',\n",
              "   'created_at': '2023-04-15T22:31:43.365Z',\n",
              "   'remaining': 6,\n",
              "   'valid_from': '2023-04-15T22:31:43.365Z',\n",
              "   'total': 20,\n",
              "   'product_id': 'prod_LzlerM0bhYgeMO',\n",
              "   'modified_at': '2023-04-16T05:19:47.806Z'}],\n",
              " 'remaining': 6,\n",
              " 'total': 20}"
            ]
          },
          "metadata": {},
          "execution_count": 19
        }
      ]
    },
    {
      "cell_type": "code",
      "source": [
        "payload = {\n",
        "    \"source_url\": \"https://x1001000-linebot-content.s3.ap-east-1.amazonaws.com/GPT-LightSPA/whitewhite.png\"\n",
        "}\n",
        "new = requests.post(url, headers=headers, json=payload).json()\n",
        "\n",
        "payload = {\n",
        "    \"answer\": {\n",
        "        \"type\": \"answer\",\n",
        "        \"sdp\": new['offer']['sdp']\n",
        "    },\n",
        "    \"session_id\": new['session_id']\n",
        "}\n",
        "start = requests.post(f\"{url}/{new['id']}/sdp\", headers=headers, json=payload).json()\n",
        "\n",
        "payload = {\n",
        "    \"script\": {\n",
        "        \"type\": \"text\",\n",
        "        \"provider\": {\n",
        "            \"type\": \"microsoft\",\n",
        "            \"voice_id\": \"HsiaoChen\"},\n",
        "        \"input\": '妳好啊'},\n",
        "    \"session_id\": start['session_id']\n",
        "}\n",
        "talk = requests.post(f\"{url}/{new['id']}\", headers=headers, json=payload).json()\n",
        "talk"
      ],
      "metadata": {
        "colab": {
          "base_uri": "https://localhost:8080/"
        },
        "id": "CWDqyuMguoHS",
        "outputId": "a65cf482-936b-4138-caeb-44f3eda214a9"
      },
      "execution_count": null,
      "outputs": [
        {
          "output_type": "execute_result",
          "data": {
            "text/plain": [
              "{'kind': 'InsufficientCreditsError', 'description': 'not enough credits'}"
            ]
          },
          "metadata": {},
          "execution_count": 6
        }
      ]
    }
  ]
}