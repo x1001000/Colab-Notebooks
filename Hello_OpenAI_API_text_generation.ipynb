{
  "cells": [
    {
      "cell_type": "markdown",
      "metadata": {
        "colab_type": "text",
        "id": "view-in-github"
      },
      "source": [
        "<a href=\"https://colab.research.google.com/github/x1001000/Colab-Notebooks/blob/main/Hello_OpenAI_API_text_generation.ipynb\" target=\"_parent\"><img src=\"https://colab.research.google.com/assets/colab-badge.svg\" alt=\"Open In Colab\"/></a>"
      ]
    },
    {
      "cell_type": "code",
      "execution_count": 1,
      "metadata": {
        "colab": {
          "base_uri": "https://localhost:8080/"
        },
        "id": "8NxLs7m56Ho8",
        "outputId": "ffd22617-7833-46a9-c4fc-aaae7400f287"
      },
      "outputs": [
        {
          "name": "stdout",
          "output_type": "stream",
          "text": [
            "\u001b[?25l     \u001b[90m━━━━━━━━━━━━━━━━━━━━━━━━━━━━━━━━━━━━━━━━\u001b[0m \u001b[32m0.0/73.6 kB\u001b[0m \u001b[31m?\u001b[0m eta \u001b[36m-:--:--\u001b[0m\r\u001b[2K     \u001b[91m━━━━━━━━━━━━━━━━\u001b[0m\u001b[90m╺\u001b[0m\u001b[90m━━━━━━━━━━━━━━━━━━━━━━\u001b[0m \u001b[32m30.7/73.6 kB\u001b[0m \u001b[31m692.1 kB/s\u001b[0m eta \u001b[36m0:00:01\u001b[0m\r\u001b[2K     \u001b[91m━━━━━━━━━━━━━━━━━━━━━━━━━━━━━━━━━━━━━━\u001b[0m\u001b[90m╺\u001b[0m \u001b[32m71.7/73.6 kB\u001b[0m \u001b[31m905.6 kB/s\u001b[0m eta \u001b[36m0:00:01\u001b[0m\r\u001b[2K     \u001b[90m━━━━━━━━━━━━━━━━━━━━━━━━━━━━━━━━━━━━━━━\u001b[0m \u001b[32m73.6/73.6 kB\u001b[0m \u001b[31m684.2 kB/s\u001b[0m eta \u001b[36m0:00:00\u001b[0m\n",
            "\u001b[?25h"
          ]
        }
      ],
      "source": [
        "!pip install openai --quiet"
      ]
    },
    {
      "cell_type": "markdown",
      "metadata": {
        "id": "ft5oSZtpPFPy"
      },
      "source": [
        "# Models\n",
        "- https://platform.openai.com/docs/models/models\n",
        "- https://platform.openai.com/docs/api-reference/authentication"
      ]
    },
    {
      "cell_type": "code",
      "execution_count": 2,
      "metadata": {
        "colab": {
          "base_uri": "https://localhost:8080/"
        },
        "id": "NXPSz4x8zpiu",
        "outputId": "1bb38b15-ea3f-4a2d-9c8f-058fb2ae1ef8"
      },
      "outputs": [
        {
          "data": {
            "text/plain": [
              "['ada',\n",
              " 'ada-code-search-code',\n",
              " 'ada-code-search-text',\n",
              " 'ada-search-document',\n",
              " 'ada-search-query',\n",
              " 'ada-similarity',\n",
              " 'babbage',\n",
              " 'babbage-code-search-code',\n",
              " 'babbage-code-search-text',\n",
              " 'babbage-search-document',\n",
              " 'babbage-search-query',\n",
              " 'babbage-similarity',\n",
              " 'code-davinci-edit-001',\n",
              " 'code-search-ada-code-001',\n",
              " 'code-search-ada-text-001',\n",
              " 'code-search-babbage-code-001',\n",
              " 'code-search-babbage-text-001',\n",
              " 'curie',\n",
              " 'curie-instruct-beta',\n",
              " 'curie-search-document',\n",
              " 'curie-search-query',\n",
              " 'curie-similarity',\n",
              " 'davinci',\n",
              " 'davinci-instruct-beta',\n",
              " 'davinci-search-document',\n",
              " 'davinci-search-query',\n",
              " 'davinci-similarity',\n",
              " 'gpt-3.5-turbo',\n",
              " 'gpt-3.5-turbo-0301',\n",
              " 'gpt-3.5-turbo-0613',\n",
              " 'gpt-3.5-turbo-16k',\n",
              " 'gpt-3.5-turbo-16k-0613',\n",
              " 'gpt-4',\n",
              " 'gpt-4-0314',\n",
              " 'gpt-4-0613',\n",
              " 'text-ada-001',\n",
              " 'text-babbage-001',\n",
              " 'text-curie-001',\n",
              " 'text-davinci-001',\n",
              " 'text-davinci-002',\n",
              " 'text-davinci-003',\n",
              " 'text-davinci-edit-001',\n",
              " 'text-embedding-ada-002',\n",
              " 'text-search-ada-doc-001',\n",
              " 'text-search-ada-query-001',\n",
              " 'text-search-babbage-doc-001',\n",
              " 'text-search-babbage-query-001',\n",
              " 'text-search-curie-doc-001',\n",
              " 'text-search-curie-query-001',\n",
              " 'text-search-davinci-doc-001',\n",
              " 'text-search-davinci-query-001',\n",
              " 'text-similarity-ada-001',\n",
              " 'text-similarity-babbage-001',\n",
              " 'text-similarity-curie-001',\n",
              " 'text-similarity-davinci-001',\n",
              " 'whisper-1']"
            ]
          },
          "execution_count": 2,
          "metadata": {},
          "output_type": "execute_result"
        }
      ],
      "source": [
        "import os\n",
        "import openai\n",
        "openai.api_key = os.environ['OPENAI_API_KEY']\n",
        "models = openai.Model.list().data\n",
        "sorted([model.id for model in models])"
      ]
    },
    {
      "cell_type": "markdown",
      "metadata": {
        "id": "WboAJE2WNmgU"
      },
      "source": [
        "# APIs"
      ]
    },
    {
      "cell_type": "markdown",
      "metadata": {
        "id": "YfnuUPTV0MF9"
      },
      "source": [
        "## Completions API\n",
        "- https://platform.openai.com/docs/guides/text-generation/completions-api\n",
        "- https://platform.openai.com/docs/api-reference/completions\n",
        "- POST https://api.openai.com/v1/completions"
      ]
    },
    {
      "cell_type": "code",
      "execution_count": 3,
      "metadata": {
        "colab": {
          "base_uri": "https://localhost:8080/",
          "height": 35
        },
        "id": "gFdApCSs9KBj",
        "outputId": "8e3d127b-f348-4c30-af21-4aded5404b70"
      },
      "outputs": [
        {
          "data": {
            "application/vnd.google.colaboratory.intrinsic+json": {
              "type": "string"
            },
            "text/plain": [
              "'\\n\\n蔣萬安（1902年－1987年）是中華民國第三任總統，他於1978年卸任後，擔任中華民國最高領導人直到1987年去世'"
            ]
          },
          "execution_count": 3,
          "metadata": {},
          "output_type": "execute_result"
        }
      ],
      "source": [
        "response = openai.Completion.create(\n",
        "  model=\"text-davinci-003\",\n",
        "  prompt='誰是蔣萬安？',\n",
        "  temperature=0.5,\n",
        "  max_tokens=100,\n",
        "  top_p=0.3,\n",
        "  frequency_penalty=0.5,\n",
        "  presence_penalty=0.0\n",
        ")\n",
        "\n",
        "response['choices'][0]['text']"
      ]
    },
    {
      "cell_type": "code",
      "execution_count": 4,
      "metadata": {
        "colab": {
          "base_uri": "https://localhost:8080/",
          "height": 35
        },
        "id": "Il_hQDcdowVV",
        "outputId": "afe67bdc-8c52-466f-bbe1-092f1415faac"
      },
      "outputs": [
        {
          "data": {
            "application/vnd.google.colaboratory.intrinsic+json": {
              "type": "string"
            },
            "text/plain": [
              "'\\n\\n蔣萬安（1902年－1988年）是中華民國第三任總統，他於1978年3月1日就任總統，並於1984年2月13日卸任。蔣萬'"
            ]
          },
          "execution_count": 4,
          "metadata": {},
          "output_type": "execute_result"
        }
      ],
      "source": [
        "import requests, json\n",
        "openai_api = 'https://api.openai.com/v1/completions'\n",
        "headers = {\n",
        "    \"Content-Type\": \"application/json\",\n",
        "    \"Authorization\": f\"Bearer {os.environ['OPENAI_API_KEY']}\"}\n",
        "payload = json.dumps({\n",
        "  \"model\": \"text-davinci-003\",\n",
        "  \"prompt\": \"誰是蔣萬安\",\n",
        "  \"temperature\": 0.5,\n",
        "  \"max_tokens\": 100,\n",
        "  \"top_p\": 0.3,\n",
        "  \"frequency_penalty\": 0.5,\n",
        "  \"presence_penalty\": 0.0})\n",
        "\n",
        "r = requests.post(openai_api, headers=headers, data=payload)\n",
        "\n",
        "json.loads(r.text)['choices'][0]['text']"
      ]
    },
    {
      "cell_type": "markdown",
      "metadata": {
        "id": "f5IaVLoNypx2"
      },
      "source": [
        "## Chat Completions API\n",
        "- https://platform.openai.com/docs/guides/text-generation/chat-completions-api\n",
        "- https://platform.openai.com/docs/api-reference/chat\n",
        "- POST https://api.openai.com/v1/chat/completions"
      ]
    },
    {
      "cell_type": "code",
      "execution_count": 5,
      "metadata": {
        "colab": {
          "base_uri": "https://localhost:8080/"
        },
        "id": "YmaEm2XV3tV7",
        "outputId": "51cb6101-4e23-48ea-97a2-42f793d4f39e"
      },
      "outputs": [
        {
          "name": "stdout",
          "output_type": "stream",
          "text": [
            "{\n",
            "  \"role\": \"assistant\",\n",
            "  \"content\": \"Hello! How can I help you today?\"\n",
            "}\n"
          ]
        }
      ],
      "source": [
        "completion = openai.ChatCompletion.create(\n",
        "  model=\"gpt-4\",\n",
        "  messages=[\n",
        "    {\"role\": \"user\", \"content\": \"Hello!\"}\n",
        "  ]\n",
        ")\n",
        "\n",
        "print(completion.choices[0].message)"
      ]
    }
  ],
  "metadata": {
    "colab": {
      "include_colab_link": true,
      "provenance": []
    },
    "kernelspec": {
      "display_name": "Python 3",
      "name": "python3"
    },
    "language_info": {
      "name": "python"
    }
  },
  "nbformat": 4,
  "nbformat_minor": 0
}
