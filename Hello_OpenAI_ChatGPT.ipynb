{
  "nbformat": 4,
  "nbformat_minor": 0,
  "metadata": {
    "colab": {
      "provenance": [],
      "authorship_tag": "ABX9TyNN39JfMw7qHPaJkqXT6OYg",
      "include_colab_link": true
    },
    "kernelspec": {
      "name": "python3",
      "display_name": "Python 3"
    },
    "language_info": {
      "name": "python"
    }
  },
  "cells": [
    {
      "cell_type": "markdown",
      "metadata": {
        "id": "view-in-github",
        "colab_type": "text"
      },
      "source": [
        "<a href=\"https://colab.research.google.com/github/x1001000/Colab-Notebooks/blob/main/Hello_OpenAI_ChatGPT.ipynb\" target=\"_parent\"><img src=\"https://colab.research.google.com/assets/colab-badge.svg\" alt=\"Open In Colab\"/></a>"
      ]
    },
    {
      "cell_type": "code",
      "source": [
        "!pip install openai --quiet"
      ],
      "metadata": {
        "colab": {
          "base_uri": "https://localhost:8080/"
        },
        "id": "8NxLs7m56Ho8",
        "outputId": "b5c8c593-d71b-4bc2-aeba-021c5f7ea630"
      },
      "execution_count": 1,
      "outputs": [
        {
          "output_type": "stream",
          "name": "stdout",
          "text": [
            "\u001b[2K     \u001b[90m━━━━━━━━━━━━━━━━━━━━━━━━━━━━━━━━━━━━━━━━\u001b[0m \u001b[32m70.1/70.1 KB\u001b[0m \u001b[31m4.6 MB/s\u001b[0m eta \u001b[36m0:00:00\u001b[0m\n",
            "\u001b[2K     \u001b[90m━━━━━━━━━━━━━━━━━━━━━━━━━━━━━━━━━━━━━━━━\u001b[0m \u001b[32m1.0/1.0 MB\u001b[0m \u001b[31m22.4 MB/s\u001b[0m eta \u001b[36m0:00:00\u001b[0m\n",
            "\u001b[2K     \u001b[90m━━━━━━━━━━━━━━━━━━━━━━━━━━━━━━━━━━━━━━\u001b[0m \u001b[32m264.6/264.6 KB\u001b[0m \u001b[31m11.7 MB/s\u001b[0m eta \u001b[36m0:00:00\u001b[0m\n",
            "\u001b[2K     \u001b[90m━━━━━━━━━━━━━━━━━━━━━━━━━━━━━━━━━━━━━━━\u001b[0m \u001b[32m114.2/114.2 KB\u001b[0m \u001b[31m3.0 MB/s\u001b[0m eta \u001b[36m0:00:00\u001b[0m\n",
            "\u001b[2K     \u001b[90m━━━━━━━━━━━━━━━━━━━━━━━━━━━━━━━━━━━━━━━\u001b[0m \u001b[32m158.8/158.8 KB\u001b[0m \u001b[31m7.7 MB/s\u001b[0m eta \u001b[36m0:00:00\u001b[0m\n",
            "\u001b[?25h"
          ]
        }
      ]
    },
    {
      "cell_type": "markdown",
      "source": [
        "# Models\n",
        "- https://platform.openai.com/docs/models/models\n",
        "- https://platform.openai.com/docs/api-reference/authentication"
      ],
      "metadata": {
        "id": "ft5oSZtpPFPy"
      }
    },
    {
      "cell_type": "code",
      "source": [
        "import openai\n",
        "openai.api_key = OPENAI_API_KEY\n",
        "models = openai.Model.list().data\n",
        "sorted([model.id for model in models])"
      ],
      "metadata": {
        "id": "NXPSz4x8zpiu",
        "colab": {
          "base_uri": "https://localhost:8080/"
        },
        "outputId": "88b35515-9fc8-41ba-cf5c-2477d4e13dd4"
      },
      "execution_count": 2,
      "outputs": [
        {
          "output_type": "execute_result",
          "data": {
            "text/plain": [
              "['ada',\n",
              " 'ada-code-search-code',\n",
              " 'ada-code-search-text',\n",
              " 'ada-search-document',\n",
              " 'ada-search-query',\n",
              " 'ada-similarity',\n",
              " 'ada:2020-05-03',\n",
              " 'babbage',\n",
              " 'babbage-code-search-code',\n",
              " 'babbage-code-search-text',\n",
              " 'babbage-search-document',\n",
              " 'babbage-search-query',\n",
              " 'babbage-similarity',\n",
              " 'babbage:2020-05-03',\n",
              " 'code-cushman-001',\n",
              " 'code-davinci-002',\n",
              " 'code-davinci-edit-001',\n",
              " 'code-search-ada-code-001',\n",
              " 'code-search-ada-text-001',\n",
              " 'code-search-babbage-code-001',\n",
              " 'code-search-babbage-text-001',\n",
              " 'curie',\n",
              " 'curie-instruct-beta',\n",
              " 'curie-search-document',\n",
              " 'curie-search-query',\n",
              " 'curie-similarity',\n",
              " 'curie:2020-05-03',\n",
              " 'cushman:2020-05-03',\n",
              " 'davinci',\n",
              " 'davinci-if:3.0.0',\n",
              " 'davinci-instruct-beta',\n",
              " 'davinci-instruct-beta:2.0.0',\n",
              " 'davinci-search-document',\n",
              " 'davinci-search-query',\n",
              " 'davinci-similarity',\n",
              " 'davinci:2020-05-03',\n",
              " 'davinci:ft-avidly-2023-02-11-17-26-08',\n",
              " 'davinci:ft-avidly-2023-02-11-17-35-57',\n",
              " 'gpt-3.5-turbo',\n",
              " 'gpt-3.5-turbo-0301',\n",
              " 'gpt-4',\n",
              " 'gpt-4-0314',\n",
              " 'if-curie-v2',\n",
              " 'if-davinci-v2',\n",
              " 'if-davinci:3.0.0',\n",
              " 'text-ada-001',\n",
              " 'text-ada:001',\n",
              " 'text-babbage-001',\n",
              " 'text-babbage:001',\n",
              " 'text-curie-001',\n",
              " 'text-curie:001',\n",
              " 'text-davinci-001',\n",
              " 'text-davinci-002',\n",
              " 'text-davinci-003',\n",
              " 'text-davinci-edit-001',\n",
              " 'text-davinci-insert-001',\n",
              " 'text-davinci-insert-002',\n",
              " 'text-davinci:001',\n",
              " 'text-embedding-ada-002',\n",
              " 'text-search-ada-doc-001',\n",
              " 'text-search-ada-query-001',\n",
              " 'text-search-babbage-doc-001',\n",
              " 'text-search-babbage-query-001',\n",
              " 'text-search-curie-doc-001',\n",
              " 'text-search-curie-query-001',\n",
              " 'text-search-davinci-doc-001',\n",
              " 'text-search-davinci-query-001',\n",
              " 'text-similarity-ada-001',\n",
              " 'text-similarity-babbage-001',\n",
              " 'text-similarity-curie-001',\n",
              " 'text-similarity-davinci-001',\n",
              " 'whisper-1']"
            ]
          },
          "metadata": {},
          "execution_count": 2
        }
      ]
    },
    {
      "cell_type": "markdown",
      "source": [
        "# API\n",
        "- https://platform.openai.com/docs/guides/completion\n",
        "- https://platform.openai.com/docs/api-reference/completions\n",
        "- POST https://api.openai.com/v1/completions"
      ],
      "metadata": {
        "id": "YfnuUPTV0MF9"
      }
    },
    {
      "cell_type": "code",
      "source": [
        "response = openai.Completion.create(\n",
        "  model=\"text-davinci-003\",\n",
        "  prompt='誰是蔣萬安？',\n",
        "  temperature=0.5,\n",
        "  max_tokens=60,\n",
        "  top_p=0.3,\n",
        "  frequency_penalty=0.5,\n",
        "  presence_penalty=0.0\n",
        ")\n",
        "\n",
        "response['choices'][0]['text']"
      ],
      "metadata": {
        "colab": {
          "base_uri": "https://localhost:8080/",
          "height": 35
        },
        "id": "gFdApCSs9KBj",
        "outputId": "7e445abe-6d97-41f2-b51a-cad2f1b3c13d"
      },
      "execution_count": 3,
      "outputs": [
        {
          "output_type": "execute_result",
          "data": {
            "text/plain": [
              "'\\n\\n蔣萬安（1909年－1997年）是中華民國第十任總統，他於1988年5'"
            ],
            "application/vnd.google.colaboratory.intrinsic+json": {
              "type": "string"
            }
          },
          "metadata": {},
          "execution_count": 3
        }
      ]
    },
    {
      "cell_type": "code",
      "source": [
        "import requests, json\n",
        "openai_api = 'https://api.openai.com/v1/completions'\n",
        "headers = {\n",
        "    \"Content-Type\": \"application/json\",\n",
        "    \"Authorization\": f'Bearer {OPENAI_API_KEY}'}\n",
        "payload = json.dumps({\n",
        "  \"model\": \"text-davinci-003\",\n",
        "  \"prompt\": \"誰是蔣萬安\",\n",
        "  \"temperature\": 0.5,\n",
        "  \"max_tokens\": 60,\n",
        "  \"top_p\": 0.3,\n",
        "  \"frequency_penalty\": 0.5,\n",
        "  \"presence_penalty\": 0.0})\n",
        "\n",
        "r = requests.post(openai_api, headers=headers, data=payload)\n",
        "\n",
        "json.loads(r.text)['choices'][0]['text']"
      ],
      "metadata": {
        "colab": {
          "base_uri": "https://localhost:8080/",
          "height": 35
        },
        "id": "Il_hQDcdowVV",
        "outputId": "13d792d9-f2df-4b23-cb3a-fc4c79205c28"
      },
      "execution_count": 4,
      "outputs": [
        {
          "output_type": "execute_result",
          "data": {
            "text/plain": [
              "'\\n\\n蔣萬安（1909年－1997年）是中華民國第十任總統，也是中國共'"
            ],
            "application/vnd.google.colaboratory.intrinsic+json": {
              "type": "string"
            }
          },
          "metadata": {},
          "execution_count": 4
        }
      ]
    },
    {
      "cell_type": "markdown",
      "source": [
        "# Chat API\n",
        "- Using the OpenAI Chat API, you can build your own applications with gpt-3.5-turbo and gpt-4\n",
        "- https://platform.openai.com/docs/guides/chat\n",
        "- https://platform.openai.com/docs/api-reference/chat\n",
        "- POST https://api.openai.com/v1/chat/completions"
      ],
      "metadata": {
        "id": "f5IaVLoNypx2"
      }
    },
    {
      "cell_type": "code",
      "source": [
        "completion = openai.ChatCompletion.create(\n",
        "  model=\"gpt-4\",\n",
        "  messages=[\n",
        "    {\"role\": \"user\", \"content\": \"Hello!\"}\n",
        "  ]\n",
        ")\n",
        "\n",
        "print(completion.choices[0].message)"
      ],
      "metadata": {
        "id": "YmaEm2XV3tV7",
        "outputId": "868e5260-ba68-4f54-b036-ce0e551e1702",
        "colab": {
          "base_uri": "https://localhost:8080/"
        }
      },
      "execution_count": 5,
      "outputs": [
        {
          "output_type": "stream",
          "name": "stdout",
          "text": [
            "{\n",
            "  \"content\": \"Hello! How can I help you today?\",\n",
            "  \"role\": \"assistant\"\n",
            "}\n"
          ]
        }
      ]
    }
  ]
}