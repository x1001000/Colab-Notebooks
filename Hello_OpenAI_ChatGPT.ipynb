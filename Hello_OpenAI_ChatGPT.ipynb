{
  "nbformat": 4,
  "nbformat_minor": 0,
  "metadata": {
    "colab": {
      "provenance": [],
      "authorship_tag": "ABX9TyM9gT7rjJ722EnRfb3dfhBN",
      "include_colab_link": true
    },
    "kernelspec": {
      "name": "python3",
      "display_name": "Python 3"
    },
    "language_info": {
      "name": "python"
    }
  },
  "cells": [
    {
      "cell_type": "markdown",
      "metadata": {
        "id": "view-in-github",
        "colab_type": "text"
      },
      "source": [
        "<a href=\"https://colab.research.google.com/github/x1001000/Colab-Notebooks/blob/main/Hello_OpenAI_ChatGPT.ipynb\" target=\"_parent\"><img src=\"https://colab.research.google.com/assets/colab-badge.svg\" alt=\"Open In Colab\"/></a>"
      ]
    },
    {
      "cell_type": "code",
      "source": [
        "!pip install openai --quiet"
      ],
      "metadata": {
        "colab": {
          "base_uri": "https://localhost:8080/"
        },
        "id": "8NxLs7m56Ho8",
        "outputId": "791929ec-ff6d-447c-9e88-8a00eef735bc"
      },
      "execution_count": 2,
      "outputs": [
        {
          "output_type": "stream",
          "name": "stdout",
          "text": [
            "\u001b[?25l\r\u001b[K     |███████▎                        | 10 kB 20.1 MB/s eta 0:00:01\r\u001b[K     |██████████████▋                 | 20 kB 11.1 MB/s eta 0:00:01\r\u001b[K     |██████████████████████          | 30 kB 9.0 MB/s eta 0:00:01\r\u001b[K     |█████████████████████████████▏  | 40 kB 4.7 MB/s eta 0:00:01\r\u001b[K     |████████████████████████████████| 44 kB 998 kB/s \n",
            "\u001b[?25h  Installing build dependencies ... \u001b[?25l\u001b[?25hdone\n",
            "  Getting requirements to build wheel ... \u001b[?25l\u001b[?25hdone\n",
            "    Preparing wheel metadata ... \u001b[?25l\u001b[?25hdone\n",
            "\u001b[K     |████████████████████████████████| 146 kB 11.3 MB/s \n",
            "\u001b[?25h  Building wheel for openai (PEP 517) ... \u001b[?25l\u001b[?25hdone\n"
          ]
        }
      ]
    },
    {
      "cell_type": "code",
      "source": [
        "import openai\n",
        "openai.api_key = OPENAI_API_KEY\n",
        "\n",
        "response = openai.Completion.create(\n",
        "  model=\"text-davinci-003\",\n",
        "  prompt='誰是蔣萬安？',\n",
        "  temperature=0.5,\n",
        "  max_tokens=60,\n",
        "  top_p=0.3,\n",
        "  frequency_penalty=0.5,\n",
        "  presence_penalty=0.0\n",
        ")\n",
        "\n",
        "response['choices'][0]['text']"
      ],
      "metadata": {
        "colab": {
          "base_uri": "https://localhost:8080/",
          "height": 35
        },
        "id": "gFdApCSs9KBj",
        "outputId": "5ba9d97d-4091-4d90-d648-b5e9bfe8af3a"
      },
      "execution_count": 3,
      "outputs": [
        {
          "output_type": "execute_result",
          "data": {
            "text/plain": [
              "'\\n\\n蔣萬安（1903年-1997年）是中華民國第三任總統，也是中國共產'"
            ],
            "application/vnd.google.colaboratory.intrinsic+json": {
              "type": "string"
            }
          },
          "metadata": {},
          "execution_count": 3
        }
      ]
    },
    {
      "cell_type": "code",
      "source": [
        "import requests, json\n",
        "openai_api = 'https://api.openai.com/v1/completions'\n",
        "headers = {\n",
        "    \"Content-Type\": \"application/json\",\n",
        "    \"Authorization\": f'Bearer {OPENAI_API_KEY}'}\n",
        "payload = json.dumps({\n",
        "  \"model\": \"text-davinci-003\",\n",
        "  \"prompt\": \"誰是蔣萬安\",\n",
        "  \"temperature\": 0.5,\n",
        "  \"max_tokens\": 60,\n",
        "  \"top_p\": 0.3,\n",
        "  \"frequency_penalty\": 0.5,\n",
        "  \"presence_penalty\": 0.0})\n",
        "\n",
        "r = requests.post(openai_api, headers=headers, data=payload)\n",
        "\n",
        "json.loads(r.text)['choices'][0]['text']"
      ],
      "metadata": {
        "colab": {
          "base_uri": "https://localhost:8080/",
          "height": 35
        },
        "id": "Il_hQDcdowVV",
        "outputId": "3551d9bd-7a75-4e73-ce59-1024bc9b4bef"
      },
      "execution_count": 4,
      "outputs": [
        {
          "output_type": "execute_result",
          "data": {
            "text/plain": [
              "'\\n\\n蔣萬安（1910-2000）是中華民國第六任總統，他於1978年3月1日就'"
            ],
            "application/vnd.google.colaboratory.intrinsic+json": {
              "type": "string"
            }
          },
          "metadata": {},
          "execution_count": 4
        }
      ]
    }
  ]
}