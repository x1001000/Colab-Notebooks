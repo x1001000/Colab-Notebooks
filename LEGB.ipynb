{
  "cells": [
    {
      "cell_type": "markdown",
      "metadata": {
        "colab_type": "text",
        "id": "view-in-github"
      },
      "source": [
        "<a href=\"https://colab.research.google.com/github/x1001000/Colab-Notebooks/blob/master/LEGB.ipynb\" target=\"_parent\"><img src=\"https://colab.research.google.com/assets/colab-badge.svg\" alt=\"Open In Colab\"/></a>"
      ]
    },
    {
      "cell_type": "code",
      "execution_count": 1,
      "metadata": {
        "id": "E5GONCI1Wh_z"
      },
      "outputs": [],
      "source": [
        "F = [lambda x : y for y in range(4)]\n",
        "y = None"
      ]
    },
    {
      "cell_type": "code",
      "execution_count": 2,
      "metadata": {
        "colab": {
          "base_uri": "https://localhost:8080/"
        },
        "id": "cnctdk6WWnpu",
        "outputId": "990f5291-5fd3-4959-d306-76cd211a4e68"
      },
      "outputs": [
        {
          "data": {
            "text/plain": [
              "[3, 3, 3, 3]"
            ]
          },
          "execution_count": 2,
          "metadata": {
            "tags": []
          },
          "output_type": "execute_result"
        }
      ],
      "source": [
        "[F[i](x=1001000) for i in range(4)]"
      ]
    },
    {
      "cell_type": "code",
      "execution_count": 3,
      "metadata": {
        "id": "8U9aShHbWeXj"
      },
      "outputs": [],
      "source": [
        "F = [lambda x, y=y : y for y in range(4)]\n",
        "y = None"
      ]
    },
    {
      "cell_type": "code",
      "execution_count": 4,
      "metadata": {
        "colab": {
          "base_uri": "https://localhost:8080/"
        },
        "id": "7wKw67X5W7JJ",
        "outputId": "d975b250-977d-4169-9df7-a4c90a72329f"
      },
      "outputs": [
        {
          "data": {
            "text/plain": [
              "[0, 1, 2, 3]"
            ]
          },
          "execution_count": 4,
          "metadata": {
            "tags": []
          },
          "output_type": "execute_result"
        }
      ],
      "source": [
        "[F[i](x=1001000) for i in range(4)]"
      ]
    }
  ],
  "metadata": {
    "colab": {
      "authorship_tag": "ABX9TyPt+dpW54bQppk0tyZ5ISRh",
      "include_colab_link": true,
      "name": "LEGB",
      "provenance": []
    },
    "kernelspec": {
      "display_name": "Python 3",
      "name": "python3"
    },
    "language_info": {
      "name": "python"
    }
  },
  "nbformat": 4,
  "nbformat_minor": 0
}
