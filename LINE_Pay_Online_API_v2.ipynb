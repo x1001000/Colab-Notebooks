{
  "nbformat": 4,
  "nbformat_minor": 0,
  "metadata": {
    "colab": {
      "provenance": [],
      "authorship_tag": "ABX9TyPSonOm0zYyg+fMoNwqlqIs",
      "include_colab_link": true
    },
    "kernelspec": {
      "name": "python3",
      "display_name": "Python 3"
    },
    "language_info": {
      "name": "python"
    }
  },
  "cells": [
    {
      "cell_type": "markdown",
      "metadata": {
        "id": "view-in-github",
        "colab_type": "text"
      },
      "source": [
        "<a href=\"https://colab.research.google.com/github/x1001000/Colab-Notebooks/blob/main/LINE_Pay_Online_API_v2.ipynb\" target=\"_parent\"><img src=\"https://colab.research.google.com/assets/colab-badge.svg\" alt=\"Open In Colab\"/></a>"
      ]
    },
    {
      "cell_type": "code",
      "execution_count": null,
      "metadata": {
        "id": "e8nxTL_anHRg"
      },
      "outputs": [],
      "source": [
        "import requests, json\n",
        "url = 'https://sandbox-api-pay.line.me/v2/payments'"
      ]
    },
    {
      "cell_type": "code",
      "source": [
        "headers = {\n",
        "    'Content-Type': 'application/json',\n",
        "    'X-LINE-ChannelId': '1657868427',\n",
        "    'X-LINE-ChannelSecret': '9506a76c4ebdaf8bf46f8382fa093310'}\n",
        "request_body = {\n",
        "    'amount': 1,\n",
        "    'currency': 'TWD', \n",
        "    'productName': '一問一答',\n",
        "    'productImageUrl': 'https://pyxis.nymag.com/v1/imgs/c73/8da/4f1916007da16612051135d0e8e9eae2bb-29-terminator-2-liquid-metal.rhorizontal.w700.jpg',\n",
        "    'confirmUrl': 'http://127.0.0.1:3000',\n",
        "    'orderId': 'Order20230212001'}\n",
        "r = requests.post(f'{url}/request', headers=headers, data=json.dumps(request_body))\n",
        "response_body = json.loads(r.text)\n",
        "transactionId = response_body['info']['transactionId']\n",
        "response_body"
      ],
      "metadata": {
        "colab": {
          "base_uri": "https://localhost:8080/"
        },
        "id": "f3vtaqa8EVCt",
        "outputId": "ca452c53-6404-4d9b-e637-f0be50265b11"
      },
      "execution_count": null,
      "outputs": [
        {
          "output_type": "execute_result",
          "data": {
            "text/plain": [
              "{'returnCode': '0000',\n",
              " 'returnMessage': 'Success.',\n",
              " 'info': {'paymentUrl': {'web': 'https://sandbox-web-pay.line.me/web/payment/wait?transactionReserveId=bGhHNGViQ013TTFRUGtnTzRGbzFPZzVhVS9NRXgvZmVvNXBBR0d4Yi9jeXNNZ3Z1T0ExTVR5cjhoZW1ZNVFKbw',\n",
              "   'app': 'line://pay/payment/bGhHNGViQ013TTFRUGtnTzRGbzFPZzVhVS9NRXgvZmVvNXBBR0d4Yi9jeXNNZ3Z1T0ExTVR5cjhoZW1ZNVFKbw'},\n",
              "  'transactionId': 2023021200748930410,\n",
              "  'paymentAccessToken': '141907695888'}}"
            ]
          },
          "metadata": {},
          "execution_count": 9
        }
      ]
    },
    {
      "cell_type": "code",
      "source": [
        "headers = {\n",
        "    'Content-Type': 'application/json',\n",
        "    'X-LINE-ChannelId': '1657868427',\n",
        "    'X-LINE-ChannelSecret': '9506a76c4ebdaf8bf46f8382fa093310',\n",
        "    'X-LINE-MerchantDeviceType': 'POS',\n",
        "    'X-LINE-MerchantDeviceProfileId': 'DUMMY'}\n",
        "request_body = {\n",
        "    'amount': 168,\n",
        "    'currency': 'TWD'}\n",
        "r = requests.post(f'{url}/{transactionId}/confirm', headers=headers, data=json.dumps(request_body))\n",
        "response_body = json.loads(r.text)\n",
        "response_body"
      ],
      "metadata": {
        "colab": {
          "base_uri": "https://localhost:8080/"
        },
        "id": "hhnFt7cwlOzu",
        "outputId": "6cebcd6c-6d6a-426d-c637-3ff7b0d4ebec"
      },
      "execution_count": null,
      "outputs": [
        {
          "output_type": "execute_result",
          "data": {
            "text/plain": [
              "{'returnCode': '1172', 'returnMessage': 'Existing same orderId.'}"
            ]
          },
          "metadata": {},
          "execution_count": 16
        }
      ]
    }
  ]
}