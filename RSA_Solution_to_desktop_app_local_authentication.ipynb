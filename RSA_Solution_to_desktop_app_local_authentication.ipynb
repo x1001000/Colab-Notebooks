{
  "nbformat": 4,
  "nbformat_minor": 0,
  "metadata": {
    "colab": {
      "name": "RSA Solution to desktop app local authentication",
      "provenance": [],
      "authorship_tag": "ABX9TyPXGuIfLblsAoJFlowYWoBZ",
      "include_colab_link": true
    },
    "kernelspec": {
      "name": "python3",
      "display_name": "Python 3"
    },
    "language_info": {
      "name": "python"
    }
  },
  "cells": [
    {
      "cell_type": "markdown",
      "metadata": {
        "id": "view-in-github",
        "colab_type": "text"
      },
      "source": [
        "<a href=\"https://colab.research.google.com/github/x1001000/Python_snippets/blob/master/RSA_Solution_to_desktop_app_local_authentication.ipynb\" target=\"_parent\"><img src=\"https://colab.research.google.com/assets/colab-badge.svg\" alt=\"Open In Colab\"/></a>"
      ]
    },
    {
      "cell_type": "code",
      "metadata": {
        "id": "i4inVsuhRwiA",
        "cellView": "form"
      },
      "source": [
        "#@title 桌面應用程式地端身份驗證\n",
        "\n",
        "#@markdown 初始帳密 H01 pass5566 為例\n",
        "\n",
        "帳號 = \"\" #@param {type:\"string\"}\n",
        "密碼 = \"\" #@param {type:\"string\"}"
      ],
      "execution_count": null,
      "outputs": []
    },
    {
      "cell_type": "code",
      "metadata": {
        "id": "EQV4Jsn8VyKa"
      },
      "source": [
        "# RSA\n",
        "p = 44819\n",
        "q = 37313\n",
        "d = 38029\n",
        "e = 43973\n",
        "(e * d) % ((p - 1)*(q - 1))\n",
        "N = p * q"
      ],
      "execution_count": null,
      "outputs": []
    },
    {
      "cell_type": "code",
      "metadata": {
        "id": "GxbdwvK1Upbt"
      },
      "source": [
        "public_key = N, e # then private key is N, d\n",
        "default_cipher = [\n",
        " 1263106135,\n",
        " 1106100322,\n",
        " 861072999,\n",
        " 186841657,\n",
        " 162364584,\n",
        " 195215417,\n",
        " 195215417,\n",
        " 96249578,\n",
        " 96249578,\n",
        " 1497532903,\n",
        " 1497532903]"
      ],
      "execution_count": null,
      "outputs": []
    },
    {
      "cell_type": "code",
      "metadata": {
        "id": "2Alwuf-HTeX-"
      },
      "source": [
        "plaintext = 帳號 + 密碼\n",
        "cipher = []\n",
        "for char in plaintext:\n",
        "    cipher.append(ord(char) ** e % N)"
      ],
      "execution_count": null,
      "outputs": []
    },
    {
      "cell_type": "code",
      "metadata": {
        "colab": {
          "base_uri": "https://localhost:8080/"
        },
        "id": "Jo4uLMs9VSy6",
        "outputId": "8bfe2375-990d-4e11-d0b6-60723636d9bf"
      },
      "source": [
        "cipher"
      ],
      "execution_count": null,
      "outputs": [
        {
          "output_type": "execute_result",
          "data": {
            "text/plain": [
              "[1263106135,\n",
              " 1106100322,\n",
              " 861072999,\n",
              " 186841657,\n",
              " 162364584,\n",
              " 195215417,\n",
              " 195215417,\n",
              " 96249578,\n",
              " 96249578,\n",
              " 1497532903,\n",
              " 1497532903]"
            ]
          },
          "metadata": {
            "tags": []
          },
          "execution_count": 48
        }
      ]
    },
    {
      "cell_type": "code",
      "metadata": {
        "colab": {
          "base_uri": "https://localhost:8080/"
        },
        "id": "poqFZ7y0acVD",
        "outputId": "4f7c5369-901f-4e28-d4d3-972c3d261cf3"
      },
      "source": [
        "cipher == default_cipher"
      ],
      "execution_count": null,
      "outputs": [
        {
          "output_type": "execute_result",
          "data": {
            "text/plain": [
              "True"
            ]
          },
          "metadata": {
            "tags": []
          },
          "execution_count": 49
        }
      ]
    },
    {
      "cell_type": "code",
      "metadata": {
        "id": "IQItLkRyW5uy"
      },
      "source": [
        "plain = []\n",
        "for codepoint in cipher:\n",
        "    plain.append( (codepoint ** d) % N )"
      ],
      "execution_count": null,
      "outputs": []
    },
    {
      "cell_type": "code",
      "metadata": {
        "colab": {
          "base_uri": "https://localhost:8080/"
        },
        "id": "X5jppL03ZMWE",
        "outputId": "7111244f-cde5-48f8-a0bd-4daab8f26938"
      },
      "source": [
        "plain"
      ],
      "execution_count": null,
      "outputs": [
        {
          "output_type": "execute_result",
          "data": {
            "text/plain": [
              "[72, 48, 49, 112, 97, 115, 115, 53, 53, 54, 54]"
            ]
          },
          "metadata": {
            "tags": []
          },
          "execution_count": 36
        }
      ]
    },
    {
      "cell_type": "code",
      "metadata": {
        "colab": {
          "base_uri": "https://localhost:8080/",
          "height": 35
        },
        "id": "SV0gMwxGYM6D",
        "outputId": "ece78a2d-9e98-4e34-9416-2ed39da223bc"
      },
      "source": [
        "''.join([chr(codepoint) for codepoint in plain])"
      ],
      "execution_count": null,
      "outputs": [
        {
          "output_type": "execute_result",
          "data": {
            "application/vnd.google.colaboratory.intrinsic+json": {
              "type": "string"
            },
            "text/plain": [
              "'H01pass5566'"
            ]
          },
          "metadata": {
            "tags": []
          },
          "execution_count": 40
        }
      ]
    }
  ]
}