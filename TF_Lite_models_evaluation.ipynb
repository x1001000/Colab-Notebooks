{
  "cells": [
    {
      "cell_type": "markdown",
      "metadata": {
        "id": "view-in-github",
        "colab_type": "text"
      },
      "source": [
        "<a href=\"https://colab.research.google.com/github/x1001000/Colab-Notebooks/blob/main/TF_Lite_models_evaluation.ipynb\" target=\"_parent\"><img src=\"https://colab.research.google.com/assets/colab-badge.svg\" alt=\"Open In Colab\"/></a>"
      ]
    },
    {
      "cell_type": "markdown",
      "source": [
        "# Download TF Lite models"
      ],
      "metadata": {
        "id": "GBvox_bsvo6E"
      }
    },
    {
      "cell_type": "code",
      "source": [
        "!gdown --fuzzy 'https://drive.google.com/file/d/1A0CuL6UerrbopTtDeHZWZmWnc8n4eC8c/view'\n",
        "!gdown --fuzzy 'https://drive.google.com/file/d/1A5YaEutUyJogCMBRGI5S4F3NbU0zVP6Q/view'"
      ],
      "metadata": {
        "id": "uktxe6ogqnYm",
        "outputId": "8d70a051-ee09-4630-f59b-6e8a521fd9ca",
        "colab": {
          "base_uri": "https://localhost:8080/"
        }
      },
      "execution_count": null,
      "outputs": [
        {
          "output_type": "stream",
          "name": "stdout",
          "text": [
            "Downloading...\n",
            "From: https://drive.google.com/uc?id=1A0CuL6UerrbopTtDeHZWZmWnc8n4eC8c\n",
            "To: /content/model_age_nonq.tflite\n",
            "100% 4.28M/4.28M [00:00<00:00, 27.4MB/s]\n",
            "Downloading...\n",
            "From: https://drive.google.com/uc?id=1A5YaEutUyJogCMBRGI5S4F3NbU0zVP6Q\n",
            "To: /content/model_age_q.tflite\n",
            "100% 2.14M/2.14M [00:00<00:00, 15.9MB/s]\n"
          ]
        }
      ]
    },
    {
      "cell_type": "markdown",
      "source": [
        "# Download UTKFace dataset"
      ],
      "metadata": {
        "id": "T-wAvtZDMiJZ"
      }
    },
    {
      "cell_type": "code",
      "source": [
        "!kaggle datasets download -d jangedoo/utkface-new\n",
        "!unzip utkface-new.zip -d dataset > unzip.log"
      ],
      "metadata": {
        "id": "6XRuzElFdYgU",
        "outputId": "09f81d42-2c40-445d-ef93-5efddf3f2da5",
        "colab": {
          "base_uri": "https://localhost:8080/"
        }
      },
      "execution_count": null,
      "outputs": [
        {
          "output_type": "stream",
          "name": "stdout",
          "text": [
            "Dataset URL: https://www.kaggle.com/datasets/jangedoo/utkface-new\n",
            "License(s): copyright-authors\n",
            "Downloading utkface-new.zip to /content\n",
            "100% 330M/331M [00:08<00:00, 25.4MB/s]\n",
            "100% 331M/331M [00:08<00:00, 41.4MB/s]\n"
          ]
        }
      ]
    },
    {
      "cell_type": "markdown",
      "source": [
        "# Select model to run inference"
      ],
      "metadata": {
        "id": "d-GP8r6oySHz"
      }
    },
    {
      "cell_type": "code",
      "source": [
        "Select = \"model_age_nonq.tflite\" # @param [\"model_age_nonq.tflite\", \"model_age_q.tflite\"]\n",
        "\n",
        "import tensorflow as tf\n",
        "\n",
        "# Load the TFLite model and allocate tensors.\n",
        "interpreter = tf.lite.Interpreter(model_path=Select)\n",
        "interpreter.allocate_tensors()\n",
        "\n",
        "# Get input and output tensors.\n",
        "input_details = interpreter.get_input_details()\n",
        "output_details = interpreter.get_output_details()\n",
        "\n",
        "input_shape = input_details[0]['shape']\n",
        "input_dtype = input_details[0]['dtype']\n",
        "\n",
        "import glob\n",
        "jpgs = glob.glob('dataset/UTKFace/*.jpg')\n",
        "print(f'Running inference on {len(jpgs)} files/faces in UTKFace dataset...')\n",
        "print()\n",
        "\n",
        "import time\n",
        "begin = time.time()\n",
        "y_true, y_pred = [], []\n",
        "for jpg in jpgs:\n",
        "    age, gender = map(int, jpg.split('/')[-1].split('_')[:2])\n",
        "    y_true.append(age)\n",
        "\n",
        "    # im = Image.open(jpg).resize(input_shape[1:3])\n",
        "    # image = np.asarray(im).astype(input_dtype) / 255\n",
        "    raw = tf.io.read_file(jpg)\n",
        "    image = tf.image.decode_jpeg(raw, channels=3)\n",
        "    image = tf.image.resize(image, input_shape[1:3]) / 255\n",
        "\n",
        "    # input_data = image.reshape(input_shape)\n",
        "    input_data = tf.reshape(image, input_shape)\n",
        "    interpreter.set_tensor(input_details[0]['index'], input_data)\n",
        "\n",
        "    interpreter.invoke()\n",
        "\n",
        "    # The function `get_tensor()` returns a copy of the tensor data.\n",
        "    # Use `tensor()` in order to get a pointer to the tensor.\n",
        "    output_data = interpreter.get_tensor(output_details[0]['index'])\n",
        "    estimated_age = output_data[0][0] * 116\n",
        "    y_pred.append(estimated_age)\n",
        "\n",
        "elapsed = time.time() - begin\n",
        "print(f'Inference time: {elapsed:.1f} seconds')\n",
        "print(f'Inference speed: {len(jpgs)/elapsed:.1f} FPS')\n",
        "print()\n",
        "\n",
        "MAE = tf.keras.losses.MAE(y_true, y_pred).numpy()\n",
        "print(f'MAE: {MAE:.3f} yrs')\n",
        "RMSE = tf.keras.losses.MSE(y_true, y_pred).numpy() ** 0.5\n",
        "print(f'RMSE: {RMSE:.3f} yrs')"
      ],
      "metadata": {
        "cellView": "form",
        "id": "foPd813sFjlw",
        "colab": {
          "base_uri": "https://localhost:8080/"
        },
        "outputId": "d5cf9a9f-571a-4853-9f81-c35e410146d0"
      },
      "execution_count": null,
      "outputs": [
        {
          "output_type": "stream",
          "name": "stdout",
          "text": [
            "Running inference on 23708 files/faces in UTKFace dataset...\n",
            "\n",
            "Inference time: 222.2 seconds\n",
            "Inference speed: 106.7 FPS\n",
            "\n",
            "MAE: 2.762 yrs\n",
            "RMSE: 4.259 yrs\n"
          ]
        }
      ]
    },
    {
      "cell_type": "markdown",
      "source": [
        "# Select model to run inference"
      ],
      "metadata": {
        "id": "QYTHovAzHB2e"
      }
    },
    {
      "cell_type": "code",
      "source": [
        "Select = \"model_age_q.tflite\" # @param [\"model_age_nonq.tflite\", \"model_age_q.tflite\"]\n",
        "\n",
        "import tensorflow as tf\n",
        "\n",
        "# Load the TFLite model and allocate tensors.\n",
        "interpreter = tf.lite.Interpreter(model_path=Select)\n",
        "interpreter.allocate_tensors()\n",
        "\n",
        "# Get input and output tensors.\n",
        "input_details = interpreter.get_input_details()\n",
        "output_details = interpreter.get_output_details()\n",
        "\n",
        "input_shape = input_details[0]['shape']\n",
        "input_dtype = input_details[0]['dtype']\n",
        "\n",
        "import glob\n",
        "jpgs = glob.glob('dataset/UTKFace/*.jpg')\n",
        "print(f'Running inference on {len(jpgs)} files/faces in UTKFace dataset...')\n",
        "print()\n",
        "\n",
        "import time\n",
        "begin = time.time()\n",
        "y_true, y_pred = [], []\n",
        "for jpg in jpgs:\n",
        "    age, gender = map(int, jpg.split('/')[-1].split('_')[:2])\n",
        "    y_true.append(age)\n",
        "\n",
        "    # im = Image.open(jpg).resize(input_shape[1:3])\n",
        "    # image = np.asarray(im).astype(input_dtype) / 255\n",
        "    raw = tf.io.read_file(jpg)\n",
        "    image = tf.image.decode_jpeg(raw, channels=3)\n",
        "    image = tf.image.resize(image, input_shape[1:3]) / 255\n",
        "\n",
        "    # input_data = image.reshape(input_shape)\n",
        "    input_data = tf.reshape(image, input_shape)\n",
        "    interpreter.set_tensor(input_details[0]['index'], input_data)\n",
        "\n",
        "    interpreter.invoke()\n",
        "\n",
        "    # The function `get_tensor()` returns a copy of the tensor data.\n",
        "    # Use `tensor()` in order to get a pointer to the tensor.\n",
        "    output_data = interpreter.get_tensor(output_details[0]['index'])\n",
        "    estimated_age = output_data[0][0] * 116\n",
        "    y_pred.append(estimated_age)\n",
        "\n",
        "elapsed = time.time() - begin\n",
        "print(f'Inference time: {elapsed:.1f} seconds')\n",
        "print(f'Inference speed: {len(jpgs)/elapsed:.1f} FPS')\n",
        "print()\n",
        "\n",
        "MAE = tf.keras.losses.MAE(y_true, y_pred).numpy()\n",
        "print(f'MAE: {MAE:.3f} yrs')\n",
        "RMSE = tf.keras.losses.MSE(y_true, y_pred).numpy() ** 0.5\n",
        "print(f'RMSE: {RMSE:.3f} yrs')"
      ],
      "metadata": {
        "cellView": "form",
        "id": "3AFNT4RpHB2r",
        "colab": {
          "base_uri": "https://localhost:8080/"
        },
        "outputId": "6046fa7f-0f6c-44e1-b39d-559a128d6ed4"
      },
      "execution_count": null,
      "outputs": [
        {
          "output_type": "stream",
          "name": "stdout",
          "text": [
            "Running inference on 23708 files/faces in UTKFace dataset...\n",
            "\n",
            "Inference time: 211.6 seconds\n",
            "Inference speed: 112.1 FPS\n",
            "\n",
            "MAE: 2.763 yrs\n",
            "RMSE: 4.260 yrs\n"
          ]
        }
      ]
    },
    {
      "cell_type": "markdown",
      "source": [
        "# GPU spec for reference"
      ],
      "metadata": {
        "id": "ukHpUjpI945i"
      }
    },
    {
      "cell_type": "code",
      "source": [
        "!nvidia-smi -L"
      ],
      "metadata": {
        "id": "xo33cXlt-wnv",
        "outputId": "ad8c6c63-f03b-4178-acad-b449aad40acf",
        "colab": {
          "base_uri": "https://localhost:8080/"
        }
      },
      "execution_count": null,
      "outputs": [
        {
          "output_type": "stream",
          "name": "stdout",
          "text": [
            "GPU 0: Tesla T4 (UUID: GPU-d2dbf6f4-b188-d558-91bc-646ee4d414a6)\n"
          ]
        }
      ]
    }
  ],
  "metadata": {
    "accelerator": "GPU",
    "colab": {
      "provenance": [],
      "include_colab_link": true
    },
    "kernelspec": {
      "display_name": "Python 3",
      "name": "python3"
    }
  },
  "nbformat": 4,
  "nbformat_minor": 0
}