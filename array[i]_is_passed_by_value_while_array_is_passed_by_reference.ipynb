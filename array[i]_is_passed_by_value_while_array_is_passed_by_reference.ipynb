{
  "nbformat": 4,
  "nbformat_minor": 0,
  "metadata": {
    "colab": {
      "name": "array[i] is passed by value while array is passed by reference",
      "provenance": [],
      "authorship_tag": "ABX9TyNKuoKWpAJGXHWYQdH5iXl6",
      "include_colab_link": true
    },
    "kernelspec": {
      "name": "python3",
      "display_name": "Python 3"
    },
    "language_info": {
      "name": "python"
    }
  },
  "cells": [
    {
      "cell_type": "markdown",
      "metadata": {
        "id": "view-in-github",
        "colab_type": "text"
      },
      "source": [
        "<a href=\"https://colab.research.google.com/github/x1001000/Python_snippets/blob/master/array%5Bi%5D_is_passed_by_value_while_array_is_passed_by_reference.ipynb\" target=\"_parent\"><img src=\"https://colab.research.google.com/assets/colab-badge.svg\" alt=\"Open In Colab\"/></a>"
      ]
    },
    {
      "cell_type": "code",
      "execution_count": 1,
      "metadata": {
        "id": "jDaDNS1nyuEj"
      },
      "outputs": [],
      "source": [
        "import numpy as np\n",
        "array = np.arange(20).reshape(2,5,2)"
      ]
    },
    {
      "cell_type": "code",
      "source": [
        "x = array[0]\n",
        "y = array[0]\n",
        "x is y"
      ],
      "metadata": {
        "colab": {
          "base_uri": "https://localhost:8080/"
        },
        "id": "uYE5FyW50pGp",
        "outputId": "2b968716-271b-4d0e-fdd6-8dda1682eefb"
      },
      "execution_count": 2,
      "outputs": [
        {
          "output_type": "execute_result",
          "data": {
            "text/plain": [
              "False"
            ]
          },
          "metadata": {},
          "execution_count": 2
        }
      ]
    },
    {
      "cell_type": "code",
      "source": [
        "x = array\n",
        "y = array\n",
        "x is y"
      ],
      "metadata": {
        "colab": {
          "base_uri": "https://localhost:8080/"
        },
        "id": "p4dRYBuT0Qui",
        "outputId": "d9879255-a05a-407d-f25d-39d705c8234d"
      },
      "execution_count": 3,
      "outputs": [
        {
          "output_type": "execute_result",
          "data": {
            "text/plain": [
              "True"
            ]
          },
          "metadata": {},
          "execution_count": 3
        }
      ]
    }
  ]
}