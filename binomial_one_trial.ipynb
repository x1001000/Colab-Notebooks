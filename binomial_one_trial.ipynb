{
  "cells": [
    {
      "cell_type": "markdown",
      "metadata": {
        "colab_type": "text",
        "id": "view-in-github"
      },
      "source": [
        "<a href=\"https://colab.research.google.com/github/x1001000/Colab-Notebooks/blob/master/binomial_one_trial.ipynb\" target=\"_parent\"><img src=\"https://colab.research.google.com/assets/colab-badge.svg\" alt=\"Open In Colab\"/></a>"
      ]
    },
    {
      "cell_type": "markdown",
      "metadata": {
        "id": "HuoTq2DAp87H"
      },
      "source": [
        "https://numpy.org/doc/stable/reference/random/generated/numpy.random.binomial.html"
      ]
    },
    {
      "cell_type": "code",
      "execution_count": null,
      "metadata": {
        "colab": {
          "base_uri": "https://localhost:8080/"
        },
        "id": "TCr-cBdu-Fsr",
        "outputId": "3868d77a-8214-408c-f64c-b048feda731f",
        "vscode": {
          "languageId": "python"
        }
      },
      "outputs": [
        {
          "name": "stdout",
          "output_type": "stream",
          "text": [
            "[7 5 3 1 2 3 4 2 6 9 4 7 7 5 7 9 2 1 7 9 1 6 4 7 5 4 4 5 4 9]\n",
            "[4 2 9 6 6 8 3 0 4 7 2 5 2 5 5 9 5 8 2 4 5 5 4 2 3 9 1 9 5 7]\n",
            "[4 5 9 6 6 8 3 0 4 7 2 7 2 5 5 9 5 8 7 4 5 5 4 2 3 4 4 9 5 7]\n"
          ]
        }
      ],
      "source": [
        "import numpy as np\n",
        "\n",
        "length = 30\n",
        "pA = 0.2\n",
        "\n",
        "A = (np.random.sample(length) * 10).astype(int)\n",
        "B = (np.random.sample(length) * 10).astype(int)\n",
        "\n",
        "coA = np.random.binomial(1, pA, size=length)\n",
        "coB = np.array([1] * length) - coA\n",
        "\n",
        "print(A)\n",
        "print(B)\n",
        "print(A * coA + B * coB)"
      ]
    }
  ],
  "metadata": {
    "colab": {
      "authorship_tag": "ABX9TyNZide37ZE3Pavv0b9OiwS9",
      "collapsed_sections": [],
      "include_colab_link": true,
      "name": "binomial one trial",
      "provenance": []
    },
    "kernelspec": {
      "display_name": "Python 3",
      "name": "python3"
    }
  },
  "nbformat": 4,
  "nbformat_minor": 0
}
