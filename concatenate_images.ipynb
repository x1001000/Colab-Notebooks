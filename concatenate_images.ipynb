{
  "nbformat": 4,
  "nbformat_minor": 0,
  "metadata": {
    "colab": {
      "name": "concatenate images",
      "provenance": [],
      "collapsed_sections": [],
      "authorship_tag": "ABX9TyOj1hRekGvgiPfQsUKzzhXI",
      "include_colab_link": true
    },
    "kernelspec": {
      "name": "python3",
      "display_name": "Python 3"
    },
    "language_info": {
      "name": "python"
    }
  },
  "cells": [
    {
      "cell_type": "markdown",
      "metadata": {
        "id": "view-in-github",
        "colab_type": "text"
      },
      "source": [
        "<a href=\"https://colab.research.google.com/github/x1001000/Python_snippets/blob/master/concatenate_images.ipynb\" target=\"_parent\"><img src=\"https://colab.research.google.com/assets/colab-badge.svg\" alt=\"Open In Colab\"/></a>"
      ]
    },
    {
      "cell_type": "code",
      "metadata": {
        "id": "BzQ5n0dlzigz"
      },
      "source": [
        "from PIL import Image\n",
        "file1 = Image.open('1.png')\n",
        "file2 = Image.open('2.png')\n",
        "file3 = Image.open('3.png')\n",
        "file4 = Image.open('4.png')"
      ],
      "execution_count": null,
      "outputs": []
    },
    {
      "cell_type": "code",
      "metadata": {
        "id": "DQTFCctRzp0o"
      },
      "source": [
        "import numpy as np\n",
        "array1 = np.array(file1)\n",
        "array2 = np.array(file2)\n",
        "array3 = np.array(file3)\n",
        "array4 = np.array(file4)\n",
        "array = np.concatenate([array1,array2,array3,array4])"
      ],
      "execution_count": null,
      "outputs": []
    },
    {
      "cell_type": "code",
      "metadata": {
        "id": "J8Y81X9J3VsL"
      },
      "source": [
        "from matplotlib import image\n",
        "image.imsave('file.png', array)"
      ],
      "execution_count": null,
      "outputs": []
    }
  ]
}