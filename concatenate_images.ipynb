{
  "cells": [
    {
      "cell_type": "markdown",
      "metadata": {
        "colab_type": "text",
        "id": "view-in-github"
      },
      "source": [
        "<a href=\"https://colab.research.google.com/github/x1001000/Colab-Notebooks/blob/master/concatenate_images.ipynb\" target=\"_parent\"><img src=\"https://colab.research.google.com/assets/colab-badge.svg\" alt=\"Open In Colab\"/></a>"
      ]
    },
    {
      "cell_type": "code",
      "execution_count": null,
      "metadata": {
        "id": "BzQ5n0dlzigz"
      },
      "outputs": [],
      "source": [
        "from PIL import Image\n",
        "file1 = Image.open('1.png')\n",
        "file2 = Image.open('2.png')\n",
        "file3 = Image.open('3.png')\n",
        "file4 = Image.open('4.png')"
      ]
    },
    {
      "cell_type": "code",
      "execution_count": null,
      "metadata": {
        "id": "DQTFCctRzp0o"
      },
      "outputs": [],
      "source": [
        "import numpy as np\n",
        "array1 = np.array(file1)\n",
        "array2 = np.array(file2)\n",
        "array3 = np.array(file3)\n",
        "array4 = np.array(file4)\n",
        "array = np.concatenate([array1,array2,array3,array4])"
      ]
    },
    {
      "cell_type": "code",
      "execution_count": null,
      "metadata": {
        "id": "J8Y81X9J3VsL"
      },
      "outputs": [],
      "source": [
        "from matplotlib import image\n",
        "image.imsave('file.png', array)"
      ]
    }
  ],
  "metadata": {
    "colab": {
      "authorship_tag": "ABX9TyOj1hRekGvgiPfQsUKzzhXI",
      "collapsed_sections": [],
      "include_colab_link": true,
      "name": "concatenate images",
      "provenance": []
    },
    "kernelspec": {
      "display_name": "Python 3",
      "name": "python3"
    },
    "language_info": {
      "name": "python"
    }
  },
  "nbformat": 4,
  "nbformat_minor": 0
}
