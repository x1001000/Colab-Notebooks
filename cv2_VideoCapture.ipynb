{
  "nbformat": 4,
  "nbformat_minor": 0,
  "metadata": {
    "colab": {
      "name": "cv2.VideoCapture",
      "provenance": [],
      "authorship_tag": "ABX9TyPME8VSP7xUqWAIF7OvmMB2",
      "include_colab_link": true
    },
    "kernelspec": {
      "name": "python3",
      "display_name": "Python 3"
    },
    "language_info": {
      "name": "python"
    }
  },
  "cells": [
    {
      "cell_type": "markdown",
      "metadata": {
        "id": "view-in-github",
        "colab_type": "text"
      },
      "source": [
        "<a href=\"https://colab.research.google.com/github/x1001000/Python_snippets/blob/master/cv2_VideoCapture.ipynb\" target=\"_parent\"><img src=\"https://colab.research.google.com/assets/colab-badge.svg\" alt=\"Open In Colab\"/></a>"
      ]
    },
    {
      "cell_type": "code",
      "metadata": {
        "colab": {
          "base_uri": "https://localhost:8080/"
        },
        "id": "qxJvXB4zcKlU",
        "outputId": "d642d8d9-af8c-4f16-d813-60abd03f060c"
      },
      "source": [
        "# https://medium.com/ching-i/python-opencv-讀取顯示及儲存影像-影片-ee3701c454da\n",
        "import cv2\n",
        "cap = cv2.VideoCapture('file.mpg')\n",
        "cap.isOpened()"
      ],
      "execution_count": 1,
      "outputs": [
        {
          "output_type": "execute_result",
          "data": {
            "text/plain": [
              "True"
            ]
          },
          "metadata": {},
          "execution_count": 1
        }
      ]
    },
    {
      "cell_type": "code",
      "metadata": {
        "colab": {
          "base_uri": "https://localhost:8080/"
        },
        "id": "rUohs81Wi3AK",
        "outputId": "67fc831f-0392-417a-f31f-e9da91c53f0f"
      },
      "source": [
        "(\n",
        "cap.get(cv2.CAP_PROP_FRAME_WIDTH),\n",
        "cap.get(cv2.CAP_PROP_FRAME_HEIGHT)\n",
        ")"
      ],
      "execution_count": 6,
      "outputs": [
        {
          "output_type": "execute_result",
          "data": {
            "text/plain": [
              "(1280.0, 400.0)"
            ]
          },
          "metadata": {},
          "execution_count": 6
        }
      ]
    },
    {
      "cell_type": "code",
      "metadata": {
        "colab": {
          "base_uri": "https://localhost:8080/",
          "height": 35
        },
        "id": "bQuHyfjRjaTK",
        "outputId": "becf1d10-ea34-45fb-c72f-954085726545"
      },
      "source": [
        "f'{cap.get(cv2.CAP_PROP_FRAME_COUNT)} / {cap.get(cv2.CAP_PROP_FPS)}'"
      ],
      "execution_count": 9,
      "outputs": [
        {
          "output_type": "execute_result",
          "data": {
            "application/vnd.google.colaboratory.intrinsic+json": {
              "type": "string"
            },
            "text/plain": [
              "'1034.0 / 60.0'"
            ]
          },
          "metadata": {},
          "execution_count": 9
        }
      ]
    },
    {
      "cell_type": "code",
      "metadata": {
        "colab": {
          "base_uri": "https://localhost:8080/"
        },
        "id": "sI0qXcYrkDKd",
        "outputId": "5ab344ba-112f-46b8-c8c3-3867bedfacd0"
      },
      "source": [
        "cap.get(cv2.CAP_PROP_FRAME_COUNT) / cap.get(cv2.CAP_PROP_FPS)"
      ],
      "execution_count": 11,
      "outputs": [
        {
          "output_type": "execute_result",
          "data": {
            "text/plain": [
              "17.233333333333334"
            ]
          },
          "metadata": {},
          "execution_count": 11
        }
      ]
    }
  ]
}