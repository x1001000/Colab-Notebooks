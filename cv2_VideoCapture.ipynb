{
  "cells": [
    {
      "cell_type": "markdown",
      "metadata": {
        "colab_type": "text",
        "id": "view-in-github"
      },
      "source": [
        "<a href=\"https://colab.research.google.com/github/x1001000/Colab-Notebooks/blob/master/cv2_VideoCapture.ipynb\" target=\"_parent\"><img src=\"https://colab.research.google.com/assets/colab-badge.svg\" alt=\"Open In Colab\"/></a>"
      ]
    },
    {
      "cell_type": "code",
      "execution_count": 1,
      "metadata": {
        "colab": {
          "base_uri": "https://localhost:8080/"
        },
        "id": "qxJvXB4zcKlU",
        "outputId": "d642d8d9-af8c-4f16-d813-60abd03f060c"
      },
      "outputs": [
        {
          "data": {
            "text/plain": [
              "True"
            ]
          },
          "execution_count": 1,
          "metadata": {},
          "output_type": "execute_result"
        }
      ],
      "source": [
        "# https://medium.com/ching-i/python-opencv-讀取顯示及儲存影像-影片-ee3701c454da\n",
        "import cv2\n",
        "cap = cv2.VideoCapture('file.mpg')\n",
        "cap.isOpened()"
      ]
    },
    {
      "cell_type": "code",
      "execution_count": 6,
      "metadata": {
        "colab": {
          "base_uri": "https://localhost:8080/"
        },
        "id": "rUohs81Wi3AK",
        "outputId": "67fc831f-0392-417a-f31f-e9da91c53f0f"
      },
      "outputs": [
        {
          "data": {
            "text/plain": [
              "(1280.0, 400.0)"
            ]
          },
          "execution_count": 6,
          "metadata": {},
          "output_type": "execute_result"
        }
      ],
      "source": [
        "(\n",
        "cap.get(cv2.CAP_PROP_FRAME_WIDTH),\n",
        "cap.get(cv2.CAP_PROP_FRAME_HEIGHT)\n",
        ")"
      ]
    },
    {
      "cell_type": "code",
      "execution_count": 9,
      "metadata": {
        "colab": {
          "base_uri": "https://localhost:8080/",
          "height": 35
        },
        "id": "bQuHyfjRjaTK",
        "outputId": "becf1d10-ea34-45fb-c72f-954085726545"
      },
      "outputs": [
        {
          "data": {
            "application/vnd.google.colaboratory.intrinsic+json": {
              "type": "string"
            },
            "text/plain": [
              "'1034.0 / 60.0'"
            ]
          },
          "execution_count": 9,
          "metadata": {},
          "output_type": "execute_result"
        }
      ],
      "source": [
        "f'{cap.get(cv2.CAP_PROP_FRAME_COUNT)} / {cap.get(cv2.CAP_PROP_FPS)}'"
      ]
    },
    {
      "cell_type": "code",
      "execution_count": 11,
      "metadata": {
        "colab": {
          "base_uri": "https://localhost:8080/"
        },
        "id": "sI0qXcYrkDKd",
        "outputId": "5ab344ba-112f-46b8-c8c3-3867bedfacd0"
      },
      "outputs": [
        {
          "data": {
            "text/plain": [
              "17.233333333333334"
            ]
          },
          "execution_count": 11,
          "metadata": {},
          "output_type": "execute_result"
        }
      ],
      "source": [
        "cap.get(cv2.CAP_PROP_FRAME_COUNT) / cap.get(cv2.CAP_PROP_FPS)"
      ]
    }
  ],
  "metadata": {
    "colab": {
      "authorship_tag": "ABX9TyPME8VSP7xUqWAIF7OvmMB2",
      "include_colab_link": true,
      "name": "cv2.VideoCapture",
      "provenance": []
    },
    "kernelspec": {
      "display_name": "Python 3",
      "name": "python3"
    },
    "language_info": {
      "name": "python"
    }
  },
  "nbformat": 4,
  "nbformat_minor": 0
}
