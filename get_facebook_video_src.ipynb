{
  "nbformat": 4,
  "nbformat_minor": 0,
  "metadata": {
    "colab": {
      "provenance": [],
      "authorship_tag": "ABX9TyMi7x8ijX4IrOt+tYkzc5Zw",
      "include_colab_link": true
    },
    "kernelspec": {
      "name": "python3",
      "display_name": "Python 3"
    },
    "language_info": {
      "name": "python"
    }
  },
  "cells": [
    {
      "cell_type": "markdown",
      "metadata": {
        "id": "view-in-github",
        "colab_type": "text"
      },
      "source": [
        "<a href=\"https://colab.research.google.com/github/x1001000/Colab-Notebooks/blob/main/get_facebook_video_src.ipynb\" target=\"_parent\"><img src=\"https://colab.research.google.com/assets/colab-badge.svg\" alt=\"Open In Colab\"/></a>"
      ]
    },
    {
      "cell_type": "code",
      "source": [
        "!pip install selenium --quiet"
      ],
      "metadata": {
        "colab": {
          "base_uri": "https://localhost:8080/"
        },
        "id": "TmCW5y0w42Dd",
        "outputId": "774a90b6-6d77-45c0-d9c8-af4289f0e771"
      },
      "execution_count": 1,
      "outputs": [
        {
          "output_type": "stream",
          "name": "stdout",
          "text": [
            "\u001b[2K     \u001b[90m━━━━━━━━━━━━━━━━━━━━━━━━━━━━━━━━━━━━━━━━\u001b[0m \u001b[32m9.9/9.9 MB\u001b[0m \u001b[31m49.9 MB/s\u001b[0m eta \u001b[36m0:00:00\u001b[0m\n",
            "\u001b[2K     \u001b[90m━━━━━━━━━━━━━━━━━━━━━━━━━━━━━━━━━━━━━━━━\u001b[0m \u001b[32m400.2/400.2 kB\u001b[0m \u001b[31m35.7 MB/s\u001b[0m eta \u001b[36m0:00:00\u001b[0m\n",
            "\u001b[2K     \u001b[90m━━━━━━━━━━━━━━━━━━━━━━━━━━━━━━━━━━━━━━━━\u001b[0m \u001b[32m58.3/58.3 kB\u001b[0m \u001b[31m5.7 MB/s\u001b[0m eta \u001b[36m0:00:00\u001b[0m\n",
            "\u001b[?25h"
          ]
        }
      ]
    },
    {
      "cell_type": "code",
      "source": [
        "from selenium import webdriver\n",
        "options = webdriver.ChromeOptions()\n",
        "options.add_argument('--headless')\n",
        "options.add_argument('--no-sandbox')\n",
        "# options.add_argument('--disable-dev-shm-usage')\n",
        "driver = webdriver.Chrome(options=options)\n",
        "driver.implicitly_wait(10)\n",
        "options.binary_location"
      ],
      "metadata": {
        "colab": {
          "base_uri": "https://localhost:8080/",
          "height": 35
        },
        "id": "A8jwD1VQ46S2",
        "outputId": "cf2492e0-5d44-43d9-d3db-c740422d53f9"
      },
      "execution_count": 2,
      "outputs": [
        {
          "output_type": "execute_result",
          "data": {
            "text/plain": [
              "'/root/.cache/selenium/chrome/linux64/118.0.5993.70/chrome'"
            ],
            "application/vnd.google.colaboratory.intrinsic+json": {
              "type": "string"
            }
          },
          "metadata": {},
          "execution_count": 2
        }
      ]
    },
    {
      "cell_type": "code",
      "execution_count": 3,
      "metadata": {
        "id": "qulmtSUI34L3"
      },
      "outputs": [],
      "source": [
        "driver.get('https://www.facebook.com/MikeLloydGaming/videos/290580416907106/')\n",
        "# driver.page_source"
      ]
    },
    {
      "cell_type": "code",
      "source": [
        "import re\n",
        "m = re.search('browser_native_hd_url\":\"(.*)\",\"spherical_video_fallback_urls', driver.page_source)\n",
        "m.group(1).replace('\\\\u0025', '%').replace('\\\\', '')"
      ],
      "metadata": {
        "colab": {
          "base_uri": "https://localhost:8080/",
          "height": 105
        },
        "id": "IPbI-tAM66b-",
        "outputId": "0527dde0-7622-46ca-8c80-c220795b22bf"
      },
      "execution_count": 4,
      "outputs": [
        {
          "output_type": "execute_result",
          "data": {
            "text/plain": [
              "'https://video-iad3-1.xx.fbcdn.net/v/t39.25447-2/10000000_1435997067178833_348781011701590355_n.mp4?_nc_cat=107&vs=3a9166dc14e77e6e&_nc_vs=HBksFQAYJEdJQ1dtQUJSY3hZZkNCb0ZBRlBwMzNKN0h0Y0VibWRqQUFBRhUAAsgBABUAGCRHQVFPRnhiOTV6WkppX2dDQURIUFctSEthbUpBYnY0R0FBQUYVAgLIAQBLB4gScHJvZ3Jlc3NpdmVfcmVjaXBlATENc3Vic2FtcGxlX2ZwcwAQdm1hZl9lbmFibGVfbnN1YgAgbWVhc3VyZV9vcmlnaW5hbF9yZXNvbHV0aW9uX3NzaW0AKGNvbXB1dGVfc3NpbV9vbmx5X2F0X29yaWdpbmFsX3Jlc29sdXRpb24AHXVzZV9sYW5jem9zX2Zvcl92cW1fdXBzY2FsaW5nABFkaXNhYmxlX3Bvc3RfcHZxcwAVACUAHIwXQAAAAAAAAAAREQAAACbi2YScztSjAhUCKAJDMxgLdnRzX3ByZXZpZXccF0CRph2yLQ5WGCdkYXNoX3IyX2F2Y19nZW4xYXZjX2xjX3E5MF9mcmFnXzJfdmlkZW8SABgYdmlkZW9zLnZ0cy5jYWxsYmFjay5wcm9kOBJWSURFT19WSUVXX1JFUVVFU1QbCogVb2VtX3RhcmdldF9lbmNvZGVfdGFnBm9lcF9oZBNvZW1fcmVxdWVzdF90aW1lX21zATAMb2VtX2NmZ19ydWxlB3VubXV0ZWQTb2VtX3JvaV9yZWFjaF9jb3VudAU2MTE3NBFvZW1faXNfZXhwZXJpbWVudAAMb2VtX3ZpZGVvX2lkDzI5MDU4MDQxNjkwNzEwNhJvZW1fdmlkZW9fYXNzZXRfaWQPMjU5ODkwNTA2OTI5Mjg2FW9lbV92aWRlb19yZXNvdXJjZV9pZA82NDEzNjkzNzQ3NTg1MTMcb2VtX3NvdXJjZV92aWRlb19lbmNvZGluZ19pZA8yODI5MzAzODExMzEzMjcOdnRzX3JlcXVlc3RfaWQAJQIcACXEARsHiAFzBDMxMzQCY2QKMjAyMy0wOC0yNwNyY2IFNjExMDADYXBwBVZpZGVvAmN0GUNPTlRBSU5FRF9QT1NUX0FUVEFDSE1FTlQTb3JpZ2luYWxfZHVyYXRpb25fcwgxMTI5Ljg1OQJ0cxVwcm9ncmVzc2l2ZV9lbmNvZGluZ3MA&ccb=1-7&_nc_sid=894f7d&efg=eyJ2ZW5jb2RlX3RhZyI6Im9lcF9oZCJ9&_nc_ohc=BGMIIDY--mYAX9zi_CU&_nc_ht=video-iad3-1.xx&oh=00_AfBTgx2u-LmjZkO3sZu64a6Aa2NsENg87IKJqOO1znrzZQ&oe=652F3D8E&_nc_rid=577403922742271&_nc_store_type=0'"
            ],
            "application/vnd.google.colaboratory.intrinsic+json": {
              "type": "string"
            }
          },
          "metadata": {},
          "execution_count": 4
        }
      ]
    }
  ]
}