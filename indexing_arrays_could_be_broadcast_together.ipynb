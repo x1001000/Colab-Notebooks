{
  "nbformat": 4,
  "nbformat_minor": 0,
  "metadata": {
    "colab": {
      "name": "indexing arrays could be broadcast together",
      "provenance": [],
      "authorship_tag": "ABX9TyP8Tl9Npv+HtfiA3Her+qQ/",
      "include_colab_link": true
    },
    "kernelspec": {
      "name": "python3",
      "display_name": "Python 3"
    },
    "language_info": {
      "name": "python"
    }
  },
  "cells": [
    {
      "cell_type": "markdown",
      "metadata": {
        "id": "view-in-github",
        "colab_type": "text"
      },
      "source": [
        "<a href=\"https://colab.research.google.com/github/x1001000/Python_snippets/blob/master/indexing_arrays_could_be_broadcast_together.ipynb\" target=\"_parent\"><img src=\"https://colab.research.google.com/assets/colab-badge.svg\" alt=\"Open In Colab\"/></a>"
      ]
    },
    {
      "cell_type": "code",
      "execution_count": 1,
      "metadata": {
        "colab": {
          "base_uri": "https://localhost:8080/"
        },
        "id": "PtJXCK19pokE",
        "outputId": "abe047a5-c1b8-4f60-c3aa-5fe7ce6799a8"
      },
      "outputs": [
        {
          "output_type": "execute_result",
          "data": {
            "text/plain": [
              "array([[0, 1, 2, 3, 4],\n",
              "       [5, 6, 7, 8, 9]])"
            ]
          },
          "metadata": {},
          "execution_count": 1
        }
      ],
      "source": [
        "import numpy as np\n",
        "array = np.arange(10).reshape(2,5)\n",
        "array"
      ]
    },
    {
      "cell_type": "code",
      "source": [
        "array[(0,1,0,1,0,1), (2,3,4,4,3,2)]"
      ],
      "metadata": {
        "colab": {
          "base_uri": "https://localhost:8080/"
        },
        "id": "gua3Tc05qbRA",
        "outputId": "a99104e2-4188-4224-c53c-af8a95e43bcb"
      },
      "execution_count": 2,
      "outputs": [
        {
          "output_type": "execute_result",
          "data": {
            "text/plain": [
              "array([2, 8, 4, 9, 3, 7])"
            ]
          },
          "metadata": {},
          "execution_count": 2
        }
      ]
    }
  ]
}