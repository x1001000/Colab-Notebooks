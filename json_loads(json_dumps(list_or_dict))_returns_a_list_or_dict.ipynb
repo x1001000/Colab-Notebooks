{
  "nbformat": 4,
  "nbformat_minor": 0,
  "metadata": {
    "colab": {
      "name": "json.loads(json.dumps(list or dict)) returns a list or dict",
      "provenance": [],
      "authorship_tag": "ABX9TyPqz0Gf+Y/3STgdD1twYyFc",
      "include_colab_link": true
    },
    "kernelspec": {
      "name": "python3",
      "display_name": "Python 3"
    },
    "language_info": {
      "name": "python"
    }
  },
  "cells": [
    {
      "cell_type": "markdown",
      "metadata": {
        "id": "view-in-github",
        "colab_type": "text"
      },
      "source": [
        "<a href=\"https://colab.research.google.com/github/x1001000/Python_snippets/blob/master/json_loads(json_dumps(list_or_dict))_returns_a_list_or_dict.ipynb\" target=\"_parent\"><img src=\"https://colab.research.google.com/assets/colab-badge.svg\" alt=\"Open In Colab\"/></a>"
      ]
    },
    {
      "cell_type": "code",
      "metadata": {
        "colab": {
          "base_uri": "https://localhost:8080/"
        },
        "id": "IHv5nFiM6Pzm",
        "outputId": "024995d3-0c31-4549-ce56-437777a2035a"
      },
      "source": [
        "# https://docs.python.org/3/library/json.html\n",
        "import json\n",
        "x = ['foo', {'bar': ('baz', None, 1.0, 2)}]\n",
        "y = json.loads(json.dumps(x))\n",
        "x == y"
      ],
      "execution_count": 1,
      "outputs": [
        {
          "output_type": "execute_result",
          "data": {
            "text/plain": [
              "False"
            ]
          },
          "metadata": {
            "tags": []
          },
          "execution_count": 1
        }
      ]
    },
    {
      "cell_type": "code",
      "metadata": {
        "colab": {
          "base_uri": "https://localhost:8080/"
        },
        "id": "plAUg9JF6Vom",
        "outputId": "3453fd95-1cba-4951-8b40-0c2fff32e3ae"
      },
      "source": [
        "y[1]['bar'] = tuple(y[1]['bar'])\n",
        "x == y"
      ],
      "execution_count": 2,
      "outputs": [
        {
          "output_type": "execute_result",
          "data": {
            "text/plain": [
              "True"
            ]
          },
          "metadata": {
            "tags": []
          },
          "execution_count": 2
        }
      ]
    }
  ]
}