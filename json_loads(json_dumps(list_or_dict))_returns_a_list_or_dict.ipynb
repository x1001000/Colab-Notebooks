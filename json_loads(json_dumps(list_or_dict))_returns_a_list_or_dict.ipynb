{
  "cells": [
    {
      "cell_type": "markdown",
      "metadata": {
        "colab_type": "text",
        "id": "view-in-github"
      },
      "source": [
        "<a href=\"https://colab.research.google.com/github/x1001000/Colab-Notebooks/blob/master/json_loads(json_dumps(list_or_dict))_returns_a_list_or_dict.ipynb\" target=\"_parent\"><img src=\"https://colab.research.google.com/assets/colab-badge.svg\" alt=\"Open In Colab\"/></a>"
      ]
    },
    {
      "cell_type": "code",
      "execution_count": 1,
      "metadata": {
        "colab": {
          "base_uri": "https://localhost:8080/"
        },
        "id": "IHv5nFiM6Pzm",
        "outputId": "024995d3-0c31-4549-ce56-437777a2035a"
      },
      "outputs": [
        {
          "data": {
            "text/plain": [
              "False"
            ]
          },
          "execution_count": 1,
          "metadata": {
            "tags": []
          },
          "output_type": "execute_result"
        }
      ],
      "source": [
        "# https://docs.python.org/3/library/json.html\n",
        "import json\n",
        "x = ['foo', {'bar': ('baz', None, 1.0, 2)}]\n",
        "y = json.loads(json.dumps(x))\n",
        "x == y"
      ]
    },
    {
      "cell_type": "code",
      "execution_count": 2,
      "metadata": {
        "colab": {
          "base_uri": "https://localhost:8080/"
        },
        "id": "plAUg9JF6Vom",
        "outputId": "3453fd95-1cba-4951-8b40-0c2fff32e3ae"
      },
      "outputs": [
        {
          "data": {
            "text/plain": [
              "True"
            ]
          },
          "execution_count": 2,
          "metadata": {
            "tags": []
          },
          "output_type": "execute_result"
        }
      ],
      "source": [
        "y[1]['bar'] = tuple(y[1]['bar'])\n",
        "x == y"
      ]
    }
  ],
  "metadata": {
    "colab": {
      "authorship_tag": "ABX9TyPqz0Gf+Y/3STgdD1twYyFc",
      "include_colab_link": true,
      "name": "json.loads(json.dumps(list or dict)) returns a list or dict",
      "provenance": []
    },
    "kernelspec": {
      "display_name": "Python 3",
      "name": "python3"
    },
    "language_info": {
      "name": "python"
    }
  },
  "nbformat": 4,
  "nbformat_minor": 0
}
