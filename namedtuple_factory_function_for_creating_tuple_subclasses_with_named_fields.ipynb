{
  "cells": [
    {
      "cell_type": "markdown",
      "metadata": {
        "colab_type": "text",
        "id": "view-in-github"
      },
      "source": [
        "<a href=\"https://colab.research.google.com/github/x1001000/Colab-Notebooks/blob/master/namedtuple_factory_function_for_creating_tuple_subclasses_with_named_fields.ipynb\" target=\"_parent\"><img src=\"https://colab.research.google.com/assets/colab-badge.svg\" alt=\"Open In Colab\"/></a>"
      ]
    },
    {
      "cell_type": "markdown",
      "metadata": {
        "id": "I3Qy3D5e_u3L"
      },
      "source": [
        "# https://github.com/python/cpython/blob/3.7/Lib/collections/__init__.py#L316"
      ]
    },
    {
      "cell_type": "code",
      "execution_count": 1,
      "metadata": {
        "id": "fHhVdch58DyH"
      },
      "outputs": [],
      "source": [
        "from collections import namedtuple"
      ]
    },
    {
      "cell_type": "code",
      "execution_count": 2,
      "metadata": {
        "colab": {
          "base_uri": "https://localhost:8080/"
        },
        "id": "WvRKYJBj9xma",
        "outputId": "2d0a7370-7390-4f78-dda6-c01366237c16"
      },
      "outputs": [
        {
          "data": {
            "text/plain": [
              "function"
            ]
          },
          "execution_count": 2,
          "metadata": {},
          "output_type": "execute_result"
        }
      ],
      "source": [
        "type(namedtuple)"
      ]
    },
    {
      "cell_type": "code",
      "execution_count": 3,
      "metadata": {
        "id": "eIONFNBN91q9"
      },
      "outputs": [],
      "source": [
        "Point = namedtuple('P', ['x', 'y'])"
      ]
    },
    {
      "cell_type": "code",
      "execution_count": 4,
      "metadata": {
        "colab": {
          "base_uri": "https://localhost:8080/"
        },
        "id": "gA7cl7jy-Txp",
        "outputId": "0829b060-fb5d-420d-f650-d244bfefbd12"
      },
      "outputs": [
        {
          "data": {
            "text/plain": [
              "type"
            ]
          },
          "execution_count": 4,
          "metadata": {},
          "output_type": "execute_result"
        }
      ],
      "source": [
        "type(Point)"
      ]
    },
    {
      "cell_type": "code",
      "execution_count": 5,
      "metadata": {
        "id": "h4G7Jq5D-ZXU"
      },
      "outputs": [],
      "source": [
        "point = Point(100, 1000)"
      ]
    },
    {
      "cell_type": "code",
      "execution_count": 6,
      "metadata": {
        "colab": {
          "base_uri": "https://localhost:8080/"
        },
        "id": "z4ffo0io-rmz",
        "outputId": "bd57ba24-72fc-4fd8-95d0-5782a5849f43"
      },
      "outputs": [
        {
          "data": {
            "text/plain": [
              "P(x=100, y=1000)"
            ]
          },
          "execution_count": 6,
          "metadata": {},
          "output_type": "execute_result"
        }
      ],
      "source": [
        "point"
      ]
    }
  ],
  "metadata": {
    "colab": {
      "authorship_tag": "ABX9TyPDXegavytacdG9G3B2xXxJ",
      "include_colab_link": true,
      "name": "namedtuple: factory function for creating tuple subclasses with named fields",
      "provenance": []
    },
    "kernelspec": {
      "display_name": "Python 3",
      "name": "python3"
    },
    "language_info": {
      "name": "python"
    }
  },
  "nbformat": 4,
  "nbformat_minor": 0
}
