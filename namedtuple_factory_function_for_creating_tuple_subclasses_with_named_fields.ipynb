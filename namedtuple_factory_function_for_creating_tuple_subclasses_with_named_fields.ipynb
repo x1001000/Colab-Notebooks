{
  "nbformat": 4,
  "nbformat_minor": 0,
  "metadata": {
    "colab": {
      "name": "namedtuple: factory function for creating tuple subclasses with named fields",
      "provenance": [],
      "authorship_tag": "ABX9TyPDXegavytacdG9G3B2xXxJ",
      "include_colab_link": true
    },
    "kernelspec": {
      "name": "python3",
      "display_name": "Python 3"
    },
    "language_info": {
      "name": "python"
    }
  },
  "cells": [
    {
      "cell_type": "markdown",
      "metadata": {
        "id": "view-in-github",
        "colab_type": "text"
      },
      "source": [
        "<a href=\"https://colab.research.google.com/github/x1001000/Python_snippets/blob/master/namedtuple_factory_function_for_creating_tuple_subclasses_with_named_fields.ipynb\" target=\"_parent\"><img src=\"https://colab.research.google.com/assets/colab-badge.svg\" alt=\"Open In Colab\"/></a>"
      ]
    },
    {
      "cell_type": "markdown",
      "metadata": {
        "id": "I3Qy3D5e_u3L"
      },
      "source": [
        "# https://github.com/python/cpython/blob/3.7/Lib/collections/__init__.py#L316"
      ]
    },
    {
      "cell_type": "code",
      "metadata": {
        "id": "fHhVdch58DyH"
      },
      "source": [
        "from collections import namedtuple"
      ],
      "execution_count": 1,
      "outputs": []
    },
    {
      "cell_type": "code",
      "metadata": {
        "colab": {
          "base_uri": "https://localhost:8080/"
        },
        "id": "WvRKYJBj9xma",
        "outputId": "2d0a7370-7390-4f78-dda6-c01366237c16"
      },
      "source": [
        "type(namedtuple)"
      ],
      "execution_count": 2,
      "outputs": [
        {
          "output_type": "execute_result",
          "data": {
            "text/plain": [
              "function"
            ]
          },
          "metadata": {},
          "execution_count": 2
        }
      ]
    },
    {
      "cell_type": "code",
      "metadata": {
        "id": "eIONFNBN91q9"
      },
      "source": [
        "Point = namedtuple('P', ['x', 'y'])"
      ],
      "execution_count": 3,
      "outputs": []
    },
    {
      "cell_type": "code",
      "metadata": {
        "colab": {
          "base_uri": "https://localhost:8080/"
        },
        "id": "gA7cl7jy-Txp",
        "outputId": "0829b060-fb5d-420d-f650-d244bfefbd12"
      },
      "source": [
        "type(Point)"
      ],
      "execution_count": 4,
      "outputs": [
        {
          "output_type": "execute_result",
          "data": {
            "text/plain": [
              "type"
            ]
          },
          "metadata": {},
          "execution_count": 4
        }
      ]
    },
    {
      "cell_type": "code",
      "metadata": {
        "id": "h4G7Jq5D-ZXU"
      },
      "source": [
        "point = Point(100, 1000)"
      ],
      "execution_count": 5,
      "outputs": []
    },
    {
      "cell_type": "code",
      "metadata": {
        "colab": {
          "base_uri": "https://localhost:8080/"
        },
        "id": "z4ffo0io-rmz",
        "outputId": "bd57ba24-72fc-4fd8-95d0-5782a5849f43"
      },
      "source": [
        "point"
      ],
      "execution_count": 6,
      "outputs": [
        {
          "output_type": "execute_result",
          "data": {
            "text/plain": [
              "P(x=100, y=1000)"
            ]
          },
          "metadata": {},
          "execution_count": 6
        }
      ]
    }
  ]
}