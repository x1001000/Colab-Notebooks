{
  "nbformat": 4,
  "nbformat_minor": 0,
  "metadata": {
    "colab": {
      "name": "pandas.MultiIndex",
      "provenance": [],
      "collapsed_sections": [],
      "authorship_tag": "ABX9TyNWhDQGhZh38Cxa8vfh1LKo",
      "include_colab_link": true
    },
    "kernelspec": {
      "name": "python3",
      "display_name": "Python 3"
    },
    "language_info": {
      "name": "python"
    }
  },
  "cells": [
    {
      "cell_type": "markdown",
      "metadata": {
        "id": "view-in-github",
        "colab_type": "text"
      },
      "source": [
        "<a href=\"https://colab.research.google.com/github/x1001000/Python_snippets/blob/master/pandas_MultiIndex.ipynb\" target=\"_parent\"><img src=\"https://colab.research.google.com/assets/colab-badge.svg\" alt=\"Open In Colab\"/></a>"
      ]
    },
    {
      "cell_type": "code",
      "metadata": {
        "id": "Wm-buf1o6YH5"
      },
      "source": [
        "import numpy as np\n",
        "import pandas as pd"
      ],
      "execution_count": 1,
      "outputs": []
    },
    {
      "cell_type": "code",
      "metadata": {
        "colab": {
          "base_uri": "https://localhost:8080/",
          "height": 419
        },
        "id": "eAEN_1EM6Z-o",
        "outputId": "07e320a9-8409-451c-8836-2db4de646f47"
      },
      "source": [
        "df = pd.DataFrame(np.random.rand(5566,  4))\n",
        "df"
      ],
      "execution_count": 2,
      "outputs": [
        {
          "output_type": "execute_result",
          "data": {
            "text/html": [
              "<div>\n",
              "<style scoped>\n",
              "    .dataframe tbody tr th:only-of-type {\n",
              "        vertical-align: middle;\n",
              "    }\n",
              "\n",
              "    .dataframe tbody tr th {\n",
              "        vertical-align: top;\n",
              "    }\n",
              "\n",
              "    .dataframe thead th {\n",
              "        text-align: right;\n",
              "    }\n",
              "</style>\n",
              "<table border=\"1\" class=\"dataframe\">\n",
              "  <thead>\n",
              "    <tr style=\"text-align: right;\">\n",
              "      <th></th>\n",
              "      <th>0</th>\n",
              "      <th>1</th>\n",
              "      <th>2</th>\n",
              "      <th>3</th>\n",
              "    </tr>\n",
              "  </thead>\n",
              "  <tbody>\n",
              "    <tr>\n",
              "      <th>0</th>\n",
              "      <td>0.072987</td>\n",
              "      <td>0.334504</td>\n",
              "      <td>0.484868</td>\n",
              "      <td>0.799880</td>\n",
              "    </tr>\n",
              "    <tr>\n",
              "      <th>1</th>\n",
              "      <td>0.234164</td>\n",
              "      <td>0.457712</td>\n",
              "      <td>0.618934</td>\n",
              "      <td>0.841326</td>\n",
              "    </tr>\n",
              "    <tr>\n",
              "      <th>2</th>\n",
              "      <td>0.482451</td>\n",
              "      <td>0.040487</td>\n",
              "      <td>0.213740</td>\n",
              "      <td>0.946993</td>\n",
              "    </tr>\n",
              "    <tr>\n",
              "      <th>3</th>\n",
              "      <td>0.436193</td>\n",
              "      <td>0.829954</td>\n",
              "      <td>0.814954</td>\n",
              "      <td>0.240483</td>\n",
              "    </tr>\n",
              "    <tr>\n",
              "      <th>4</th>\n",
              "      <td>0.126793</td>\n",
              "      <td>0.738878</td>\n",
              "      <td>0.959218</td>\n",
              "      <td>0.455443</td>\n",
              "    </tr>\n",
              "    <tr>\n",
              "      <th>...</th>\n",
              "      <td>...</td>\n",
              "      <td>...</td>\n",
              "      <td>...</td>\n",
              "      <td>...</td>\n",
              "    </tr>\n",
              "    <tr>\n",
              "      <th>5561</th>\n",
              "      <td>0.969126</td>\n",
              "      <td>0.961891</td>\n",
              "      <td>0.245007</td>\n",
              "      <td>0.575280</td>\n",
              "    </tr>\n",
              "    <tr>\n",
              "      <th>5562</th>\n",
              "      <td>0.056837</td>\n",
              "      <td>0.769342</td>\n",
              "      <td>0.164485</td>\n",
              "      <td>0.410183</td>\n",
              "    </tr>\n",
              "    <tr>\n",
              "      <th>5563</th>\n",
              "      <td>0.275181</td>\n",
              "      <td>0.503253</td>\n",
              "      <td>0.436760</td>\n",
              "      <td>0.791464</td>\n",
              "    </tr>\n",
              "    <tr>\n",
              "      <th>5564</th>\n",
              "      <td>0.265731</td>\n",
              "      <td>0.006725</td>\n",
              "      <td>0.728374</td>\n",
              "      <td>0.020870</td>\n",
              "    </tr>\n",
              "    <tr>\n",
              "      <th>5565</th>\n",
              "      <td>0.700263</td>\n",
              "      <td>0.958853</td>\n",
              "      <td>0.172078</td>\n",
              "      <td>0.426555</td>\n",
              "    </tr>\n",
              "  </tbody>\n",
              "</table>\n",
              "<p>5566 rows × 4 columns</p>\n",
              "</div>"
            ],
            "text/plain": [
              "             0         1         2         3\n",
              "0     0.072987  0.334504  0.484868  0.799880\n",
              "1     0.234164  0.457712  0.618934  0.841326\n",
              "2     0.482451  0.040487  0.213740  0.946993\n",
              "3     0.436193  0.829954  0.814954  0.240483\n",
              "4     0.126793  0.738878  0.959218  0.455443\n",
              "...        ...       ...       ...       ...\n",
              "5561  0.969126  0.961891  0.245007  0.575280\n",
              "5562  0.056837  0.769342  0.164485  0.410183\n",
              "5563  0.275181  0.503253  0.436760  0.791464\n",
              "5564  0.265731  0.006725  0.728374  0.020870\n",
              "5565  0.700263  0.958853  0.172078  0.426555\n",
              "\n",
              "[5566 rows x 4 columns]"
            ]
          },
          "metadata": {},
          "execution_count": 2
        }
      ]
    },
    {
      "cell_type": "code",
      "metadata": {
        "colab": {
          "base_uri": "https://localhost:8080/",
          "height": 450
        },
        "id": "1C4LqNwX7GSI",
        "outputId": "13c23d77-b5e6-45d0-e001-774be85b8cec"
      },
      "source": [
        "df.columns = pd.MultiIndex.from_tuples(zip(['Left', 'Left', 'Right', 'Right'], ['Vertical', 'Horizontal', 'Vertical', 'Horizontal']))\n",
        "df"
      ],
      "execution_count": 3,
      "outputs": [
        {
          "output_type": "execute_result",
          "data": {
            "text/html": [
              "<div>\n",
              "<style scoped>\n",
              "    .dataframe tbody tr th:only-of-type {\n",
              "        vertical-align: middle;\n",
              "    }\n",
              "\n",
              "    .dataframe tbody tr th {\n",
              "        vertical-align: top;\n",
              "    }\n",
              "\n",
              "    .dataframe thead tr th {\n",
              "        text-align: left;\n",
              "    }\n",
              "</style>\n",
              "<table border=\"1\" class=\"dataframe\">\n",
              "  <thead>\n",
              "    <tr>\n",
              "      <th></th>\n",
              "      <th colspan=\"2\" halign=\"left\">Left</th>\n",
              "      <th colspan=\"2\" halign=\"left\">Right</th>\n",
              "    </tr>\n",
              "    <tr>\n",
              "      <th></th>\n",
              "      <th>Vertical</th>\n",
              "      <th>Horizontal</th>\n",
              "      <th>Vertical</th>\n",
              "      <th>Horizontal</th>\n",
              "    </tr>\n",
              "  </thead>\n",
              "  <tbody>\n",
              "    <tr>\n",
              "      <th>0</th>\n",
              "      <td>0.072987</td>\n",
              "      <td>0.334504</td>\n",
              "      <td>0.484868</td>\n",
              "      <td>0.799880</td>\n",
              "    </tr>\n",
              "    <tr>\n",
              "      <th>1</th>\n",
              "      <td>0.234164</td>\n",
              "      <td>0.457712</td>\n",
              "      <td>0.618934</td>\n",
              "      <td>0.841326</td>\n",
              "    </tr>\n",
              "    <tr>\n",
              "      <th>2</th>\n",
              "      <td>0.482451</td>\n",
              "      <td>0.040487</td>\n",
              "      <td>0.213740</td>\n",
              "      <td>0.946993</td>\n",
              "    </tr>\n",
              "    <tr>\n",
              "      <th>3</th>\n",
              "      <td>0.436193</td>\n",
              "      <td>0.829954</td>\n",
              "      <td>0.814954</td>\n",
              "      <td>0.240483</td>\n",
              "    </tr>\n",
              "    <tr>\n",
              "      <th>4</th>\n",
              "      <td>0.126793</td>\n",
              "      <td>0.738878</td>\n",
              "      <td>0.959218</td>\n",
              "      <td>0.455443</td>\n",
              "    </tr>\n",
              "    <tr>\n",
              "      <th>...</th>\n",
              "      <td>...</td>\n",
              "      <td>...</td>\n",
              "      <td>...</td>\n",
              "      <td>...</td>\n",
              "    </tr>\n",
              "    <tr>\n",
              "      <th>5561</th>\n",
              "      <td>0.969126</td>\n",
              "      <td>0.961891</td>\n",
              "      <td>0.245007</td>\n",
              "      <td>0.575280</td>\n",
              "    </tr>\n",
              "    <tr>\n",
              "      <th>5562</th>\n",
              "      <td>0.056837</td>\n",
              "      <td>0.769342</td>\n",
              "      <td>0.164485</td>\n",
              "      <td>0.410183</td>\n",
              "    </tr>\n",
              "    <tr>\n",
              "      <th>5563</th>\n",
              "      <td>0.275181</td>\n",
              "      <td>0.503253</td>\n",
              "      <td>0.436760</td>\n",
              "      <td>0.791464</td>\n",
              "    </tr>\n",
              "    <tr>\n",
              "      <th>5564</th>\n",
              "      <td>0.265731</td>\n",
              "      <td>0.006725</td>\n",
              "      <td>0.728374</td>\n",
              "      <td>0.020870</td>\n",
              "    </tr>\n",
              "    <tr>\n",
              "      <th>5565</th>\n",
              "      <td>0.700263</td>\n",
              "      <td>0.958853</td>\n",
              "      <td>0.172078</td>\n",
              "      <td>0.426555</td>\n",
              "    </tr>\n",
              "  </tbody>\n",
              "</table>\n",
              "<p>5566 rows × 4 columns</p>\n",
              "</div>"
            ],
            "text/plain": [
              "          Left                Right           \n",
              "      Vertical Horizontal  Vertical Horizontal\n",
              "0     0.072987   0.334504  0.484868   0.799880\n",
              "1     0.234164   0.457712  0.618934   0.841326\n",
              "2     0.482451   0.040487  0.213740   0.946993\n",
              "3     0.436193   0.829954  0.814954   0.240483\n",
              "4     0.126793   0.738878  0.959218   0.455443\n",
              "...        ...        ...       ...        ...\n",
              "5561  0.969126   0.961891  0.245007   0.575280\n",
              "5562  0.056837   0.769342  0.164485   0.410183\n",
              "5563  0.275181   0.503253  0.436760   0.791464\n",
              "5564  0.265731   0.006725  0.728374   0.020870\n",
              "5565  0.700263   0.958853  0.172078   0.426555\n",
              "\n",
              "[5566 rows x 4 columns]"
            ]
          },
          "metadata": {},
          "execution_count": 3
        }
      ]
    },
    {
      "cell_type": "code",
      "metadata": {
        "colab": {
          "base_uri": "https://localhost:8080/"
        },
        "id": "23ExdH-u-cTx",
        "outputId": "fe11ad4c-ac0f-418d-cb4c-c4a28670c561"
      },
      "source": [
        "df['Right']['Vertical']"
      ],
      "execution_count": 4,
      "outputs": [
        {
          "output_type": "execute_result",
          "data": {
            "text/plain": [
              "0       0.484868\n",
              "1       0.618934\n",
              "2       0.213740\n",
              "3       0.814954\n",
              "4       0.959218\n",
              "          ...   \n",
              "5561    0.245007\n",
              "5562    0.164485\n",
              "5563    0.436760\n",
              "5564    0.728374\n",
              "5565    0.172078\n",
              "Name: Vertical, Length: 5566, dtype: float64"
            ]
          },
          "metadata": {},
          "execution_count": 4
        }
      ]
    }
  ]
}