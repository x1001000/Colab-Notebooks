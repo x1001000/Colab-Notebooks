{
  "nbformat": 4,
  "nbformat_minor": 0,
  "metadata": {
    "colab": {
      "name": "requests.post",
      "provenance": [],
      "collapsed_sections": [],
      "authorship_tag": "ABX9TyPW6mwGOiIZH95TyCYoBKzj",
      "include_colab_link": true
    },
    "kernelspec": {
      "name": "python3",
      "display_name": "Python 3"
    },
    "language_info": {
      "name": "python"
    }
  },
  "cells": [
    {
      "cell_type": "markdown",
      "metadata": {
        "id": "view-in-github",
        "colab_type": "text"
      },
      "source": [
        "<a href=\"https://colab.research.google.com/github/x1001000/Python_snippets/blob/master/requests_post.ipynb\" target=\"_parent\"><img src=\"https://colab.research.google.com/assets/colab-badge.svg\" alt=\"Open In Colab\"/></a>"
      ]
    },
    {
      "cell_type": "code",
      "metadata": {
        "id": "jE_WvUqGJt6s"
      },
      "source": [
        "import requests\n",
        "import json"
      ],
      "execution_count": 3,
      "outputs": []
    },
    {
      "cell_type": "code",
      "metadata": {
        "id": "34I3avyTI_TG"
      },
      "source": [
        "url = 'https://medium.com/_/graphql'\n",
        "headers = {\n",
        "    'content-type': 'application/json',\n",
        "    'user-agent': 'Mozilla/5.0 (Macintosh; Intel Mac OS X 11_2_3) AppleWebKit/537.36 (KHTML, like Gecko) Chrome/89.0.4389.90 Safari/537.36'}\n",
        "payload = {\"operationName\":\"ExtendedFeedQuery\",\"variables\":{\"items\":[{\"postId\":\"144ce6a376ae\",\"topicId\":\"\"},{\"postId\":\"7a5f51157c3d\",\"topicId\":\"\"},{\"postId\":\"be0a205af03d\",\"topicId\":\"\"},{\"postId\":\"e90431463924\",\"topicId\":\"\"},{\"postId\":\"a993c9e3e02f\",\"topicId\":\"\"},{\"postId\":\"8b592d50e530\",\"topicId\":\"\"},{\"postId\":\"d9b536f91c2\",\"topicId\":\"\"},{\"postId\":\"a357562193a2\",\"topicId\":\"\"},{\"postId\":\"517c64c2a3ac\",\"topicId\":\"\"},{\"postId\":\"2ac516e4d8ad\",\"topicId\":\"\"},{\"postId\":\"ac8e5bc9b455\",\"topicId\":\"\"},{\"postId\":\"5ad767af8564\",\"topicId\":\"\"},{\"postId\":\"ab488fd553e2\",\"topicId\":\"\"},{\"postId\":\"ffd33fe37dec\",\"topicId\":\"\"},{\"postId\":\"8f7b3311982\",\"topicId\":\"\"},{\"postId\":\"3cab1c76f1db\",\"topicId\":\"\"},{\"postId\":\"98baed2b4b7a\",\"topicId\":\"\"},{\"postId\":\"6f746ea7d850\",\"topicId\":\"\"},{\"postId\":\"8886a8b42715\",\"topicId\":\"\"},{\"postId\":\"2358f8451ef9\",\"topicId\":\"\"}]},\"query\":\"query ExtendedFeedQuery($items: [ExtendedFeedItemOptions!]!) {\\n  extendedFeedItems(items: $items) {\\n    post {\\n      ...PostListModulePostPreviewData\\n      __typename\\n    }\\n    metadata {\\n      topic {\\n        id\\n        name\\n        __typename\\n      }\\n      __typename\\n    }\\n    __typename\\n  }\\n}\\n\\nfragment PostListModulePostPreviewData on Post {\\n  id\\n  firstPublishedAt\\n  readingTime\\n  createdAt\\n  mediumUrl\\n  previewImage {\\n    id\\n    __typename\\n  }\\n  title\\n  collection {\\n    id\\n    domain\\n    slug\\n    name\\n    navItems {\\n      url\\n      __typename\\n    }\\n    logo {\\n      id\\n      __typename\\n    }\\n    avatar {\\n      id\\n      __typename\\n    }\\n    __typename\\n  }\\n  creator {\\n    id\\n    name\\n    username\\n    imageId\\n    mediumMemberAt\\n    ...userUrl_user\\n    __typename\\n  }\\n  visibility\\n  isProxyPost\\n  isLocked\\n  ...HomeFeedItem_post\\n  ...HomeReadingListItem_post\\n  ...HomeTrendingModule_post\\n  __typename\\n}\\n\\nfragment HomeFeedItem_post on Post {\\n  __typename\\n  id\\n  title\\n  firstPublishedAt\\n  mediumUrl\\n  collection {\\n    id\\n    name\\n    domain\\n    logo {\\n      id\\n      __typename\\n    }\\n    __typename\\n  }\\n  creator {\\n    id\\n    name\\n    username\\n    imageId\\n    mediumMemberAt\\n    __typename\\n  }\\n  previewImage {\\n    id\\n    __typename\\n  }\\n  previewContent {\\n    subtitle\\n    __typename\\n  }\\n  readingTime\\n  ...BookmarkButton_post\\n  ...CreatorActionOverflowPopover_post\\n  ...PostPresentationTracker_post\\n  ...PostPreviewAvatar_post\\n}\\n\\nfragment BookmarkButton_post on Post {\\n  ...SusiClickable_post\\n  ...WithSetReadingList_post\\n  __typename\\n  id\\n}\\n\\nfragment SusiClickable_post on Post {\\n  id\\n  mediumUrl\\n  ...SusiContainer_post\\n  __typename\\n}\\n\\nfragment SusiContainer_post on Post {\\n  id\\n  __typename\\n}\\n\\nfragment WithSetReadingList_post on Post {\\n  ...ReadingList_post\\n  __typename\\n  id\\n}\\n\\nfragment ReadingList_post on Post {\\n  __typename\\n  id\\n  readingList\\n}\\n\\nfragment CreatorActionOverflowPopover_post on Post {\\n  allowResponses\\n  id\\n  statusForCollection\\n  isLocked\\n  isPublished\\n  clapCount\\n  viewerClapCount\\n  mediumUrl\\n  pinnedAt\\n  pinnedByCreatorAt\\n  curationEligibleAt\\n  mediumUrl\\n  responseDistribution\\n  shareKey\\n  visibility\\n  ...useIsPinnedInContext_post\\n  pendingCollection {\\n    id\\n    name\\n    viewerIsEditor\\n    creator {\\n      id\\n      __typename\\n    }\\n    avatar {\\n      id\\n      __typename\\n    }\\n    domain\\n    slug\\n    __typename\\n  }\\n  creator {\\n    id\\n    isBlocking\\n    ...MutePopoverOptions_creator\\n    ...auroraHooks_publisher\\n    __typename\\n  }\\n  collection {\\n    id\\n    viewerIsEditor\\n    name\\n    creator {\\n      id\\n      __typename\\n    }\\n    avatar {\\n      id\\n      __typename\\n    }\\n    domain\\n    slug\\n    ...MutePopoverOptions_collection\\n    ...auroraHooks_publisher\\n    __typename\\n  }\\n  ...ClapMutation_post\\n  __typename\\n}\\n\\nfragment MutePopoverOptions_creator on User {\\n  id\\n  isMuting\\n  __typename\\n}\\n\\nfragment MutePopoverOptions_collection on Collection {\\n  id\\n  viewerIsEditor\\n  viewerIsMuting\\n  __typename\\n}\\n\\nfragment ClapMutation_post on Post {\\n  __typename\\n  id\\n  clapCount\\n  viewerClapCount\\n  ...MultiVoteCount_post\\n}\\n\\nfragment MultiVoteCount_post on Post {\\n  id\\n  ...PostVotersNetwork_post\\n  __typename\\n}\\n\\nfragment PostVotersNetwork_post on Post {\\n  voterCount\\n  viewerClapCount\\n  recommenders {\\n    name\\n    __typename\\n  }\\n  __typename\\n  id\\n}\\n\\nfragment useIsPinnedInContext_post on Post {\\n  id\\n  collection {\\n    id\\n    __typename\\n  }\\n  pendingCollection {\\n    id\\n    __typename\\n  }\\n  pinnedAt\\n  pinnedByCreatorAt\\n  __typename\\n}\\n\\nfragment auroraHooks_publisher on Publisher {\\n  __typename\\n  ... on Collection {\\n    isAuroraEligible\\n    isAuroraVisible\\n    viewerIsEditor\\n    __typename\\n    id\\n  }\\n  ... on User {\\n    isAuroraVisible\\n    __typename\\n    id\\n  }\\n}\\n\\nfragment PostPresentationTracker_post on Post {\\n  id\\n  visibility\\n  previewContent {\\n    isFullContent\\n    __typename\\n  }\\n  collection {\\n    id\\n    slug\\n    __typename\\n  }\\n  __typename\\n}\\n\\nfragment PostPreviewAvatar_post on Post {\\n  __typename\\n  id\\n  collection {\\n    id\\n    name\\n    ...CollectionAvatar_collection\\n    ...collectionUrl_collection\\n    __typename\\n  }\\n  creator {\\n    id\\n    username\\n    name\\n    ...UserAvatar_user\\n    ...userUrl_user\\n    __typename\\n  }\\n}\\n\\nfragment CollectionAvatar_collection on Collection {\\n  name\\n  avatar {\\n    id\\n    __typename\\n  }\\n  ...collectionUrl_collection\\n  __typename\\n  id\\n}\\n\\nfragment collectionUrl_collection on Collection {\\n  id\\n  domain\\n  slug\\n  __typename\\n}\\n\\nfragment UserAvatar_user on User {\\n  __typename\\n  username\\n  id\\n  name\\n  imageId\\n  mediumMemberAt\\n  ...userUrl_user\\n}\\n\\nfragment userUrl_user on User {\\n  __typename\\n  id\\n  customDomainState {\\n    live {\\n      domain\\n      __typename\\n    }\\n    __typename\\n  }\\n  username\\n  hasSubdomain\\n}\\n\\nfragment HomeReadingListItem_post on Post {\\n  id\\n  title\\n  creator {\\n    id\\n    name\\n    username\\n    ...UserAvatar_user\\n    __typename\\n  }\\n  mediumUrl\\n  createdAt\\n  readingTime\\n  collection {\\n    id\\n    name\\n    navItems {\\n      url\\n      __typename\\n    }\\n    ...CollectionAvatar_collection\\n    __typename\\n  }\\n  visibility\\n  __typename\\n}\\n\\nfragment HomeTrendingModule_post on Post {\\n  id\\n  ...HomeTrendingPostPreview_post\\n  __typename\\n}\\n\\nfragment HomeTrendingPostPreview_post on Post {\\n  id\\n  title\\n  mediumUrl\\n  readingTime\\n  firstPublishedAt\\n  ...PostPreviewAvatar_post\\n  ...PostPresentationTracker_post\\n  __typename\\n}\\n\"}\n",
        "payload = json.dumps(payload)\n",
        "r = requests.post(url, headers=headers, data=payload)"
      ],
      "execution_count": 17,
      "outputs": []
    },
    {
      "cell_type": "code",
      "metadata": {
        "id": "HjNsfRtWNEne"
      },
      "source": [
        "items = json.loads(r.text)['data']['extendedFeedItems']\n",
        "for item in items:\n",
        "    print(item['post']['title'])"
      ],
      "execution_count": null,
      "outputs": []
    }
  ]
}