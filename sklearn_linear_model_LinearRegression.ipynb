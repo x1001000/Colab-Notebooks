{
  "cells": [
    {
      "cell_type": "markdown",
      "metadata": {
        "id": "view-in-github",
        "colab_type": "text"
      },
      "source": [
        "<a href=\"https://colab.research.google.com/github/x1001000/Colab-Notebooks/blob/main/sklearn_linear_model_LinearRegression.ipynb\" target=\"_parent\"><img src=\"https://colab.research.google.com/assets/colab-badge.svg\" alt=\"Open In Colab\"/></a>"
      ]
    },
    {
      "cell_type": "code",
      "execution_count": null,
      "metadata": {
        "scrolled": true,
        "id": "Df8pUH5S1qCA",
        "outputId": "bb1eac27-e131-4fa8-e985-5b64bdfdebe8"
      },
      "outputs": [
        {
          "name": "stderr",
          "output_type": "stream",
          "text": [
            "/Users/pp/miniconda3/lib/python3.6/importlib/_bootstrap.py:219: RuntimeWarning: numpy.dtype size changed, may indicate binary incompatibility. Expected 96, got 88\n",
            "  return f(*args, **kwds)\n",
            "/Users/pp/miniconda3/lib/python3.6/importlib/_bootstrap.py:219: RuntimeWarning: numpy.dtype size changed, may indicate binary incompatibility. Expected 96, got 88\n",
            "  return f(*args, **kwds)\n",
            "/Users/pp/miniconda3/lib/python3.6/importlib/_bootstrap.py:219: RuntimeWarning: numpy.dtype size changed, may indicate binary incompatibility. Expected 96, got 88\n",
            "  return f(*args, **kwds)\n",
            "/Users/pp/miniconda3/lib/python3.6/importlib/_bootstrap.py:219: RuntimeWarning: numpy.dtype size changed, may indicate binary incompatibility. Expected 96, got 88\n",
            "  return f(*args, **kwds)\n",
            "Using TensorFlow backend.\n"
          ]
        }
      ],
      "source": [
        "import numpy as np\n",
        "import pandas as pd\n",
        "from matplotlib import pyplot as plt\n",
        "from mpl_toolkits.mplot3d import Axes3D\n",
        "from sklearn.linear_model import LinearRegression, Lasso, Ridge\n",
        "from sklearn.metrics import mean_absolute_error, mean_squared_error, r2_score\n",
        "from keras.models import Sequential\n",
        "from keras.layers import Dense, Dropout"
      ]
    },
    {
      "cell_type": "code",
      "execution_count": null,
      "metadata": {
        "id": "KtKUrjf_1qCF"
      },
      "outputs": [],
      "source": [
        "X = [[1], [2], [3]]\n",
        "y = [[15], [25], [38]]\n",
        "X = np.array(X)\n",
        "y = np.array(y)"
      ]
    },
    {
      "cell_type": "code",
      "execution_count": null,
      "metadata": {
        "id": "sM3DYA7c1qCG",
        "outputId": "23c13ebb-7bd1-4d14-fe74-5c29093d2485"
      },
      "outputs": [
        {
          "name": "stdout",
          "output_type": "stream",
          "text": [
            "_________________________________________________________________\n",
            "Layer (type)                 Output Shape              Param #   \n",
            "=================================================================\n",
            "dense_1 (Dense)              (None, 1)                 2         \n",
            "=================================================================\n",
            "Total params: 2\n",
            "Trainable params: 2\n",
            "Non-trainable params: 0\n",
            "_________________________________________________________________\n"
          ]
        }
      ],
      "source": [
        "model1 = LinearRegression()\n",
        "model2 = Sequential()\n",
        "model2.add(Dense(units=1, input_dim=1))\n",
        "model2.compile(loss='mse', optimizer='sgd')\n",
        "model2.summary()"
      ]
    },
    {
      "cell_type": "code",
      "execution_count": null,
      "metadata": {
        "id": "J1-u65j41qCH",
        "outputId": "a4c28437-eadd-49d7-caf7-22f138098f60"
      },
      "outputs": [
        {
          "data": {
            "text/plain": [
              "array([[14.5],\n",
              "       [26. ],\n",
              "       [37.5]])"
            ]
          },
          "execution_count": 4,
          "metadata": {},
          "output_type": "execute_result"
        }
      ],
      "source": [
        "model1.fit(X, y)\n",
        "Y1 = model1.predict(X)\n",
        "Y1"
      ]
    },
    {
      "cell_type": "code",
      "execution_count": null,
      "metadata": {
        "id": "tQ_QUyeT1qCH",
        "outputId": "1226e724-4517-438b-ce9a-778ae1220666"
      },
      "outputs": [
        {
          "name": "stdout",
          "output_type": "stream",
          "text": [
            "Epoch 1/30\n",
            "3/3 [==============================] - 0s 36ms/step - loss: 907.2806\n",
            "Epoch 2/30\n",
            "3/3 [==============================] - 0s 586us/step - loss: 717.3970\n",
            "Epoch 3/30\n",
            "3/3 [==============================] - 0s 885us/step - loss: 567.3034\n",
            "Epoch 4/30\n",
            "3/3 [==============================] - 0s 852us/step - loss: 448.6619\n",
            "Epoch 5/30\n",
            "3/3 [==============================] - 0s 817us/step - loss: 354.8814\n",
            "Epoch 6/30\n",
            "3/3 [==============================] - 0s 2ms/step - loss: 280.7523\n",
            "Epoch 7/30\n",
            "3/3 [==============================] - 0s 971us/step - loss: 222.1566\n",
            "Epoch 8/30\n",
            "3/3 [==============================] - 0s 1ms/step - loss: 175.8392\n",
            "Epoch 9/30\n",
            "3/3 [==============================] - 0s 1ms/step - loss: 139.2271\n",
            "Epoch 10/30\n",
            "3/3 [==============================] - 0s 806us/step - loss: 110.2866\n",
            "Epoch 11/30\n",
            "3/3 [==============================] - 0s 648us/step - loss: 87.4101\n",
            "Epoch 12/30\n",
            "3/3 [==============================] - 0s 852us/step - loss: 69.3268\n",
            "Epoch 13/30\n",
            "3/3 [==============================] - 0s 1ms/step - loss: 55.0323\n",
            "Epoch 14/30\n",
            "3/3 [==============================] - 0s 2ms/step - loss: 43.7326\n",
            "Epoch 15/30\n",
            "3/3 [==============================] - 0s 642us/step - loss: 34.8002\n",
            "Epoch 16/30\n",
            "3/3 [==============================] - 0s 2ms/step - loss: 27.7390\n",
            "Epoch 17/30\n",
            "3/3 [==============================] - 0s 847us/step - loss: 22.1569\n",
            "Epoch 18/30\n",
            "3/3 [==============================] - 0s 623us/step - loss: 17.7440\n",
            "Epoch 19/30\n",
            "3/3 [==============================] - 0s 789us/step - loss: 14.2552\n",
            "Epoch 20/30\n",
            "3/3 [==============================] - 0s 2ms/step - loss: 11.4968\n",
            "Epoch 21/30\n",
            "3/3 [==============================] - 0s 1ms/step - loss: 9.3159\n",
            "Epoch 22/30\n",
            "3/3 [==============================] - 0s 868us/step - loss: 7.5915\n",
            "Epoch 23/30\n",
            "3/3 [==============================] - 0s 1ms/step - loss: 6.2278\n",
            "Epoch 24/30\n",
            "3/3 [==============================] - 0s 655us/step - loss: 5.1492\n",
            "Epoch 25/30\n",
            "3/3 [==============================] - 0s 814us/step - loss: 4.2962\n",
            "Epoch 26/30\n",
            "3/3 [==============================] - 0s 1ms/step - loss: 3.6212\n",
            "Epoch 27/30\n",
            "3/3 [==============================] - 0s 730us/step - loss: 3.0872\n",
            "Epoch 28/30\n",
            "3/3 [==============================] - 0s 767us/step - loss: 2.6645\n",
            "Epoch 29/30\n",
            "3/3 [==============================] - 0s 931us/step - loss: 2.3298\n",
            "Epoch 30/30\n",
            "3/3 [==============================] - 0s 796us/step - loss: 2.0646\n"
          ]
        },
        {
          "data": {
            "text/plain": [
              "array([[15.123609],\n",
              "       [25.401302],\n",
              "       [35.678997]], dtype=float32)"
            ]
          },
          "execution_count": 5,
          "metadata": {},
          "output_type": "execute_result"
        }
      ],
      "source": [
        "model2.fit(X, y, epochs=30)\n",
        "Y2 = model2.predict(X)\n",
        "Y2"
      ]
    },
    {
      "cell_type": "code",
      "execution_count": null,
      "metadata": {
        "id": "SM8vbzK_1qCI",
        "outputId": "1ceef360-ac37-4c55-89ee-1dd4e42e5f9d"
      },
      "outputs": [
        {
          "name": "stdout",
          "output_type": "stream",
          "text": [
            "[[10.277695]] [4.845914]\n",
            "(1, 1) (1,)\n"
          ]
        }
      ],
      "source": [
        "W, b = model2.layers[0].get_weights()\n",
        "print(W, b)\n",
        "print(W.shape, b.shape)"
      ]
    },
    {
      "cell_type": "code",
      "execution_count": null,
      "metadata": {
        "id": "-XeCRmL21qCI",
        "outputId": "064b3e6c-52ee-4704-f8ab-7856c79cf992"
      },
      "outputs": [
        {
          "data": {
            "text/plain": [
              "[<matplotlib.lines.Line2D at 0x11f64a4a8>]"
            ]
          },
          "execution_count": 7,
          "metadata": {},
          "output_type": "execute_result"
        },
        {
          "data": {
            "image/png": "[encoded data removed]",
            "text/plain": [
              "<Figure size 432x288 with 1 Axes>"
            ]
          },
          "metadata": {},
          "output_type": "display_data"
        }
      ],
      "source": [
        "plt.scatter(X, y)\n",
        "plt.plot(X, Y1, color='red')\n",
        "plt.plot(X, Y2, color='green')"
      ]
    },
    {
      "cell_type": "code",
      "execution_count": null,
      "metadata": {
        "id": "2_obP1Jt1qCJ"
      },
      "outputs": [],
      "source": [
        "X = [[x,y] for x in range(8) for y in range(7)]\n",
        "y = [[x*x*y*y] for x in range(8) for y in range(7)]\n",
        "X = np.array(X)\n",
        "y = np.array(y)"
      ]
    },
    {
      "cell_type": "code",
      "execution_count": null,
      "metadata": {
        "id": "fejFWxTP1qCK",
        "outputId": "798e10e7-cb9b-40d8-e80d-a76882d7088f"
      },
      "outputs": [
        {
          "name": "stdout",
          "output_type": "stream",
          "text": [
            "_________________________________________________________________\n",
            "Layer (type)                 Output Shape              Param #   \n",
            "=================================================================\n",
            "dense_2 (Dense)              (None, 1)                 3         \n",
            "=================================================================\n",
            "Total params: 3\n",
            "Trainable params: 3\n",
            "Non-trainable params: 0\n",
            "_________________________________________________________________\n"
          ]
        }
      ],
      "source": [
        "model1 = LinearRegression()\n",
        "model2 = Sequential()\n",
        "model2.add(Dense(units=1, input_dim=2))\n",
        "model2.compile(loss='mse', optimizer='sgd')\n",
        "model2.summary()"
      ]
    },
    {
      "cell_type": "code",
      "execution_count": null,
      "metadata": {
        "id": "7s1Y4hOt1qCL",
        "outputId": "03ebe978-e217-4e1e-88e5-601610be3d04"
      },
      "outputs": [
        {
          "data": {
            "text/plain": [
              "array([[-406.],\n",
              "       [-301.],\n",
              "       [-196.],\n",
              "       [ -91.],\n",
              "       [  14.],\n",
              "       [ 119.],\n",
              "       [ 224.],\n",
              "       [-315.],\n",
              "       [-210.],\n",
              "       [-105.],\n",
              "       [   0.],\n",
              "       [ 105.],\n",
              "       [ 210.],\n",
              "       [ 315.],\n",
              "       [-224.],\n",
              "       [-119.],\n",
              "       [ -14.],\n",
              "       [  91.],\n",
              "       [ 196.],\n",
              "       [ 301.],\n",
              "       [ 406.],\n",
              "       [-133.],\n",
              "       [ -28.],\n",
              "       [  77.],\n",
              "       [ 182.],\n",
              "       [ 287.],\n",
              "       [ 392.],\n",
              "       [ 497.],\n",
              "       [ -42.],\n",
              "       [  63.],\n",
              "       [ 168.],\n",
              "       [ 273.],\n",
              "       [ 378.],\n",
              "       [ 483.],\n",
              "       [ 588.],\n",
              "       [  49.],\n",
              "       [ 154.],\n",
              "       [ 259.],\n",
              "       [ 364.],\n",
              "       [ 469.],\n",
              "       [ 574.],\n",
              "       [ 679.],\n",
              "       [ 140.],\n",
              "       [ 245.],\n",
              "       [ 350.],\n",
              "       [ 455.],\n",
              "       [ 560.],\n",
              "       [ 665.],\n",
              "       [ 770.],\n",
              "       [ 231.],\n",
              "       [ 336.],\n",
              "       [ 441.],\n",
              "       [ 546.],\n",
              "       [ 651.],\n",
              "       [ 756.],\n",
              "       [ 861.]])"
            ]
          },
          "execution_count": 10,
          "metadata": {},
          "output_type": "execute_result"
        }
      ],
      "source": [
        "model1.fit(X, y)\n",
        "Y1 = model1.predict(X)\n",
        "Y1"
      ]
    },
    {
      "cell_type": "code",
      "execution_count": null,
      "metadata": {
        "scrolled": false,
        "id": "1Dy5Xtey1qCM",
        "outputId": "32aa111f-d592-409f-d98d-e0c83628dae1"
      },
      "outputs": [
        {
          "name": "stdout",
          "output_type": "stream",
          "text": [
            "Epoch 1/30\n",
            "56/56 [==============================] - 0s 2ms/step - loss: 145714.2701\n",
            "Epoch 2/30\n",
            "56/56 [==============================] - 0s 111us/step - loss: 84393.3387\n",
            "Epoch 3/30\n",
            "56/56 [==============================] - 0s 99us/step - loss: 83578.0402\n",
            "Epoch 4/30\n",
            "56/56 [==============================] - 0s 189us/step - loss: 82098.4442\n",
            "Epoch 5/30\n",
            "56/56 [==============================] - 0s 156us/step - loss: 81276.0508\n",
            "Epoch 6/30\n",
            "56/56 [==============================] - 0s 177us/step - loss: 80335.0904\n",
            "Epoch 7/30\n",
            "56/56 [==============================] - 0s 153us/step - loss: 81048.5324\n",
            "Epoch 8/30\n",
            "56/56 [==============================] - 0s 133us/step - loss: 84269.3080\n",
            "Epoch 9/30\n",
            "56/56 [==============================] - 0s 111us/step - loss: 79902.6646\n",
            "Epoch 10/30\n",
            "56/56 [==============================] - 0s 201us/step - loss: 78174.4353\n",
            "Epoch 11/30\n",
            "56/56 [==============================] - 0s 133us/step - loss: 78422.5893\n",
            "Epoch 12/30\n",
            "56/56 [==============================] - 0s 128us/step - loss: 78187.5184\n",
            "Epoch 13/30\n",
            "56/56 [==============================] - 0s 138us/step - loss: 79769.4163\n",
            "Epoch 14/30\n",
            "56/56 [==============================] - 0s 124us/step - loss: 78008.2176\n",
            "Epoch 15/30\n",
            "56/56 [==============================] - 0s 93us/step - loss: 77460.5028\n",
            "Epoch 16/30\n",
            "56/56 [==============================] - 0s 127us/step - loss: 78625.3627\n",
            "Epoch 17/30\n",
            "56/56 [==============================] - 0s 130us/step - loss: 76496.0123\n",
            "Epoch 18/30\n",
            "56/56 [==============================] - 0s 102us/step - loss: 75525.1384\n",
            "Epoch 19/30\n",
            "56/56 [==============================] - 0s 180us/step - loss: 75316.4548\n",
            "Epoch 20/30\n",
            "56/56 [==============================] - 0s 156us/step - loss: 74519.0586\n",
            "Epoch 21/30\n",
            "56/56 [==============================] - 0s 99us/step - loss: 74527.3705\n",
            "Epoch 22/30\n",
            "56/56 [==============================] - 0s 199us/step - loss: 73927.0312\n",
            "Epoch 23/30\n",
            "56/56 [==============================] - 0s 111us/step - loss: 75255.7444\n",
            "Epoch 24/30\n",
            "56/56 [==============================] - ETA: 0s - loss: 45162.531 - 0s 244us/step - loss: 74968.1741\n",
            "Epoch 25/30\n",
            "56/56 [==============================] - 0s 99us/step - loss: 74268.7199\n",
            "Epoch 26/30\n",
            "56/56 [==============================] - 0s 125us/step - loss: 79125.4911\n",
            "Epoch 27/30\n",
            "56/56 [==============================] - 0s 186us/step - loss: 79830.9096\n",
            "Epoch 28/30\n",
            "56/56 [==============================] - 0s 151us/step - loss: 73472.0262\n",
            "Epoch 29/30\n",
            "56/56 [==============================] - 0s 137us/step - loss: 74644.7121\n",
            "Epoch 30/30\n",
            "56/56 [==============================] - 0s 104us/step - loss: 75565.8705\n"
          ]
        },
        {
          "data": {
            "text/plain": [
              "array([[-69.6244  ],\n",
              "       [-14.152573],\n",
              "       [ 41.319252],\n",
              "       [ 96.79107 ],\n",
              "       [152.26291 ],\n",
              "       [207.73474 ],\n",
              "       [263.20654 ],\n",
              "       [-24.300144],\n",
              "       [ 31.171684],\n",
              "       [ 86.6435  ],\n",
              "       [142.11533 ],\n",
              "       [197.58716 ],\n",
              "       [253.05899 ],\n",
              "       [308.5308  ],\n",
              "       [ 21.024109],\n",
              "       [ 76.49593 ],\n",
              "       [131.96777 ],\n",
              "       [187.43958 ],\n",
              "       [242.9114  ],\n",
              "       [298.38324 ],\n",
              "       [353.85504 ],\n",
              "       [ 66.348366],\n",
              "       [121.82018 ],\n",
              "       [177.29202 ],\n",
              "       [232.76385 ],\n",
              "       [288.23566 ],\n",
              "       [343.70752 ],\n",
              "       [399.17932 ],\n",
              "       [111.672615],\n",
              "       [167.14444 ],\n",
              "       [222.61627 ],\n",
              "       [278.08807 ],\n",
              "       [333.55994 ],\n",
              "       [389.03174 ],\n",
              "       [444.50354 ],\n",
              "       [156.99686 ],\n",
              "       [212.46869 ],\n",
              "       [267.94052 ],\n",
              "       [323.41235 ],\n",
              "       [378.88416 ],\n",
              "       [434.35602 ],\n",
              "       [489.82782 ],\n",
              "       [202.32114 ],\n",
              "       [257.79297 ],\n",
              "       [313.26477 ],\n",
              "       [368.7366  ],\n",
              "       [424.20844 ],\n",
              "       [479.6803  ],\n",
              "       [535.1521  ],\n",
              "       [247.64539 ],\n",
              "       [303.11722 ],\n",
              "       [358.58905 ],\n",
              "       [414.06085 ],\n",
              "       [469.5327  ],\n",
              "       [525.0045  ],\n",
              "       [580.4763  ]], dtype=float32)"
            ]
          },
          "execution_count": 11,
          "metadata": {},
          "output_type": "execute_result"
        }
      ],
      "source": [
        "model2.fit(X, y, epochs=30)\n",
        "Y2 = model2.predict(X)\n",
        "Y2"
      ]
    },
    {
      "cell_type": "code",
      "execution_count": null,
      "metadata": {
        "id": "TdsQWWz71qCN",
        "outputId": "3bdd6bc9-98e7-4859-b63d-4a4a91719d89"
      },
      "outputs": [
        {
          "name": "stdout",
          "output_type": "stream",
          "text": [
            "[[45.324253]\n",
            " [55.471825]] [-69.6244]\n",
            "(2, 1) (1,)\n"
          ]
        }
      ],
      "source": [
        "W, b = model2.layers[0].get_weights()\n",
        "print(W, b)\n",
        "print(W.shape, b.shape)"
      ]
    },
    {
      "cell_type": "code",
      "execution_count": null,
      "metadata": {
        "id": "VykmuMbp1qCO",
        "outputId": "d737c038-3742-4e03-fc0e-8dc96f670b44"
      },
      "outputs": [
        {
          "data": {
            "text/plain": [
              "<mpl_toolkits.mplot3d.art3d.Line3DCollection at 0x11f899f60>"
            ]
          },
          "execution_count": 13,
          "metadata": {},
          "output_type": "execute_result"
        },
        {
          "data": {
            "image/png": "[encoded data removed]",
            "text/plain": [
              "<Figure size 432x288 with 1 Axes>"
            ]
          },
          "metadata": {},
          "output_type": "display_data"
        }
      ],
      "source": [
        "Axes3D = plt.axes(projection='3d')\n",
        "\n",
        "# xs, ys, zs = X[:,0], X[:,1], y\n",
        "# Axes3D.scatter(xs, ys, zs)\n",
        "\n",
        "# xs, ys, zs = X[:,0], X[:,1], Y1\n",
        "# Axes3D.scatter(xs, ys, zs, color='red')\n",
        "\n",
        "# xs, ys, zs = X[:,0], X[:,1], Y2\n",
        "# Axes3D.scatter(xs, ys, zs, color='green')\n",
        "\n",
        "# xx, yy, zz = X[:,0].reshape(8,7), X[:,1].reshape(8,7), y.reshape(8,7)\n",
        "# Axes3D.plot_wireframe(xx, yy, zz)\n",
        "\n",
        "xx, yy = np.meshgrid(range(8), range(7), indexing='ij')\n",
        "zz = Y1.reshape(8,7)\n",
        "Axes3D.plot_wireframe(xx, yy, zz, color='red')\n",
        "\n",
        "xx, yy = np.meshgrid(range(8), range(7), indexing='ij')\n",
        "zz = Y2.reshape(8,7)\n",
        "Axes3D.plot_wireframe(xx, yy, zz, color='green')"
      ]
    },
    {
      "cell_type": "markdown",
      "metadata": {
        "id": "HCA5kaXi1qCO"
      },
      "source": [
        "# numpy.dot\n",
        "https://numpy.org/doc/stable/reference/generated/numpy.dot.html\n",
        "\n",
        "For a N-in-M-out layer (M neurons, in fact, linear functions!)\n",
        "- Param # is (N+1)M\n",
        "- input.shape is (N,) and output.shape is (M,)\n",
        "- W.shape is (N, M) and b.shape is (M,)\n",
        "- output = np.dot(input, W) + b\n",
        "- Y = np.dot(X, W) + b\n",
        "- X.shape is (batch_size, N) and Y.shape is (batch_size, M)"
      ]
    }
  ],
  "metadata": {
    "kernelspec": {
      "display_name": "Python 3",
      "language": "python",
      "name": "python3"
    },
    "language_info": {
      "codemirror_mode": {
        "name": "ipython",
        "version": 3
      },
      "file_extension": ".py",
      "mimetype": "text/x-python",
      "name": "python",
      "nbconvert_exporter": "python",
      "pygments_lexer": "ipython3",
      "version": "3.6.4"
    },
    "colab": {
      "provenance": [],
      "include_colab_link": true
    }
  },
  "nbformat": 4,
  "nbformat_minor": 0
}