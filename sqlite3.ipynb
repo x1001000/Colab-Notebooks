{
  "nbformat": 4,
  "nbformat_minor": 0,
  "metadata": {
    "colab": {
      "name": "sqlite3",
      "provenance": [],
      "authorship_tag": "ABX9TyM/5/i/66c2JPdyMcejqpKF",
      "include_colab_link": true
    },
    "kernelspec": {
      "name": "python3",
      "display_name": "Python 3"
    },
    "language_info": {
      "name": "python"
    }
  },
  "cells": [
    {
      "cell_type": "markdown",
      "metadata": {
        "id": "view-in-github",
        "colab_type": "text"
      },
      "source": [
        "<a href=\"https://colab.research.google.com/github/x1001000/Python_snippets/blob/master/sqlite3.ipynb\" target=\"_parent\"><img src=\"https://colab.research.google.com/assets/colab-badge.svg\" alt=\"Open In Colab\"/></a>"
      ]
    },
    {
      "cell_type": "markdown",
      "source": [
        "### 新建一個資料庫及兩個資料表"
      ],
      "metadata": {
        "id": "P2Xk4CMKRTuR"
      }
    },
    {
      "cell_type": "code",
      "execution_count": 1,
      "metadata": {
        "colab": {
          "base_uri": "https://localhost:8080/"
        },
        "id": "bQhp4NBYOdEf",
        "outputId": "936cfd72-99a7-49a0-bb0a-42f6fd0c5e37"
      },
      "outputs": [
        {
          "output_type": "execute_result",
          "data": {
            "text/plain": [
              "<sqlite3.Cursor at 0x7f1d59fef3b0>"
            ]
          },
          "metadata": {},
          "execution_count": 1
        }
      ],
      "source": [
        "import sqlite3\n",
        "con = sqlite3.connect('new.db')\n",
        "cur = con.cursor()\n",
        "cur.execute('CREATE TABLE patients(id, name, sex, birth, blood, note, PRIMARY KEY(id))')\n",
        "cur.execute('CREATE TABLE records(date, pid, examiner, record, FOREIGN KEY(pid) REFERENCES patients(id))')"
      ]
    },
    {
      "cell_type": "code",
      "source": [
        "#@title 資料輸入視窗\n",
        "日期 = \"2021-12-25\" #@param {type:\"date\"}\n",
        "病歷號 = \"00001\" #@param {type:\"string\"}\n",
        "姓名 = \"Phil Peng\" #@param {type:\"string\"}\n",
        "性別 = \"\\u7537\" #@param [\"\\u5973\", \"\\u7537\"]\n",
        "生日 = \"1999-09-21\" #@param {type:\"date\"}\n",
        "血型 = \"O\" #@param [\"A\", \"B\", \"AB\", \"O\"]\n",
        "個資備註 = \"\\u8FD1\\u8996\" #@param {type:\"string\"}\n",
        "醫檢人員 = \"Jim\" #@param {type:\"string\"}\n",
        "醫檢紀錄 = \"\\u770B\\u5831\\u544A\" #@param {type:\"string\"}\n",
        "try:\n",
        "    cur.execute('INSERT INTO patients(id, name, sex, birth, blood, note) VALUES(?, ?, ?, ?, ?, ?)',\n",
        "                (病歷號, 姓名, 性別, 生日, 血型, 個資備註))\n",
        "except:\n",
        "    cur.execute('UPDATE patients SET name = ? WHERE id = ?', (姓名, 病歷號))\n",
        "    cur.execute('UPDATE patients SET sex = ? WHERE id = ?', (性別, 病歷號))\n",
        "    cur.execute('UPDATE patients SET birth = ? WHERE id = ?', (生日, 病歷號))\n",
        "    cur.execute('UPDATE patients SET blood = ? WHERE id = ?', (血型, 病歷號))\n",
        "    cur.execute('UPDATE patients SET note = ? WHERE id = ?', (個資備註, 病歷號))\n",
        "finally:\n",
        "    cur.execute('INSERT INTO records(date, pid, examiner, record) VALUES(?, ?, ?, ?)',\n",
        "                (日期, 病歷號, 醫檢人員, 醫檢紀錄))"
      ],
      "metadata": {
        "cellView": "form",
        "id": "p6axY_eATPL4"
      },
      "execution_count": 3,
      "outputs": []
    },
    {
      "cell_type": "markdown",
      "source": [
        "### 檢視兩個資料表"
      ],
      "metadata": {
        "id": "L31ml0f9vPxj"
      }
    },
    {
      "cell_type": "code",
      "source": [
        "cur.execute('SELECT * FROM patients')\n",
        "cur.fetchall()"
      ],
      "metadata": {
        "colab": {
          "base_uri": "https://localhost:8080/"
        },
        "id": "6ld0e7_-PGUn",
        "outputId": "f225ff04-09d8-4ce5-e61f-596d657c1618"
      },
      "execution_count": 4,
      "outputs": [
        {
          "output_type": "execute_result",
          "data": {
            "text/plain": [
              "[('00001', 'Phil Peng', '男', '1999-09-21', 'O', '近視')]"
            ]
          },
          "metadata": {},
          "execution_count": 4
        }
      ]
    },
    {
      "cell_type": "code",
      "source": [
        "cur.execute('SELECT * FROM records')\n",
        "cur.fetchall()"
      ],
      "metadata": {
        "colab": {
          "base_uri": "https://localhost:8080/"
        },
        "id": "5gGmY5bIc4-t",
        "outputId": "4f01a15b-f0af-47aa-a803-640b0171118d"
      },
      "execution_count": 5,
      "outputs": [
        {
          "output_type": "execute_result",
          "data": {
            "text/plain": [
              "[('2021-12-24', '00001', 'Roger', '到院時視力模糊'),\n",
              " ('2021-12-25', '00001', 'Jim', '看報告')]"
            ]
          },
          "metadata": {},
          "execution_count": 5
        }
      ]
    }
  ]
}