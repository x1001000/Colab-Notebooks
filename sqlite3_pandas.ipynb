{
  "nbformat": 4,
  "nbformat_minor": 0,
  "metadata": {
    "colab": {
      "name": "sqlite3",
      "provenance": [],
      "authorship_tag": "ABX9TyPe35OYKLZ68DopEliedvfJ",
      "include_colab_link": true
    },
    "kernelspec": {
      "name": "python3",
      "display_name": "Python 3"
    },
    "language_info": {
      "name": "python"
    }
  },
  "cells": [
    {
      "cell_type": "markdown",
      "metadata": {
        "id": "view-in-github",
        "colab_type": "text"
      },
      "source": [
        "<a href=\"https://colab.research.google.com/github/x1001000/Python_snippets/blob/master/sqlite3_pandas.ipynb\" target=\"_parent\"><img src=\"https://colab.research.google.com/assets/colab-badge.svg\" alt=\"Open In Colab\"/></a>"
      ]
    },
    {
      "cell_type": "markdown",
      "source": [
        "### 新建一個關聯式資料庫的五個資料表: visits, patients, examiners, module1, module2"
      ],
      "metadata": {
        "id": "P2Xk4CMKRTuR"
      }
    },
    {
      "cell_type": "code",
      "execution_count": null,
      "metadata": {
        "colab": {
          "base_uri": "https://localhost:8080/"
        },
        "id": "bQhp4NBYOdEf",
        "outputId": "13eeee00-ce5e-42da-f004-99ec2a953482"
      },
      "outputs": [
        {
          "output_type": "execute_result",
          "data": {
            "text/plain": [
              "<sqlite3.Cursor at 0x7fae2c68d420>"
            ]
          },
          "metadata": {},
          "execution_count": 1
        }
      ],
      "source": [
        "import sqlite3\n",
        "con = sqlite3.connect('example.db')\n",
        "cur = con.cursor()\n",
        "cur.execute('CREATE TABLE visits (id INTEGER PRIMARY KEY, datetime, patient_id REFERENCES patients(id), examiner_id REFERENCES examiners(id), module1_id REFERENCES module1(id), module2_id REFERENCES module2(id))')\n",
        "cur.execute('CREATE TABLE patients (id PRIMARY KEY, name)')\n",
        "cur.execute('CREATE TABLE examiners (id PRIMARY KEY, name)')\n",
        "cur.execute('CREATE TABLE module1 (id INTEGER PRIMARY KEY, data1, data2, data3)')\n",
        "cur.execute('CREATE TABLE module2 (id INTEGER PRIMARY KEY, data1, data2, data3, data4, data5)')"
      ]
    },
    {
      "cell_type": "code",
      "source": [
        "#@title 重複執行此格，新增或更新醫檢員資料\n",
        "員工編號 = \"TW003\" #@param {type:\"string\"}\n",
        "員工姓名 = \"\\u67EF\\u5B78\\u5BB6\" #@param {type:\"string\"}\n",
        "try:\n",
        "    cur.execute(f'INSERT INTO examiners (id, name) VALUES (\"{員工編號}\", \"{員工姓名}\")')\n",
        "except:\n",
        "    cur.execute(f'UPDATE examiners SET name = \"{員工姓名}\" WHERE id = \"{員工編號}\"')"
      ],
      "metadata": {
        "cellView": "form",
        "id": "PpuDI7JjFzzy"
      },
      "execution_count": null,
      "outputs": []
    },
    {
      "cell_type": "markdown",
      "source": [
        "### 檢視現有醫檢員: examiners資料表"
      ],
      "metadata": {
        "id": "EAOzeK5SH76A"
      }
    },
    {
      "cell_type": "code",
      "source": [
        "import pandas as pd\n",
        "examiners = pd.read_sql('SELECT * FROM examiners', con)\n",
        "examiners.style.hide_index()"
      ],
      "metadata": {
        "id": "58f2fqX-MzQG",
        "outputId": "b7e85dae-d7dc-42a9-e5fe-186865386037",
        "colab": {
          "base_uri": "https://localhost:8080/",
          "height": 143
        }
      },
      "execution_count": null,
      "outputs": [
        {
          "output_type": "execute_result",
          "data": {
            "text/html": [
              "<style  type=\"text/css\" >\n",
              "</style><table id=\"T_7f4c1e6c_74ba_11ec_bdeb_0242ac1c0002\" class=\"dataframe\"><thead>    <tr>        <th class=\"col_heading level0 col0\" >id</th>        <th class=\"col_heading level0 col1\" >name</th>    </tr></thead><tbody>\n",
              "                <tr>\n",
              "                                <td id=\"T_7f4c1e6c_74ba_11ec_bdeb_0242ac1c0002row0_col0\" class=\"data row0 col0\" >TW001</td>\n",
              "                        <td id=\"T_7f4c1e6c_74ba_11ec_bdeb_0242ac1c0002row0_col1\" class=\"data row0 col1\" >英皇</td>\n",
              "            </tr>\n",
              "            <tr>\n",
              "                                <td id=\"T_7f4c1e6c_74ba_11ec_bdeb_0242ac1c0002row1_col0\" class=\"data row1 col0\" >TW002</td>\n",
              "                        <td id=\"T_7f4c1e6c_74ba_11ec_bdeb_0242ac1c0002row1_col1\" class=\"data row1 col1\" >郭董</td>\n",
              "            </tr>\n",
              "            <tr>\n",
              "                                <td id=\"T_7f4c1e6c_74ba_11ec_bdeb_0242ac1c0002row2_col0\" class=\"data row2 col0\" >TW003</td>\n",
              "                        <td id=\"T_7f4c1e6c_74ba_11ec_bdeb_0242ac1c0002row2_col1\" class=\"data row2 col1\" >柯學家</td>\n",
              "            </tr>\n",
              "    </tbody></table>"
            ],
            "text/plain": [
              "<pandas.io.formats.style.Styler at 0x7fae283e7510>"
            ]
          },
          "metadata": {},
          "execution_count": 6
        }
      ]
    },
    {
      "cell_type": "code",
      "source": [
        "#@title 重複執行此格，模擬醫檢員操作軟體\n",
        "醫檢員姓名 = \"\\u90ED\\u8463\" #@param {type:\"string\"}\n",
        "操作項目 = \"\\u50C5\\u65B0\\u589E\\u6216\\u66F4\\u65B0\\u75C5\\u4EBA\\u500B\\u8CC7\" #@param [\"僅新增或更新病人個資\", \"使用 Module 1\", \"使用 Module 2\"]\n",
        "病人編號 = \"QQ8888\" #@param {type:\"string\"}\n",
        "病人姓名 = \"\\u529B\\u5B8F\" #@param {type:\"string\"}\n",
        "受檢日期 = \"2022-01-14\" #@param {type:\"date\"}\n",
        "data1 =  22#@param {type:\"number\"}\n",
        "data2 =  66#@param {type:\"number\"}\n",
        "data3 =  101#@param {type:\"number\"}\n",
        "data4 =  -1#@param {type:\"number\"}\n",
        "data5 =  -2#@param {type:\"number\"}\n",
        "\n",
        "if (醫檢員姓名 == examiners['name']).any():\n",
        "\n",
        "    try:\n",
        "        cur.execute(f'INSERT INTO patients (id, name) VALUES (\"{病人編號}\", \"{病人姓名}\")')\n",
        "    except:\n",
        "        cur.execute(f'UPDATE patients SET name = \"{病人姓名}\" WHERE id = \"{病人編號}\"')\n",
        "\n",
        "    if 操作項目 == '使用 Module 1':\n",
        "        cur.execute(f'INSERT INTO module1 (data1, data2, data3) VALUES ({data1}, {data2}, {data3})')\n",
        "        cur.execute(f'INSERT INTO visits (datetime, patient_id, examiner_id, module1_id, module2_id) VALUES (\"{受檢日期}\", \"{病人編號}\", (SELECT id FROM examiners WHERE name = \"{醫檢員姓名}\"), (SELECT MAX(id) FROM module1), 0)')\n",
        "\n",
        "    if 操作項目 == '使用 Module 2':\n",
        "        cur.execute(f'INSERT INTO module2 (data1, data2, data3, data4, data5) VALUES ({data1}, {data2}, {data3}, {data4}, {data5})')\n",
        "        cur.execute(f'INSERT INTO visits (datetime, patient_id, examiner_id, module1_id, module2_id) VALUES (\"{受檢日期}\", \"{病人編號}\", (SELECT id FROM examiners WHERE name = \"{醫檢員姓名}\"), 0, (SELECT MAX(id) FROM module2))')\n",
        "\n",
        "else:\n",
        "    print('沒有這位醫檢員！')"
      ],
      "metadata": {
        "cellView": "form",
        "id": "p6axY_eATPL4"
      },
      "execution_count": null,
      "outputs": []
    },
    {
      "cell_type": "markdown",
      "source": [
        "### 檢視visits資料表和patients資料表"
      ],
      "metadata": {
        "id": "L31ml0f9vPxj"
      }
    },
    {
      "cell_type": "code",
      "source": [
        "visits = pd.read_sql('SELECT * FROM visits', con)\n",
        "visits.style.hide_index()"
      ],
      "metadata": {
        "id": "KEMgV26DTyVM",
        "outputId": "87c17309-7598-40c2-cb31-316bd726ae84",
        "colab": {
          "base_uri": "https://localhost:8080/",
          "height": 143
        }
      },
      "execution_count": null,
      "outputs": [
        {
          "output_type": "execute_result",
          "data": {
            "text/html": [
              "<style  type=\"text/css\" >\n",
              "</style><table id=\"T_deb83eda_74ba_11ec_bdeb_0242ac1c0002\" class=\"dataframe\"><thead>    <tr>        <th class=\"col_heading level0 col0\" >id</th>        <th class=\"col_heading level0 col1\" >datetime</th>        <th class=\"col_heading level0 col2\" >patient_id</th>        <th class=\"col_heading level0 col3\" >examiner_id</th>        <th class=\"col_heading level0 col4\" >module1_id</th>        <th class=\"col_heading level0 col5\" >module2_id</th>    </tr></thead><tbody>\n",
              "                <tr>\n",
              "                                <td id=\"T_deb83eda_74ba_11ec_bdeb_0242ac1c0002row0_col0\" class=\"data row0 col0\" >1</td>\n",
              "                        <td id=\"T_deb83eda_74ba_11ec_bdeb_0242ac1c0002row0_col1\" class=\"data row0 col1\" >2022-01-13</td>\n",
              "                        <td id=\"T_deb83eda_74ba_11ec_bdeb_0242ac1c0002row0_col2\" class=\"data row0 col2\" >QQ5566</td>\n",
              "                        <td id=\"T_deb83eda_74ba_11ec_bdeb_0242ac1c0002row0_col3\" class=\"data row0 col3\" >TW003</td>\n",
              "                        <td id=\"T_deb83eda_74ba_11ec_bdeb_0242ac1c0002row0_col4\" class=\"data row0 col4\" >1</td>\n",
              "                        <td id=\"T_deb83eda_74ba_11ec_bdeb_0242ac1c0002row0_col5\" class=\"data row0 col5\" >0</td>\n",
              "            </tr>\n",
              "            <tr>\n",
              "                                <td id=\"T_deb83eda_74ba_11ec_bdeb_0242ac1c0002row1_col0\" class=\"data row1 col0\" >2</td>\n",
              "                        <td id=\"T_deb83eda_74ba_11ec_bdeb_0242ac1c0002row1_col1\" class=\"data row1 col1\" >2022-01-13</td>\n",
              "                        <td id=\"T_deb83eda_74ba_11ec_bdeb_0242ac1c0002row1_col2\" class=\"data row1 col2\" >QQ5566</td>\n",
              "                        <td id=\"T_deb83eda_74ba_11ec_bdeb_0242ac1c0002row1_col3\" class=\"data row1 col3\" >TW003</td>\n",
              "                        <td id=\"T_deb83eda_74ba_11ec_bdeb_0242ac1c0002row1_col4\" class=\"data row1 col4\" >0</td>\n",
              "                        <td id=\"T_deb83eda_74ba_11ec_bdeb_0242ac1c0002row1_col5\" class=\"data row1 col5\" >1</td>\n",
              "            </tr>\n",
              "            <tr>\n",
              "                                <td id=\"T_deb83eda_74ba_11ec_bdeb_0242ac1c0002row2_col0\" class=\"data row2 col0\" >3</td>\n",
              "                        <td id=\"T_deb83eda_74ba_11ec_bdeb_0242ac1c0002row2_col1\" class=\"data row2 col1\" >2022-01-14</td>\n",
              "                        <td id=\"T_deb83eda_74ba_11ec_bdeb_0242ac1c0002row2_col2\" class=\"data row2 col2\" >QQ8888</td>\n",
              "                        <td id=\"T_deb83eda_74ba_11ec_bdeb_0242ac1c0002row2_col3\" class=\"data row2 col3\" >TW002</td>\n",
              "                        <td id=\"T_deb83eda_74ba_11ec_bdeb_0242ac1c0002row2_col4\" class=\"data row2 col4\" >2</td>\n",
              "                        <td id=\"T_deb83eda_74ba_11ec_bdeb_0242ac1c0002row2_col5\" class=\"data row2 col5\" >0</td>\n",
              "            </tr>\n",
              "    </tbody></table>"
            ],
            "text/plain": [
              "<pandas.io.formats.style.Styler at 0x7fae272ad690>"
            ]
          },
          "metadata": {},
          "execution_count": 14
        }
      ]
    },
    {
      "cell_type": "code",
      "source": [
        "patients = pd.read_sql('SELECT * FROM patients', con)\n",
        "patients.style.hide_index()"
      ],
      "metadata": {
        "id": "WpkmxOwvTlDa",
        "outputId": "fbf67642-7d05-49b4-d306-bb3e38e36d33",
        "colab": {
          "base_uri": "https://localhost:8080/",
          "height": 112
        }
      },
      "execution_count": null,
      "outputs": [
        {
          "output_type": "execute_result",
          "data": {
            "text/html": [
              "<style  type=\"text/css\" >\n",
              "</style><table id=\"T_e130135e_74ba_11ec_bdeb_0242ac1c0002\" class=\"dataframe\"><thead>    <tr>        <th class=\"col_heading level0 col0\" >id</th>        <th class=\"col_heading level0 col1\" >name</th>    </tr></thead><tbody>\n",
              "                <tr>\n",
              "                                <td id=\"T_e130135e_74ba_11ec_bdeb_0242ac1c0002row0_col0\" class=\"data row0 col0\" >QQ5566</td>\n",
              "                        <td id=\"T_e130135e_74ba_11ec_bdeb_0242ac1c0002row0_col1\" class=\"data row0 col1\" >Phil</td>\n",
              "            </tr>\n",
              "            <tr>\n",
              "                                <td id=\"T_e130135e_74ba_11ec_bdeb_0242ac1c0002row1_col0\" class=\"data row1 col0\" >QQ8888</td>\n",
              "                        <td id=\"T_e130135e_74ba_11ec_bdeb_0242ac1c0002row1_col1\" class=\"data row1 col1\" >力宏</td>\n",
              "            </tr>\n",
              "    </tbody></table>"
            ],
            "text/plain": [
              "<pandas.io.formats.style.Styler at 0x7fae274ee0d0>"
            ]
          },
          "metadata": {},
          "execution_count": 15
        }
      ]
    },
    {
      "cell_type": "markdown",
      "source": [
        "### 檢視module1資料表和module2資料表"
      ],
      "metadata": {
        "id": "ln4WfxTFTxTY"
      }
    },
    {
      "cell_type": "code",
      "source": [
        "module1 = pd.read_sql('SELECT * FROM module1', con)\n",
        "module1.style.hide_index()"
      ],
      "metadata": {
        "id": "03a4Ku6iT4jQ",
        "outputId": "6bef9f13-168d-4dcc-f181-db00f2de0cfa",
        "colab": {
          "base_uri": "https://localhost:8080/",
          "height": 112
        }
      },
      "execution_count": null,
      "outputs": [
        {
          "output_type": "execute_result",
          "data": {
            "text/html": [
              "<style  type=\"text/css\" >\n",
              "</style><table id=\"T_e9c98054_74ba_11ec_bdeb_0242ac1c0002\" class=\"dataframe\"><thead>    <tr>        <th class=\"col_heading level0 col0\" >id</th>        <th class=\"col_heading level0 col1\" >data1</th>        <th class=\"col_heading level0 col2\" >data2</th>        <th class=\"col_heading level0 col3\" >data3</th>    </tr></thead><tbody>\n",
              "                <tr>\n",
              "                                <td id=\"T_e9c98054_74ba_11ec_bdeb_0242ac1c0002row0_col0\" class=\"data row0 col0\" >1</td>\n",
              "                        <td id=\"T_e9c98054_74ba_11ec_bdeb_0242ac1c0002row0_col1\" class=\"data row0 col1\" >100</td>\n",
              "                        <td id=\"T_e9c98054_74ba_11ec_bdeb_0242ac1c0002row0_col2\" class=\"data row0 col2\" >1000</td>\n",
              "                        <td id=\"T_e9c98054_74ba_11ec_bdeb_0242ac1c0002row0_col3\" class=\"data row0 col3\" >3.140000</td>\n",
              "            </tr>\n",
              "            <tr>\n",
              "                                <td id=\"T_e9c98054_74ba_11ec_bdeb_0242ac1c0002row1_col0\" class=\"data row1 col0\" >2</td>\n",
              "                        <td id=\"T_e9c98054_74ba_11ec_bdeb_0242ac1c0002row1_col1\" class=\"data row1 col1\" >22</td>\n",
              "                        <td id=\"T_e9c98054_74ba_11ec_bdeb_0242ac1c0002row1_col2\" class=\"data row1 col2\" >66</td>\n",
              "                        <td id=\"T_e9c98054_74ba_11ec_bdeb_0242ac1c0002row1_col3\" class=\"data row1 col3\" >101.000000</td>\n",
              "            </tr>\n",
              "    </tbody></table>"
            ],
            "text/plain": [
              "<pandas.io.formats.style.Styler at 0x7fae2ee71410>"
            ]
          },
          "metadata": {},
          "execution_count": 16
        }
      ]
    },
    {
      "cell_type": "code",
      "source": [
        "module2 = pd.read_sql('SELECT * FROM module2', con)\n",
        "module2.style.hide_index()"
      ],
      "metadata": {
        "id": "8jELVs6NT-Ig",
        "outputId": "380fd6ec-6ebe-4894-c24f-2a4d918c06c6",
        "colab": {
          "base_uri": "https://localhost:8080/",
          "height": 81
        }
      },
      "execution_count": null,
      "outputs": [
        {
          "output_type": "execute_result",
          "data": {
            "text/html": [
              "<style  type=\"text/css\" >\n",
              "</style><table id=\"T_eb51d034_74ba_11ec_bdeb_0242ac1c0002\" class=\"dataframe\"><thead>    <tr>        <th class=\"col_heading level0 col0\" >id</th>        <th class=\"col_heading level0 col1\" >data1</th>        <th class=\"col_heading level0 col2\" >data2</th>        <th class=\"col_heading level0 col3\" >data3</th>        <th class=\"col_heading level0 col4\" >data4</th>        <th class=\"col_heading level0 col5\" >data5</th>    </tr></thead><tbody>\n",
              "                <tr>\n",
              "                                <td id=\"T_eb51d034_74ba_11ec_bdeb_0242ac1c0002row0_col0\" class=\"data row0 col0\" >1</td>\n",
              "                        <td id=\"T_eb51d034_74ba_11ec_bdeb_0242ac1c0002row0_col1\" class=\"data row0 col1\" >9487</td>\n",
              "                        <td id=\"T_eb51d034_74ba_11ec_bdeb_0242ac1c0002row0_col2\" class=\"data row0 col2\" >0.010000</td>\n",
              "                        <td id=\"T_eb51d034_74ba_11ec_bdeb_0242ac1c0002row0_col3\" class=\"data row0 col3\" >100</td>\n",
              "                        <td id=\"T_eb51d034_74ba_11ec_bdeb_0242ac1c0002row0_col4\" class=\"data row0 col4\" >-1</td>\n",
              "                        <td id=\"T_eb51d034_74ba_11ec_bdeb_0242ac1c0002row0_col5\" class=\"data row0 col5\" >-2</td>\n",
              "            </tr>\n",
              "    </tbody></table>"
            ],
            "text/plain": [
              "<pandas.io.formats.style.Styler at 0x7fae283f11d0>"
            ]
          },
          "metadata": {},
          "execution_count": 17
        }
      ]
    }
  ]
}