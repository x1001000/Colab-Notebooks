{
  "nbformat": 4,
  "nbformat_minor": 0,
  "metadata": {
    "colab": {
      "provenance": [],
      "authorship_tag": "ABX9TyNELX4wuboUtSSX1qU7Deyb",
      "include_colab_link": true
    },
    "kernelspec": {
      "name": "python3",
      "display_name": "Python 3"
    },
    "language_info": {
      "name": "python"
    }
  },
  "cells": [
    {
      "cell_type": "markdown",
      "metadata": {
        "id": "view-in-github",
        "colab_type": "text"
      },
      "source": [
        "<a href=\"https://colab.research.google.com/github/x1001000/Colab-Notebooks/blob/main/videoio.ipynb\" target=\"_parent\"><img src=\"https://colab.research.google.com/assets/colab-badge.svg\" alt=\"Open In Colab\"/></a>"
      ]
    },
    {
      "cell_type": "code",
      "source": [
        "!pip install videoio"
      ],
      "metadata": {
        "id": "VEFhpX7MR7OF",
        "colab": {
          "base_uri": "https://localhost:8080/"
        },
        "outputId": "5441460c-c57c-44a9-975d-b979358a7333"
      },
      "execution_count": 1,
      "outputs": [
        {
          "output_type": "stream",
          "name": "stdout",
          "text": [
            "Looking in indexes: https://pypi.org/simple, https://us-python.pkg.dev/colab-wheels/public/simple/\n",
            "Requirement already satisfied: videoio in /usr/local/lib/python3.8/dist-packages (0.2.8)\n",
            "Requirement already satisfied: numpy in /usr/local/lib/python3.8/dist-packages (from videoio) (1.21.6)\n",
            "Requirement already satisfied: ffmpeg-python in /usr/local/lib/python3.8/dist-packages (from videoio) (0.2.0)\n",
            "Requirement already satisfied: future in /usr/local/lib/python3.8/dist-packages (from ffmpeg-python->videoio) (0.16.0)\n"
          ]
        }
      ]
    },
    {
      "cell_type": "code",
      "source": [
        "import cv2\n",
        "cap = cv2.VideoCapture('20220826_173913_H01_NSS88932_Test4.mp4')"
      ],
      "metadata": {
        "id": "rC-3QrUdSCWd"
      },
      "execution_count": 2,
      "outputs": []
    },
    {
      "cell_type": "code",
      "source": [
        "from videoio import VideoWriter\n",
        "writer = VideoWriter('21fps.mp4', resolution=(1280, 400), fps=21)"
      ],
      "metadata": {
        "id": "GT0vDgThTK8X"
      },
      "execution_count": 3,
      "outputs": []
    },
    {
      "cell_type": "code",
      "source": [
        "while cap.isOpened():\n",
        "    ret, frame = cap.read()\n",
        "    if ret:\n",
        "        writer.write(frame)\n",
        "    else:\n",
        "        cap.release()\n",
        "        writer.close()"
      ],
      "metadata": {
        "id": "U2UAT2C7Sr_m"
      },
      "execution_count": 4,
      "outputs": []
    }
  ]
}