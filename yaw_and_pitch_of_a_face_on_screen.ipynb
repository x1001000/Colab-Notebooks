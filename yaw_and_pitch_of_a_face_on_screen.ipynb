{
  "nbformat": 4,
  "nbformat_minor": 0,
  "metadata": {
    "colab": {
      "name": "yaw and pitch of a face on screen",
      "provenance": [],
      "authorship_tag": "ABX9TyPqjxAc9ERkrCkxWr4o6O4A",
      "include_colab_link": true
    },
    "kernelspec": {
      "name": "python3",
      "display_name": "Python 3"
    },
    "language_info": {
      "name": "python"
    }
  },
  "cells": [
    {
      "cell_type": "markdown",
      "metadata": {
        "id": "view-in-github",
        "colab_type": "text"
      },
      "source": [
        "<a href=\"https://colab.research.google.com/github/x1001000/Python_snippets/blob/master/yaw_and_pitch_of_a_face_on_screen.ipynb\" target=\"_parent\"><img src=\"https://colab.research.google.com/assets/colab-badge.svg\" alt=\"Open In Colab\"/></a>"
      ]
    },
    {
      "cell_type": "code",
      "metadata": {
        "id": "sOSBcMtSOqRm"
      },
      "source": [
        "import numpy as np\n",
        "radius  = 1\n",
        "theta   = np.random.sample(10)\n",
        "phi     = np.random.sample(10)\n",
        "z = radius * np.cos(theta)\n",
        "x = radius * np.sin(theta) * np.cos(phi)\n",
        "y = radius * np.sin(theta) * np.sin(phi)"
      ],
      "execution_count": 14,
      "outputs": []
    },
    {
      "cell_type": "code",
      "metadata": {
        "id": "-0qFPdH2TkiI"
      },
      "source": [
        "yaw   = np.arctan(x / z)\n",
        "pitch = np.arctan(y / z)"
      ],
      "execution_count": 25,
      "outputs": []
    }
  ]
}