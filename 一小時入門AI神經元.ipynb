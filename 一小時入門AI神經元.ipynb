{
  "nbformat": 4,
  "nbformat_minor": 0,
  "metadata": {
    "colab": {
      "provenance": [],
      "collapsed_sections": [],
      "include_colab_link": true
    },
    "kernelspec": {
      "name": "python3",
      "display_name": "Python 3"
    },
    "accelerator": "GPU"
  },
  "cells": [
    {
      "cell_type": "markdown",
      "metadata": {
        "id": "view-in-github",
        "colab_type": "text"
      },
      "source": [
        "<a href=\"https://colab.research.google.com/github/x1001000/Colab-Notebooks/blob/main/%E4%B8%80%E5%B0%8F%E6%99%82%E5%85%A5%E9%96%80AI%E7%A5%9E%E7%B6%93%E5%85%83.ipynb\" target=\"_parent\"><img src=\"https://colab.research.google.com/assets/colab-badge.svg\" alt=\"Open In Colab\"/></a>"
      ]
    },
    {
      "cell_type": "markdown",
      "metadata": {
        "id": "motxQ-WfV9vO"
      },
      "source": [
        "# Data"
      ]
    },
    {
      "cell_type": "markdown",
      "metadata": {
        "id": "86D8fM6-33Yk"
      },
      "source": [
        "1. 資料要數據化成Ｎ維陣列  \n",
        "資料要視覺化以幫助理解\n",
        "\n",
        "2. 匯入Ｎ維陣列運算要用的函式庫 numpy  \n",
        "匯入作圖要用的函式庫 matplotlib.pyplot"
      ]
    },
    {
      "cell_type": "code",
      "metadata": {
        "id": "jRG5EitZxlcO"
      },
      "source": [
        "import numpy as np\n",
        "import matplotlib.pyplot as plt"
      ],
      "execution_count": null,
      "outputs": []
    },
    {
      "cell_type": "markdown",
      "metadata": {
        "id": "L-WBfUAK_QB1"
      },
      "source": [
        "3. 串列(list)與陣列(array)的元素，皆有序可供索引  \n",
        "串列的元素可以不同類別  \n",
        "陣列的元素必須相同類別，儲存在連續的記憶體位址上，故運算效率高\n",
        "\n",
        "4. 複習一下串列"
      ]
    },
    {
      "cell_type": "code",
      "metadata": {
        "id": "pCnkWRWq4uTb",
        "outputId": "319f1ee9-270b-49dc-d598-5214635b90d7",
        "colab": {
          "base_uri": "https://localhost:8080/",
          "height": 51
        }
      },
      "source": [
        "a = [ 1001000, 3.14, [5,5,6,6], 'Hello Python!' ]\n",
        "print(type(a))\n",
        "print(len(a))"
      ],
      "execution_count": null,
      "outputs": [
        {
          "output_type": "stream",
          "text": [
            "<class 'list'>\n",
            "4\n"
          ],
          "name": "stdout"
        }
      ]
    },
    {
      "cell_type": "markdown",
      "metadata": {
        "id": "axn22aoT9nGX"
      },
      "source": [
        "5. 把串列轉成陣列，陣列 = np.array(串列)\n",
        "\n",
        "6. 查看陣列的形狀(shape)及維度(ndim)"
      ]
    },
    {
      "cell_type": "code",
      "metadata": {
        "id": "hWJFxi7H5WnJ",
        "outputId": "7794e478-2aca-41b1-e80d-a1973e9c6800",
        "colab": {
          "base_uri": "https://localhost:8080/",
          "height": 340
        }
      },
      "source": [
        "a = [5, 5, 6, 6]\n",
        "b = [a, a]\n",
        "c = [b, b, b, b, b]\n",
        "d = np.array( c )\n",
        "print(d)\n",
        "print(type(d))\n",
        "print(len(c))\n",
        "print(len(d))\n",
        "print(d.shape)\n",
        "print(d.ndim)"
      ],
      "execution_count": null,
      "outputs": [
        {
          "output_type": "stream",
          "text": [
            "[[[5 5 6 6]\n",
            "  [5 5 6 6]]\n",
            "\n",
            " [[5 5 6 6]\n",
            "  [5 5 6 6]]\n",
            "\n",
            " [[5 5 6 6]\n",
            "  [5 5 6 6]]\n",
            "\n",
            " [[5 5 6 6]\n",
            "  [5 5 6 6]]\n",
            "\n",
            " [[5 5 6 6]\n",
            "  [5 5 6 6]]]\n",
            "<class 'numpy.ndarray'>\n",
            "5\n",
            "5\n",
            "(5, 2, 4)\n",
            "3\n"
          ],
          "name": "stdout"
        }
      ]
    },
    {
      "cell_type": "markdown",
      "metadata": {
        "id": "aF3ceYqmED3q"
      },
      "source": [
        "7. 一維陣列 aka 向量  \n",
        "二維陣列 aka 矩陣  \n",
        "Ｎ維陣列 aka 張量"
      ]
    },
    {
      "cell_type": "markdown",
      "metadata": {
        "id": "Ww97ynVlHelS"
      },
      "source": [
        "# Linear Regression"
      ]
    },
    {
      "cell_type": "markdown",
      "metadata": {
        "id": "nd3tbvdjx6yS"
      },
      "source": [
        "8. 函數是一對一或多對一的關係，可用來模型化一個系統的輸入和輸出的關係  \n",
        "線性迴歸就是求最接近全部樣本的一個線性函數，線性函數的示意圖像神經元  \n",
        "用一堆線性函數串並聯模型化一個複雜系統（例如輸入貓圖片輸出貓答案）的示意圖像神經網路\n",
        "\n",
        "9. 用一個極簡的例子來理解何謂線性迴歸  \n",
        "用五筆特徵x及其標籤y，反覆更新w(weight)和b(bias)，使得線性函數y=wx+b更接近這五個資料點，反覆更新的過程就稱為「訓練」或「學習」"
      ]
    },
    {
      "cell_type": "code",
      "metadata": {
        "id": "A5Nogo-RGqen",
        "outputId": "c9a8b83e-4667-493d-bff8-6bee2e95a04e",
        "colab": {
          "base_uri": "https://localhost:8080/",
          "height": 287
        }
      },
      "source": [
        "# 五筆特徵xs\n",
        "xs = np.array( [ 1, 2, 3, 4, 5] )\n",
        "# 及其標籤ys\n",
        "ys = np.array( [10,20,30,43,59] )\n",
        "# 繪製散佈圖，輸入X座標們xs及Y座標們ys\n",
        "plt.scatter(xs, ys)\n",
        "# 繪製折線圖，輸入X座標們xs及Y座標們ys\n",
        "plt.plot(xs, ys)"
      ],
      "execution_count": null,
      "outputs": [
        {
          "output_type": "execute_result",
          "data": {
            "text/plain": [
              "[<matplotlib.lines.Line2D at 0x7fa8b9985048>]"
            ]
          },
          "metadata": {
            "tags": []
          },
          "execution_count": 28
        },
        {
          "output_type": "display_data",
          "data": {
            "image/png": "[encoded data removed]",
            "text/plain": [
              "<Figure size 432x288 with 1 Axes>"
            ]
          },
          "metadata": {
            "tags": []
          }
        }
      ]
    },
    {
      "cell_type": "markdown",
      "metadata": {
        "id": "nO1Vgsk9XRzQ"
      },
      "source": [
        "# Model"
      ]
    },
    {
      "cell_type": "markdown",
      "metadata": {
        "id": "K27ixz0BBeDZ"
      },
      "source": [
        "10. 初學者用Keras函式庫（之後再用TensorFlow函式庫）  \n",
        "初學者用順序式模型（之後再用函數式模型）"
      ]
    },
    {
      "cell_type": "code",
      "metadata": {
        "id": "ub7Iwo_0A-I1"
      },
      "source": [
        "from keras.models import Sequential\n",
        "model = Sequential()"
      ],
      "execution_count": null,
      "outputs": []
    },
    {
      "cell_type": "markdown",
      "metadata": {
        "id": "QSEXUNnHFgSa"
      },
      "source": [
        "11. Dense(全連接)層有三個引數要設：\n",
        "    1. 每筆資料的特徵x只有1個數（長度為1的向量），故這個Dense層的input_dim=1\n",
        "    2. 每筆資料的標籤y只有1個數（長度為1的向量），故這個Dense層需units=1個神經元\n",
        "    3. 激活函數activation=None，讓y直接等於f(x)"
      ]
    },
    {
      "cell_type": "code",
      "metadata": {
        "id": "CEQ_nRkpBRVh"
      },
      "source": [
        "from keras.layers import Dense\n",
        "model.add(Dense(input_dim=1, units=1, activation=None))"
      ],
      "execution_count": null,
      "outputs": []
    },
    {
      "cell_type": "markdown",
      "metadata": {
        "id": "FdoF649QSkQ_"
      },
      "source": [
        "12. 這個模型的概要檢視  \n",
        "這個模型只有一個Dense層，這個Dense層只有一個神經元，這個神經元只有兩個Param要訓練  \n",
        "任何模型的每一層的Param數量要知道怎麼算，才能對該模型有概念"
      ]
    },
    {
      "cell_type": "code",
      "metadata": {
        "id": "_wiZcpqlItVQ",
        "outputId": "5fc81997-9566-403d-fed3-b57445955d5b",
        "colab": {
          "base_uri": "https://localhost:8080/",
          "height": 173
        }
      },
      "source": [
        "model.summary()"
      ],
      "execution_count": null,
      "outputs": [
        {
          "output_type": "stream",
          "text": [
            "_________________________________________________________________\n",
            "Layer (type)                 Output Shape              Param #   \n",
            "=================================================================\n",
            "dense_2 (Dense)              (None, 1)                 2         \n",
            "=================================================================\n",
            "Total params: 2\n",
            "Trainable params: 2\n",
            "Non-trainable params: 0\n",
            "_________________________________________________________________\n"
          ],
          "name": "stdout"
        }
      ]
    },
    {
      "cell_type": "markdown",
      "metadata": {
        "id": "htqdwNnUkpBy"
      },
      "source": [
        "13. 尚未訓練的Param們的初始值"
      ]
    },
    {
      "cell_type": "code",
      "metadata": {
        "id": "EJqHRLvnjPTZ",
        "outputId": "40ace69a-311d-4aaa-ce71-ff10373a9fa5",
        "colab": {
          "base_uri": "https://localhost:8080/",
          "height": 52
        }
      },
      "source": [
        "w, b = model.layers[0].get_weights()\n",
        "print('w =', w[0])\n",
        "print('b =', b[0])"
      ],
      "execution_count": null,
      "outputs": [
        {
          "output_type": "stream",
          "text": [
            "w = [6.1198597]\n",
            "b = 1.3840668\n"
          ],
          "name": "stdout"
        }
      ]
    },
    {
      "cell_type": "markdown",
      "metadata": {
        "id": "fHFbYjNHTNdY"
      },
      "source": [
        "# Training"
      ]
    },
    {
      "cell_type": "markdown",
      "metadata": {
        "id": "ePRDFrxVI3KD"
      },
      "source": [
        "14. [Before training a model, you need to configure the learning process, which is done via the compile method.](https://keras.io/getting-started/sequential-model-guide/)\n",
        "\n",
        "15. Param的誤差函數Loss(w,b)的算法，在此採用MSE(均方誤差法)  \n",
        "Param的最佳解的找法，在此採用SGD(隨機梯度下降法)"
      ]
    },
    {
      "cell_type": "code",
      "metadata": {
        "id": "yne07GxQFB_f",
        "outputId": "252fe1eb-7c8c-43cb-8cf3-533faae6dfdf",
        "colab": {
          "base_uri": "https://localhost:8080/",
          "height": 72
        }
      },
      "source": [
        "model.compile(loss='MSE',\n",
        "              optimizer='SGD')"
      ],
      "execution_count": null,
      "outputs": [
        {
          "output_type": "stream",
          "text": [
            "W0814 05:23:16.502080 140365212202880 deprecation_wrapper.py:119] From /usr/local/lib/python3.6/dist-packages/keras/optimizers.py:790: The name tf.train.Optimizer is deprecated. Please use tf.compat.v1.train.Optimizer instead.\n",
            "\n"
          ],
          "name": "stderr"
        }
      ]
    },
    {
      "cell_type": "markdown",
      "metadata": {
        "id": "_-qG1KEGHs-G"
      },
      "source": [
        "16. 訓練10個回合(epochs)"
      ]
    },
    {
      "cell_type": "code",
      "metadata": {
        "id": "PFBLINzWLcVK",
        "outputId": "1bca620d-2537-4607-e3e2-1d4e07e230f9",
        "colab": {
          "base_uri": "https://localhost:8080/",
          "height": 381
        }
      },
      "source": [
        "model.fit(xs, ys, epochs=10)"
      ],
      "execution_count": null,
      "outputs": [
        {
          "output_type": "stream",
          "text": [
            "Epoch 1/10\n",
            "5/5 [==============================] - 0s 917us/step - loss: 55.1892\n",
            "Epoch 2/10\n",
            "5/5 [==============================] - 0s 2ms/step - loss: 36.6306\n",
            "Epoch 3/10\n",
            "5/5 [==============================] - 0s 777us/step - loss: 25.7951\n",
            "Epoch 4/10\n",
            "5/5 [==============================] - 0s 1ms/step - loss: 19.4602\n",
            "Epoch 5/10\n",
            "5/5 [==============================] - 0s 1ms/step - loss: 15.7483\n",
            "Epoch 6/10\n",
            "5/5 [==============================] - 0s 815us/step - loss: 13.5651\n",
            "Epoch 7/10\n",
            "5/5 [==============================] - 0s 731us/step - loss: 12.2729\n",
            "Epoch 8/10\n",
            "5/5 [==============================] - 0s 1ms/step - loss: 11.4999\n",
            "Epoch 9/10\n",
            "5/5 [==============================] - 0s 815us/step - loss: 11.0298\n",
            "Epoch 10/10\n",
            "5/5 [==============================] - 0s 869us/step - loss: 10.7363\n"
          ],
          "name": "stdout"
        },
        {
          "output_type": "execute_result",
          "data": {
            "text/plain": [
              "<keras.callbacks.History at 0x7fa8b9a372e8>"
            ]
          },
          "metadata": {
            "tags": []
          },
          "execution_count": 22
        }
      ]
    },
    {
      "cell_type": "markdown",
      "metadata": {
        "id": "7Y6CSiUasrMe"
      },
      "source": [
        "17. 更新後的Param們"
      ]
    },
    {
      "cell_type": "code",
      "metadata": {
        "id": "DbIZphaXL6FM",
        "outputId": "236a0308-380c-4466-e207-3b68a1ebf648",
        "colab": {
          "base_uri": "https://localhost:8080/",
          "height": 52
        }
      },
      "source": [
        "w, b = model.layers[0].get_weights()\n",
        "print('w =', w[0])\n",
        "print('b =', b[0])"
      ],
      "execution_count": null,
      "outputs": [
        {
          "output_type": "stream",
          "text": [
            "w = [10.266068]\n",
            "b = 2.2335608\n"
          ],
          "name": "stdout"
        }
      ]
    },
    {
      "cell_type": "markdown",
      "metadata": {
        "id": "z9n9HHRaISJV"
      },
      "source": [
        "# Inference"
      ]
    },
    {
      "cell_type": "markdown",
      "metadata": {
        "id": "zAC7coOHTsin"
      },
      "source": [
        "18. 用訓練過的模型（神經網路）做推論（預測）  \n",
        "輸入訓練資料的feature，輸出的預測結果會接近但不會等於label"
      ]
    },
    {
      "cell_type": "code",
      "metadata": {
        "id": "tdjspq_VLx9i",
        "outputId": "34a1b202-e2a6-41b1-a20d-357508de9746",
        "colab": {
          "base_uri": "https://localhost:8080/",
          "height": 104
        }
      },
      "source": [
        "prediction1 = model.predict(xs)\n",
        "prediction1"
      ],
      "execution_count": null,
      "outputs": [
        {
          "output_type": "execute_result",
          "data": {
            "text/plain": [
              "array([[12.499629],\n",
              "       [22.765697],\n",
              "       [33.03177 ],\n",
              "       [43.297836],\n",
              "       [53.563904]], dtype=float32)"
            ]
          },
          "metadata": {
            "tags": []
          },
          "execution_count": 25
        }
      ]
    },
    {
      "cell_type": "markdown",
      "metadata": {
        "id": "vxR7GKyWtgaw"
      },
      "source": [
        "19. 訓練資料為藍色點  \n",
        "預測結果為紅色點  \n",
        "五點連線為一直線，因為此模型只有一個神經元，神經元是一個線性函數"
      ]
    },
    {
      "cell_type": "code",
      "metadata": {
        "id": "k8Sk7LOPQEiD",
        "outputId": "cd6d84d5-7c2c-49f7-c443-0af8ce95df55",
        "colab": {
          "base_uri": "https://localhost:8080/",
          "height": 287
        }
      },
      "source": [
        "plt.scatter(xs, ys)\n",
        "\n",
        "plt.scatter(xs, prediction1, color='red')\n",
        "plt.plot(xs, prediction1, color='red')"
      ],
      "execution_count": null,
      "outputs": [
        {
          "output_type": "execute_result",
          "data": {
            "text/plain": [
              "[<matplotlib.lines.Line2D at 0x7fa8b9949160>]"
            ]
          },
          "metadata": {
            "tags": []
          },
          "execution_count": 26
        },
        {
          "output_type": "display_data",
          "data": {
            "image/png": "[encoded data removed]",
            "text/plain": [
              "<Figure size 432x288 with 1 Axes>"
            ]
          },
          "metadata": {
            "tags": []
          }
        }
      ]
    },
    {
      "cell_type": "markdown",
      "metadata": {
        "id": "9MgPWwvCONjz"
      },
      "source": [
        "20. 再訓練10個回合(epochs)"
      ]
    },
    {
      "cell_type": "code",
      "metadata": {
        "id": "Wjei0gNSN6d0",
        "outputId": "6c7bad3e-2379-465f-cdbb-80bc8a55366b",
        "colab": {
          "base_uri": "https://localhost:8080/",
          "height": 374
        }
      },
      "source": [
        "model.fit(xs, ys, epochs=10)"
      ],
      "execution_count": null,
      "outputs": [
        {
          "output_type": "stream",
          "text": [
            "Epoch 1/10\n",
            "5/5 [==============================] - 0s 907us/step - loss: 19.8893\n",
            "Epoch 2/10\n",
            "5/5 [==============================] - 0s 952us/step - loss: 16.5669\n",
            "Epoch 3/10\n",
            "5/5 [==============================] - 0s 660us/step - loss: 14.6068\n",
            "Epoch 4/10\n",
            "5/5 [==============================] - 0s 1ms/step - loss: 13.4407\n",
            "Epoch 5/10\n",
            "5/5 [==============================] - 0s 826us/step - loss: 12.7376\n",
            "Epoch 6/10\n",
            "5/5 [==============================] - 0s 749us/step - loss: 12.3043\n",
            "Epoch 7/10\n",
            "5/5 [==============================] - 0s 800us/step - loss: 12.0285\n",
            "Epoch 8/10\n",
            "5/5 [==============================] - 0s 623us/step - loss: 11.8446\n",
            "Epoch 9/10\n",
            "5/5 [==============================] - 0s 625us/step - loss: 11.7145\n",
            "Epoch 10/10\n",
            "5/5 [==============================] - 0s 702us/step - loss: 11.6158\n"
          ],
          "name": "stdout"
        },
        {
          "output_type": "execute_result",
          "data": {
            "text/plain": [
              "<keras.callbacks.History at 0x7fd1f7f15f98>"
            ]
          },
          "metadata": {
            "tags": []
          },
          "execution_count": 14
        }
      ]
    },
    {
      "cell_type": "markdown",
      "metadata": {
        "id": "gGWd2Aids0Hh"
      },
      "source": [
        "21. 再次更新後的Param們"
      ]
    },
    {
      "cell_type": "code",
      "metadata": {
        "id": "jvG9O0g2N_AL",
        "outputId": "ade68950-8b2e-4eb2-da79-413c0a42cf07",
        "colab": {
          "base_uri": "https://localhost:8080/",
          "height": 51
        }
      },
      "source": [
        "w, b = model.layers[0].get_weights()\n",
        "print('w =', w[0])\n",
        "print('b =', b[0])"
      ],
      "execution_count": null,
      "outputs": [
        {
          "output_type": "stream",
          "text": [
            "w = [10.201851]\n",
            "b = 2.7481868\n"
          ],
          "name": "stdout"
        }
      ]
    },
    {
      "cell_type": "markdown",
      "metadata": {
        "id": "hNHMwM1ep277"
      },
      "source": [
        "22. 再次用訓練資料的feature做推論，顯示為棕色"
      ]
    },
    {
      "cell_type": "code",
      "metadata": {
        "id": "qq282joVo-B3",
        "outputId": "93899f18-678e-4b04-ca10-598ac37cedcd",
        "colab": {
          "base_uri": "https://localhost:8080/",
          "height": 102
        }
      },
      "source": [
        "prediction2 = model.predict(xs)\n",
        "prediction2"
      ],
      "execution_count": null,
      "outputs": [
        {
          "output_type": "execute_result",
          "data": {
            "text/plain": [
              "array([[12.950038],\n",
              "       [23.151888],\n",
              "       [33.35374 ],\n",
              "       [43.55559 ],\n",
              "       [53.757442]], dtype=float32)"
            ]
          },
          "metadata": {
            "tags": []
          },
          "execution_count": 16
        }
      ]
    },
    {
      "cell_type": "code",
      "metadata": {
        "id": "WLEEpzVUpOm4",
        "outputId": "d0a33405-d814-470e-b28c-b6f51462e4f9",
        "colab": {
          "base_uri": "https://localhost:8080/",
          "height": 286
        }
      },
      "source": [
        "plt.scatter(xs, ys)\n",
        "\n",
        "plt.scatter(xs, prediction2, color='brown')\n",
        "plt.plot(xs, prediction2, color='brown')"
      ],
      "execution_count": null,
      "outputs": [
        {
          "output_type": "execute_result",
          "data": {
            "text/plain": [
              "[<matplotlib.lines.Line2D at 0x7fd1ea4e28d0>]"
            ]
          },
          "metadata": {
            "tags": []
          },
          "execution_count": 17
        },
        {
          "output_type": "display_data",
          "data": {
            "image/png": "[encoded data removed]",
            "text/plain": [
              "<Figure size 432x288 with 1 Axes>"
            ]
          },
          "metadata": {
            "tags": []
          }
        }
      ]
    }
  ]
}