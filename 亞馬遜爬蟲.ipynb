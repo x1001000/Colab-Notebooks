{
  "nbformat": 4,
  "nbformat_minor": 0,
  "metadata": {
    "colab": {
      "name": "亞馬遜爬蟲",
      "provenance": [],
      "collapsed_sections": [],
      "authorship_tag": "ABX9TyOT8xTuLx2wruXbTfWQtn9j",
      "include_colab_link": true
    },
    "kernelspec": {
      "name": "python3",
      "display_name": "Python 3"
    }
  },
  "cells": [
    {
      "cell_type": "markdown",
      "metadata": {
        "id": "view-in-github",
        "colab_type": "text"
      },
      "source": [
        "<a href=\"https://colab.research.google.com/github/x1001000/Python_snippets/blob/master/%E4%BA%9E%E9%A6%AC%E9%81%9C%E7%88%AC%E8%9F%B2.ipynb\" target=\"_parent\"><img src=\"https://colab.research.google.com/assets/colab-badge.svg\" alt=\"Open In Colab\"/></a>"
      ]
    },
    {
      "cell_type": "code",
      "metadata": {
        "id": "q2bW_hy4Peae"
      },
      "source": [
        "# 點下左側 Files 裡的 Mount Drive，第一次會要求授權\n",
        "# 下 Linux 指令在雲端硬碟新增資料夾\n",
        "! mkdir drive/My\\ Drive/amazon.co.jp"
      ],
      "execution_count": null,
      "outputs": []
    },
    {
      "cell_type": "code",
      "metadata": {
        "id": "DH2tAP4dvlx2"
      },
      "source": [
        "# 匯入所需的 Python 套件\n",
        "import requests\n",
        "from bs4 import BeautifulSoup\n",
        "import pandas as pd"
      ],
      "execution_count": null,
      "outputs": []
    },
    {
      "cell_type": "code",
      "metadata": {
        "id": "uUcOHDfBQe16"
      },
      "source": [
        "# 網站有防爬蟲，藉此偽裝成 Mac 電腦上的瀏覽器\n",
        "headers = {'user-agent': 'Mozilla/5.0 (Macintosh; Intel Mac OS X 10_15_6) AppleWebKit/537.36 (KHTML, like Gecko) Chrome/84.0.4147.89 Safari/537.36'}"
      ],
      "execution_count": null,
      "outputs": []
    },
    {
      "cell_type": "code",
      "metadata": {
        "id": "F1U72JgHv08i"
      },
      "source": [
        "keyword = input('請輸入商品關鍵字：')\n",
        "print('\\n網站一頁有60筆')\n",
        "pages = int(input('請問要爬幾頁？'))"
      ],
      "execution_count": null,
      "outputs": []
    },
    {
      "cell_type": "code",
      "metadata": {
        "id": "IQk-DtU9J42t"
      },
      "source": [
        "print('商品資料下載彙整中（一頁約兩分鐘）。。。\\n')\n",
        "df = pd.DataFrame(columns=['產品名稱', '價格', '商品介紹', '網頁連結'])\n",
        "for p in range(pages):\n",
        "    r = requests.get(f'https://www.amazon.co.jp/s?k={keyword}&page={p}', headers=headers)\n",
        "    soup = BeautifulSoup(r.text)\n",
        "    products = soup.find_all(class_= 'a-link-normal a-text-normal')\n",
        "    for product in products:\n",
        "        df.loc[len(df)+1] = None\n",
        "        df.iloc[-1]['產品名稱'] = product.text.strip('\\n')\n",
        "        df.iloc[-1]['網頁連結'] = 'https://www.amazon.co.jp'+product.get('href')\n",
        "        r = requests.get(df.iloc[-1]['網頁連結'], headers=headers)\n",
        "        soup = BeautifulSoup(r.text)\n",
        "        if soup.find(class_ = 'a-unordered-list a-vertical a-spacing-mini'):\n",
        "            df.iloc[-1]['商品介紹'] = soup.find(class_ = 'a-unordered-list a-vertical a-spacing-mini').text.strip('\\n')\n",
        "        else:\n",
        "            print(df.iloc[-1]['產品名稱'])\n",
        "            print('無商品介紹')\n",
        "            df.iloc[-1]['商品介紹'] = '無商品介紹'\n",
        "        if soup.find(id = 'priceblock_saleprice'):\n",
        "            df.iloc[-1]['價格'] = soup.find(id = 'priceblock_saleprice').text.strip('\\n')\n",
        "        elif soup.find(id = 'priceblock_ourprice'):\n",
        "            df.iloc[-1]['價格'] = soup.find(id = 'priceblock_ourprice').text.strip('\\n')\n",
        "        else:\n",
        "            print(df.iloc[-1]['產品名稱'])\n",
        "            print('無價格')\n",
        "            df.iloc[-1]['價格'] = '無價格'\n",
        "df.to_csv('drive/My Drive/amazon.co.jp/'+keyword+'.csv')\n",
        "print('已匯出 file.csv 👉 左側 Files 👉 上方 Refresh 👉 右鍵 Download 或到 Google Drive 直接開啟')"
      ],
      "execution_count": null,
      "outputs": []
    }
  ]
}