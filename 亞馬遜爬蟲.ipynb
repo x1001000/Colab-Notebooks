{
  "cells": [
    {
      "cell_type": "markdown",
      "metadata": {
        "colab_type": "text",
        "id": "view-in-github"
      },
      "source": [
        "<a href=\"https://colab.research.google.com/github/x1001000/Colab-Notebooks/blob/master/%E4%BA%9E%E9%A6%AC%E9%81%9C%E7%88%AC%E8%9F%B2.ipynb\" target=\"_parent\"><img src=\"https://colab.research.google.com/assets/colab-badge.svg\" alt=\"Open In Colab\"/></a>"
      ]
    },
    {
      "cell_type": "code",
      "execution_count": null,
      "metadata": {
        "id": "q2bW_hy4Peae",
        "vscode": {
          "languageId": "python"
        }
      },
      "outputs": [],
      "source": [
        "# 點下左側 Files 裡的 Mount Drive，第一次會要求授權\n",
        "# 下 Linux 指令在雲端硬碟新增資料夾\n",
        "! mkdir drive/My\\ Drive/amazon.co.jp"
      ]
    },
    {
      "cell_type": "code",
      "execution_count": null,
      "metadata": {
        "id": "DH2tAP4dvlx2",
        "vscode": {
          "languageId": "python"
        }
      },
      "outputs": [],
      "source": [
        "# 匯入所需的 Python 套件\n",
        "import requests\n",
        "from bs4 import BeautifulSoup\n",
        "import pandas as pd"
      ]
    },
    {
      "cell_type": "code",
      "execution_count": null,
      "metadata": {
        "id": "uUcOHDfBQe16",
        "vscode": {
          "languageId": "python"
        }
      },
      "outputs": [],
      "source": [
        "# 網站有防爬蟲，藉此偽裝成 Mac 電腦上的瀏覽器\n",
        "headers = {'user-agent': 'Mozilla/5.0 (Macintosh; Intel Mac OS X 10_15_6) AppleWebKit/537.36 (KHTML, like Gecko) Chrome/84.0.4147.89 Safari/537.36'}"
      ]
    },
    {
      "cell_type": "code",
      "execution_count": null,
      "metadata": {
        "id": "F1U72JgHv08i",
        "vscode": {
          "languageId": "python"
        }
      },
      "outputs": [],
      "source": [
        "keyword = input('請輸入商品關鍵字：')\n",
        "print('\\n網站一頁有60筆')\n",
        "pages = int(input('請問要爬幾頁？'))"
      ]
    },
    {
      "cell_type": "code",
      "execution_count": null,
      "metadata": {
        "id": "IQk-DtU9J42t",
        "vscode": {
          "languageId": "python"
        }
      },
      "outputs": [],
      "source": [
        "print('商品資料下載彙整中（一頁約兩分鐘）。。。\\n')\n",
        "df = pd.DataFrame(columns=['產品名稱', '價格', '商品介紹', '網頁連結'])\n",
        "for p in range(pages):\n",
        "    r = requests.get(f'https://www.amazon.co.jp/s?k={keyword}&page={p}', headers=headers)\n",
        "    soup = BeautifulSoup(r.text)\n",
        "    products = soup.find_all(class_= 'a-link-normal a-text-normal')\n",
        "    for product in products:\n",
        "        df.loc[len(df)+1] = None\n",
        "        df.iloc[-1]['產品名稱'] = product.text.strip('\\n')\n",
        "        df.iloc[-1]['網頁連結'] = 'https://www.amazon.co.jp'+product.get('href')\n",
        "        r = requests.get(df.iloc[-1]['網頁連結'], headers=headers)\n",
        "        soup = BeautifulSoup(r.text)\n",
        "        if soup.find(class_ = 'a-unordered-list a-vertical a-spacing-mini'):\n",
        "            df.iloc[-1]['商品介紹'] = soup.find(class_ = 'a-unordered-list a-vertical a-spacing-mini').text.strip('\\n')\n",
        "        else:\n",
        "            print(df.iloc[-1]['產品名稱'])\n",
        "            print('無商品介紹')\n",
        "            df.iloc[-1]['商品介紹'] = '無商品介紹'\n",
        "        if soup.find(id = 'priceblock_saleprice'):\n",
        "            df.iloc[-1]['價格'] = soup.find(id = 'priceblock_saleprice').text.strip('\\n')\n",
        "        elif soup.find(id = 'priceblock_ourprice'):\n",
        "            df.iloc[-1]['價格'] = soup.find(id = 'priceblock_ourprice').text.strip('\\n')\n",
        "        else:\n",
        "            print(df.iloc[-1]['產品名稱'])\n",
        "            print('無價格')\n",
        "            df.iloc[-1]['價格'] = '無價格'\n",
        "df.to_csv('drive/My Drive/amazon.co.jp/'+keyword+'.csv')\n",
        "print('已匯出 file.csv 👉 左側 Files 👉 上方 Refresh 👉 右鍵 Download 或到 Google Drive 直接開啟')"
      ]
    }
  ],
  "metadata": {
    "colab": {
      "authorship_tag": "ABX9TyOT8xTuLx2wruXbTfWQtn9j",
      "collapsed_sections": [],
      "include_colab_link": true,
      "name": "亞馬遜爬蟲",
      "provenance": []
    },
    "kernelspec": {
      "display_name": "Python 3",
      "name": "python3"
    }
  },
  "nbformat": 4,
  "nbformat_minor": 0
}
