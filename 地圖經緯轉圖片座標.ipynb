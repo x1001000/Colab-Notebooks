{
  "nbformat": 4,
  "nbformat_minor": 0,
  "metadata": {
    "colab": {
      "name": "地圖經緯轉圖片座標",
      "provenance": [],
      "authorship_tag": "ABX9TyNeV44iQi7sztDZY6AHz0K2",
      "include_colab_link": true
    },
    "kernelspec": {
      "name": "python3",
      "display_name": "Python 3"
    },
    "language_info": {
      "name": "python"
    }
  },
  "cells": [
    {
      "cell_type": "markdown",
      "metadata": {
        "id": "view-in-github",
        "colab_type": "text"
      },
      "source": [
        "<a href=\"https://colab.research.google.com/github/x1001000/Python_snippets/blob/master/%E5%9C%B0%E5%9C%96%E7%B6%93%E7%B7%AF%E8%BD%89%E5%9C%96%E7%89%87%E5%BA%A7%E6%A8%99.ipynb\" target=\"_parent\"><img src=\"https://colab.research.google.com/assets/colab-badge.svg\" alt=\"Open In Colab\"/></a>"
      ]
    },
    {
      "cell_type": "code",
      "metadata": {
        "id": "82sCaS-cihC-"
      },
      "source": [
        "import numpy as np\n",
        "from numpy import linalg as LA"
      ],
      "execution_count": 1,
      "outputs": []
    },
    {
      "cell_type": "code",
      "metadata": {
        "id": "aVXZL8eHfpcR"
      },
      "source": [
        "def P(已知經緯, 左上經緯, 右下經緯, 圖片寬高):\n",
        "    Q = np.array(已知經緯)\n",
        "    C = np.array(左上經緯)\n",
        "    D = np.array(右下經緯)\n",
        "    size = np.array(圖片寬高)\n",
        "    x, y = (Q - C) / LA.norm(D - C) * LA.norm(size)\n",
        "    return int(x), int(-y)"
      ],
      "execution_count": 2,
      "outputs": []
    },
    {
      "cell_type": "markdown",
      "metadata": {
        "id": "BasaSbPcqpW6"
      },
      "source": [
        "舉地圖正中間的經緯度為例，求P"
      ]
    },
    {
      "cell_type": "code",
      "metadata": {
        "colab": {
          "base_uri": "https://localhost:8080/"
        },
        "id": "P1UTk60spMvy",
        "outputId": "130ac36c-40d1-4a6a-968f-e183a512d8ba"
      },
      "source": [
        "P((198788.50, 2614347.36), (198783.50, 2614352.36), (198793.50, 2614342.36), (493, 493))"
      ],
      "execution_count": 3,
      "outputs": [
        {
          "output_type": "execute_result",
          "data": {
            "text/plain": [
              "(246, 246)"
            ]
          },
          "metadata": {},
          "execution_count": 3
        }
      ]
    }
  ]
}