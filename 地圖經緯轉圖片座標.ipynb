{
  "cells": [
    {
      "cell_type": "markdown",
      "metadata": {
        "colab_type": "text",
        "id": "view-in-github"
      },
      "source": [
        "<a href=\"https://colab.research.google.com/github/x1001000/Colab-Notebooks/blob/master/%E5%9C%B0%E5%9C%96%E7%B6%93%E7%B7%AF%E8%BD%89%E5%9C%96%E7%89%87%E5%BA%A7%E6%A8%99.ipynb\" target=\"_parent\"><img src=\"https://colab.research.google.com/assets/colab-badge.svg\" alt=\"Open In Colab\"/></a>"
      ]
    },
    {
      "cell_type": "code",
      "execution_count": 1,
      "metadata": {
        "id": "82sCaS-cihC-"
      },
      "outputs": [],
      "source": [
        "import numpy as np\n",
        "from numpy import linalg as LA"
      ]
    },
    {
      "cell_type": "code",
      "execution_count": 2,
      "metadata": {
        "id": "aVXZL8eHfpcR"
      },
      "outputs": [],
      "source": [
        "def P(已知經緯, 左上經緯, 右下經緯, 圖片寬高):\n",
        "    Q = np.array(已知經緯)\n",
        "    C = np.array(左上經緯)\n",
        "    D = np.array(右下經緯)\n",
        "    size = np.array(圖片寬高)\n",
        "    x, y = (Q - C) / LA.norm(D - C) * LA.norm(size)\n",
        "    return int(x), int(-y)"
      ]
    },
    {
      "cell_type": "markdown",
      "metadata": {
        "id": "BasaSbPcqpW6"
      },
      "source": [
        "舉地圖正中間的經緯度為例，求P"
      ]
    },
    {
      "cell_type": "code",
      "execution_count": 3,
      "metadata": {
        "colab": {
          "base_uri": "https://localhost:8080/"
        },
        "id": "P1UTk60spMvy",
        "outputId": "130ac36c-40d1-4a6a-968f-e183a512d8ba"
      },
      "outputs": [
        {
          "data": {
            "text/plain": [
              "(246, 246)"
            ]
          },
          "execution_count": 3,
          "metadata": {},
          "output_type": "execute_result"
        }
      ],
      "source": [
        "P((198788.50, 2614347.36), (198783.50, 2614352.36), (198793.50, 2614342.36), (493, 493))"
      ]
    }
  ],
  "metadata": {
    "colab": {
      "authorship_tag": "ABX9TyNeV44iQi7sztDZY6AHz0K2",
      "include_colab_link": true,
      "name": "地圖經緯轉圖片座標",
      "provenance": []
    },
    "kernelspec": {
      "display_name": "Python 3",
      "name": "python3"
    },
    "language_info": {
      "name": "python"
    }
  },
  "nbformat": 4,
  "nbformat_minor": 0
}
