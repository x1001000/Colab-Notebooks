{
  "nbformat": 4,
  "nbformat_minor": 0,
  "metadata": {
    "colab": {
      "provenance": [],
      "authorship_tag": "ABX9TyNhYcKvmXwgJuxUr6ATuNq9",
      "include_colab_link": true
    },
    "kernelspec": {
      "name": "python3",
      "display_name": "Python 3"
    },
    "language_info": {
      "name": "python"
    },
    "widgets": {
      "application/vnd.jupyter.widget-state+json": {
        "2f0582264dd946a8b2fcae008652ea43": {
          "model_module": "jupyter-webrtc",
          "model_name": "AudioRecorderModel",
          "model_module_version": "~0.6.0",
          "state": {
            "_data_src": "blob:https://rmh9acb545j-496ff2e9c6d22116-0-colab.googleusercontent.com/17b1b963-77ab-46e7-a16b-97927ec9f10f",
            "_dom_classes": [],
            "_model_module": "jupyter-webrtc",
            "_model_module_version": "~0.6.0",
            "_model_name": "AudioRecorderModel",
            "_view_count": null,
            "_view_module": "jupyter-webrtc",
            "_view_module_version": "~0.6.0",
            "_view_name": "AudioRecorderView",
            "audio": "IPY_MODEL_395492f5f6754f1f979bedc0c3015b80",
            "autosave": false,
            "codecs": "",
            "filename": "record",
            "format": "webm",
            "layout": "IPY_MODEL_4be3502278b146b386010449d860fe2c",
            "recording": false,
            "stream": "IPY_MODEL_1b80695230754568b98a34d13f7894b9"
          }
        },
        "395492f5f6754f1f979bedc0c3015b80": {
          "model_module": "@jupyter-widgets/controls",
          "model_name": "AudioModel",
          "model_module_version": "1.5.0",
          "state": {
            "_dom_classes": [],
            "_model_module": "@jupyter-widgets/controls",
            "_model_module_version": "1.5.0",
            "_model_name": "AudioModel",
            "_view_count": null,
            "_view_module": "@jupyter-widgets/controls",
            "_view_module_version": "1.5.0",
            "_view_name": "AudioView",
            "autoplay": true,
            "controls": true,
            "format": "webm",
            "layout": "IPY_MODEL_75c7f646e7cd432a95a7d10370a4a1bd",
            "loop": true
          }
        },
        "4be3502278b146b386010449d860fe2c": {
          "model_module": "@jupyter-widgets/base",
          "model_name": "LayoutModel",
          "model_module_version": "1.2.0",
          "state": {
            "_model_module": "@jupyter-widgets/base",
            "_model_module_version": "1.2.0",
            "_model_name": "LayoutModel",
            "_view_count": null,
            "_view_module": "@jupyter-widgets/base",
            "_view_module_version": "1.2.0",
            "_view_name": "LayoutView",
            "align_content": null,
            "align_items": null,
            "align_self": null,
            "border": null,
            "bottom": null,
            "display": null,
            "flex": null,
            "flex_flow": null,
            "grid_area": null,
            "grid_auto_columns": null,
            "grid_auto_flow": null,
            "grid_auto_rows": null,
            "grid_column": null,
            "grid_gap": null,
            "grid_row": null,
            "grid_template_areas": null,
            "grid_template_columns": null,
            "grid_template_rows": null,
            "height": null,
            "justify_content": null,
            "justify_items": null,
            "left": null,
            "margin": null,
            "max_height": null,
            "max_width": null,
            "min_height": null,
            "min_width": null,
            "object_fit": null,
            "object_position": null,
            "order": null,
            "overflow": null,
            "overflow_x": null,
            "overflow_y": null,
            "padding": null,
            "right": null,
            "top": null,
            "visibility": null,
            "width": null
          }
        },
        "1b80695230754568b98a34d13f7894b9": {
          "model_module": "jupyter-webrtc",
          "model_name": "CameraStreamModel",
          "model_module_version": "~0.6.0",
          "state": {
            "_dom_classes": [],
            "_model_module": "jupyter-webrtc",
            "_model_module_version": "~0.6.0",
            "_model_name": "CameraStreamModel",
            "_view_count": null,
            "_view_module": "jupyter-webrtc",
            "_view_module_version": "~0.6.0",
            "_view_name": "MediaStreamView",
            "constraints": {
              "audio": true,
              "video": false
            },
            "layout": "IPY_MODEL_473c9f0a45874af4b1bdd0cc06f3cb97"
          }
        },
        "75c7f646e7cd432a95a7d10370a4a1bd": {
          "model_module": "@jupyter-widgets/base",
          "model_name": "LayoutModel",
          "model_module_version": "1.2.0",
          "state": {
            "_model_module": "@jupyter-widgets/base",
            "_model_module_version": "1.2.0",
            "_model_name": "LayoutModel",
            "_view_count": null,
            "_view_module": "@jupyter-widgets/base",
            "_view_module_version": "1.2.0",
            "_view_name": "LayoutView",
            "align_content": null,
            "align_items": null,
            "align_self": null,
            "border": null,
            "bottom": null,
            "display": null,
            "flex": null,
            "flex_flow": null,
            "grid_area": null,
            "grid_auto_columns": null,
            "grid_auto_flow": null,
            "grid_auto_rows": null,
            "grid_column": null,
            "grid_gap": null,
            "grid_row": null,
            "grid_template_areas": null,
            "grid_template_columns": null,
            "grid_template_rows": null,
            "height": null,
            "justify_content": null,
            "justify_items": null,
            "left": null,
            "margin": null,
            "max_height": null,
            "max_width": null,
            "min_height": null,
            "min_width": null,
            "object_fit": null,
            "object_position": null,
            "order": null,
            "overflow": null,
            "overflow_x": null,
            "overflow_y": null,
            "padding": null,
            "right": null,
            "top": null,
            "visibility": null,
            "width": null
          }
        },
        "473c9f0a45874af4b1bdd0cc06f3cb97": {
          "model_module": "@jupyter-widgets/base",
          "model_name": "LayoutModel",
          "model_module_version": "1.2.0",
          "state": {
            "_model_module": "@jupyter-widgets/base",
            "_model_module_version": "1.2.0",
            "_model_name": "LayoutModel",
            "_view_count": null,
            "_view_module": "@jupyter-widgets/base",
            "_view_module_version": "1.2.0",
            "_view_name": "LayoutView",
            "align_content": null,
            "align_items": null,
            "align_self": null,
            "border": null,
            "bottom": null,
            "display": null,
            "flex": null,
            "flex_flow": null,
            "grid_area": null,
            "grid_auto_columns": null,
            "grid_auto_flow": null,
            "grid_auto_rows": null,
            "grid_column": null,
            "grid_gap": null,
            "grid_row": null,
            "grid_template_areas": null,
            "grid_template_columns": null,
            "grid_template_rows": null,
            "height": null,
            "justify_content": null,
            "justify_items": null,
            "left": null,
            "margin": null,
            "max_height": null,
            "max_width": null,
            "min_height": null,
            "min_width": null,
            "object_fit": null,
            "object_position": null,
            "order": null,
            "overflow": null,
            "overflow_x": null,
            "overflow_y": null,
            "padding": null,
            "right": null,
            "top": null,
            "visibility": null,
            "width": null
          }
        }
      }
    }
  },
  "cells": [
    {
      "cell_type": "markdown",
      "metadata": {
        "id": "view-in-github",
        "colab_type": "text"
      },
      "source": [
        "<a href=\"https://colab.research.google.com/github/x1001000/Colab-Notebooks/blob/main/%E5%9F%BA%E6%96%BCGoogle%E8%AA%9E%E9%9F%B3%E8%BE%A8%E8%AD%98%E7%9A%84%E6%97%A5%E8%AA%9E%E7%99%BC%E9%9F%B3%E8%A9%95%E5%AF%A9.ipynb\" target=\"_parent\"><img src=\"https://colab.research.google.com/assets/colab-badge.svg\" alt=\"Open In Colab\"/></a>"
      ]
    },
    {
      "cell_type": "markdown",
      "source": [
        "## 1. TEXT可任意增刪，執行即可更新，任選一行實測"
      ],
      "metadata": {
        "id": "cNzrB87q8VsD"
      }
    },
    {
      "cell_type": "code",
      "source": [
        "TEXT = '''\n",
        "白雪姫のお母さんは、白雪姫がまだ子供のころ、重い病気にかかって亡くなってしまいました。\n",
        "二度目のお母さんはとてもきれいな人でした。けれども、自分よりきれいな人がいることには我慢のできない人でした。\n",
        "毎朝、不思議な鏡にこうたずねていたのです。「鏡よ、鏡。この世の中で一番美しいのはだれ。」\n",
        "「この世の中で一番美しいのは、おきさき様あなたです。」鏡はいつもこうこたえていました。\n",
        "白雪姫のお母さんは、白雪姫がまだ子供のころ、重い病気にかかって亡くなってしまいました。二度目のお母さんはとてもきれいな人でした。けれども、自分よりきれいな人がいることには我慢のできない人でした。毎朝、不思議な鏡にこうたずねていたのです。「鏡よ、鏡。この世の中で一番美しいのはだれ。」「この世の中で一番美しいのは、おきさき様あなたです。」鏡はいつもこうこたえていました。\n",
        "2004年にお札のデザインが新しくされた。日本のお札が刷新されたのは20年ぶりだ。\n",
        "'''.split('\\n')"
      ],
      "metadata": {
        "id": "e4k9ND5PV-Xc"
      },
      "execution_count": null,
      "outputs": []
    },
    {
      "cell_type": "markdown",
      "source": [
        "## 2. 重複錄音及辨識"
      ],
      "metadata": {
        "id": "SyTqkS_FAcqg"
      }
    },
    {
      "cell_type": "markdown",
      "source": [
        "👇這格只需執行一次，產生錄音機之後，只需按 ● 即可重複錄音"
      ],
      "metadata": {
        "id": "erchFHbLBs-m"
      }
    },
    {
      "cell_type": "code",
      "source": [
        "!pip install SpeechRecognition >> log.txt\n",
        "import speech_recognition as sr\n",
        "recognizer = sr.Recognizer()\n",
        "\n",
        "!pip install sudachipy >> log.txt\n",
        "import sudachipy.tokenizer\n",
        "mode = sudachipy.tokenizer.Tokenizer.SplitMode.C\n",
        "\n",
        "!pip install sudachidict_core >> log.txt\n",
        "import sudachipy.dictionary\n",
        "tokenizer = sudachipy.dictionary.Dictionary().create()\n",
        "\n",
        "!pip install jaconv >> log.txt\n",
        "import jaconv\n",
        "\n",
        "# !pip install pykakasi >> log.txt\n",
        "# import pykakasi\n",
        "# kks = pykakasi.kakasi()\n",
        "\n",
        "from google.colab import output\n",
        "output.enable_custom_widget_manager()\n",
        "\n",
        "!pip install ipywebrtc >> log.txt\n",
        "from ipywebrtc import CameraStream, AudioRecorder\n",
        "camera = CameraStream(constraints={'audio': True, 'video': False})\n",
        "recorder = AudioRecorder(stream=camera)\n",
        "recorder"
      ],
      "metadata": {
        "id": "aMzw_d-recCr",
        "colab": {
          "base_uri": "https://localhost:8080/",
          "height": 107,
          "referenced_widgets": [
            "2f0582264dd946a8b2fcae008652ea43",
            "395492f5f6754f1f979bedc0c3015b80",
            "4be3502278b146b386010449d860fe2c",
            "1b80695230754568b98a34d13f7894b9",
            "75c7f646e7cd432a95a7d10370a4a1bd",
            "473c9f0a45874af4b1bdd0cc06f3cb97"
          ]
        },
        "outputId": "2c6cae04-8aea-458f-fbb3-75b088bd00e5"
      },
      "execution_count": null,
      "outputs": [
        {
          "output_type": "display_data",
          "data": {
            "text/plain": [
              "AudioRecorder(audio=Audio(value=b'', format='webm'), stream=CameraStream(constraints={'audio': True, 'video': …"
            ],
            "application/vnd.jupyter.widget-view+json": {
              "version_major": 2,
              "version_minor": 0,
              "model_id": "2f0582264dd946a8b2fcae008652ea43"
            }
          },
          "metadata": {
            "application/vnd.jupyter.widget-view+json": {
              "colab": {
                "custom_widget_manager": {
                  "url": "https://ssl.gstatic.com/colaboratory-static/widgets/colab-cdn-widget-manager/2b70e893a8ba7c0f/manager.min.js"
                }
              }
            }
          }
        }
      ]
    },
    {
      "cell_type": "markdown",
      "source": [
        "👇每次錄音後執行這格，將音訊存成recording.wav檔，傳送至Google語音辨識API"
      ],
      "metadata": {
        "id": "oahQk5-GBySJ"
      }
    },
    {
      "cell_type": "code",
      "source": [
        "with open('recording.webm', 'wb') as f:\n",
        "    f.write(recorder.audio.value)\n",
        "!ffmpeg -i recording.webm -ac 1 -f wav recording.wav -y -hide_banner -loglevel panic\n",
        "\n",
        "with sr.AudioFile('recording.wav') as source:\n",
        "    audio = recognizer.record(source)\n",
        "    print('Google語音辨識API回傳：\\n')\n",
        "    try:\n",
        "        recognized_text = recognizer.recognize_google(audio, language='ja-JP')\n",
        "        print(recognized_text)\n",
        "    except sr.UnknownValueError:\n",
        "        print('未知錯誤')"
      ],
      "metadata": {
        "colab": {
          "base_uri": "https://localhost:8080/"
        },
        "id": "kNkZ10Sl6CwY",
        "outputId": "5b9b0d96-6ae9-46fb-b262-86c309f56317"
      },
      "execution_count": null,
      "outputs": [
        {
          "output_type": "stream",
          "name": "stdout",
          "text": [
            "Google語音辨識API回傳：\n",
            "\n",
            "白雪姫のお母さんは白雪姫がまだ子供の頃 重い病気にかかって亡くなってしまいました 白雪姫のお母さんは白雪姫がまだ子供の頃 重い病気にかかって亡くなってしまいました\n"
          ]
        }
      ]
    },
    {
      "cell_type": "markdown",
      "source": [
        "## 3. 發音準確度（平假名相似度）"
      ],
      "metadata": {
        "id": "45ZKp9w8P-OJ"
      }
    },
    {
      "cell_type": "code",
      "source": [
        "def N(n):\n",
        "    N = ''\n",
        "    char = ['', '一', '二', '三', '四', '五', '六', '七', '八', '九']\n",
        "    for UNIT in ['', '萬', '億', '兆']:\n",
        "        N += UNIT\n",
        "        for unit in ['', '十', '百', '千']:\n",
        "            digit = n % 10\n",
        "            if digit != 0:\n",
        "                N += unit\n",
        "            if unit == '':          # 個位\n",
        "                N += char[digit]    # 轉漢字接到字串N後\n",
        "            elif digit != 1:        # 十百千位，數字非1\n",
        "                N += char[digit]    # 轉漢字接到字串N後\n",
        "            n //= 10\n",
        "            if n == 0:\n",
        "                return N[::-1]      # 反轉字串N\n",
        "\n",
        "def repl(matchobj):\n",
        "    return N(int(matchobj.group()))\n",
        "\n",
        "# @title TEXT轉假名\n",
        "實測TEXT第幾行 = 1 # @param {type:\"integer\"}\n",
        "\n",
        "import re\n",
        "text = re.sub('[、。「」 ]', '', TEXT[實測TEXT第幾行])\n",
        "text = re.sub(r'\\d+', repl, text)\n",
        "tokens = tokenizer.tokenize(text, mode)\n",
        "text_orig = ''.join([token.surface() for token in tokens])\n",
        "text_kata = ''.join([token.reading_form() for token in tokens])\n",
        "text_hira = jaconv.kata2hira(text_kata)\n",
        "# tokens = kks.convert(text)\n",
        "# text_orig = ''.join([token['orig'] for token in tokens])\n",
        "# text_hira = ''.join([token['hira'] for token in tokens])\n",
        "# text_kana = ''.join([token['kana'] for token in tokens])\n",
        "print(f'TEXT\\t{text_orig}')\n",
        "print(f'片假名\\t{text_kata}')\n",
        "print(f'平假名\\t{text_hira}')"
      ],
      "metadata": {
        "colab": {
          "base_uri": "https://localhost:8080/"
        },
        "cellView": "form",
        "id": "AevnoLzNIDxG",
        "outputId": "c28458e7-a2e1-4ced-c96c-0f3a493eca69"
      },
      "execution_count": null,
      "outputs": [
        {
          "output_type": "stream",
          "name": "stdout",
          "text": [
            "TEXT\t白雪姫のお母さんは白雪姫がまだ子供のころ重い病気にかかって亡くなってしまいました\n",
            "片假名\tシラユキヒメノオカアサンハシラユキヒメガマダコドモノコロオモイビョウキニカカッテナクナッテシマイマシタ\n",
            "平假名\tしらゆきひめのおかあさんはしらゆきひめがまだこどものころおもいびょうきにかかってなくなってしまいました\n"
          ]
        }
      ]
    },
    {
      "cell_type": "markdown",
      "source": [
        "### 語音辨識結果轉假名"
      ],
      "metadata": {
        "id": "fDraVQjldFtv"
      }
    },
    {
      "cell_type": "code",
      "source": [
        "recognizedtext = re.sub('[、。「」 ]', '', recognized_text)\n",
        "recognizedtext = re.sub(r'\\d+', repl, recognizedtext)\n",
        "tokens = tokenizer.tokenize(recognizedtext, mode)\n",
        "recognizedtext_orig = ''.join([token.surface() for token in tokens])\n",
        "recognizedtext_kata = ''.join([token.reading_form() for token in tokens])\n",
        "recognizedtext_hira = jaconv.kata2hira(recognizedtext_kata)\n",
        "# tokens = kks.convert(recognizedtext)\n",
        "# recognizedtext_orig = ''.join([token['orig'] for token in tokens])\n",
        "# recognizedtext_hira = ''.join([token['hira'] for token in tokens])\n",
        "# recognizedtext_kana = ''.join([token['kana'] for token in tokens])\n",
        "print(f'語音辨識\\t{recognizedtext_orig}')\n",
        "print(f'片假名\\t{recognizedtext_kata}')\n",
        "print(f'平假名\\t{recognizedtext_hira}')"
      ],
      "metadata": {
        "colab": {
          "base_uri": "https://localhost:8080/"
        },
        "id": "yDc0ZEyiOH4o",
        "outputId": "c19affeb-01f6-4525-9d05-f55866e57a1d"
      },
      "execution_count": null,
      "outputs": [
        {
          "output_type": "stream",
          "name": "stdout",
          "text": [
            "語音辨識\t白雪姫のお母さんは白雪姫がまだ子供の頃重い病気にかかって亡くなってしまいました白雪姫のお母さんは白雪姫がまだ子供の頃重い病気にかかって亡くなってしまいました\n",
            "片假名\tシラユキヒメノオカアサンハシラユキヒメガマダコドモノコロオモイビョウキニカカッテナクナッテシマイマシタシラユキヒメノオカアサンハシラユキヒメガマダコドモノコロオモイビョウキニカカッテナクナッテシマイマシタ\n",
            "平假名\tしらゆきひめのおかあさんはしらゆきひめがまだこどものころおもいびょうきにかかってなくなってしまいましたしらゆきひめのおかあさんはしらゆきひめがまだこどものころおもいびょうきにかかってなくなってしまいました\n"
          ]
        }
      ]
    },
    {
      "cell_type": "markdown",
      "source": [
        "### TEXT平假名與語音辨識結果平假名相似度"
      ],
      "metadata": {
        "id": "bMteLgJDd3NN"
      }
    },
    {
      "cell_type": "code",
      "source": [
        "import difflib\n",
        "similarity = difflib.SequenceMatcher(None, text_hira, recognizedtext_hira).ratio()\n",
        "print(f'相似度: {similarity}')"
      ],
      "metadata": {
        "colab": {
          "base_uri": "https://localhost:8080/"
        },
        "id": "gGNcr0X0d2h-",
        "outputId": "22d0bbf0-9789-4d54-a326-613c6c3836d3"
      },
      "execution_count": null,
      "outputs": [
        {
          "output_type": "stream",
          "name": "stdout",
          "text": [
            "相似度: 0.6666666666666666\n"
          ]
        }
      ]
    }
  ]
}