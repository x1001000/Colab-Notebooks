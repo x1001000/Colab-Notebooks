{
  "nbformat": 4,
  "nbformat_minor": 0,
  "metadata": {
    "colab": {
      "provenance": [],
      "collapsed_sections": [],
      "include_colab_link": true
    },
    "kernelspec": {
      "name": "python3",
      "display_name": "Python 3"
    },
    "accelerator": "GPU"
  },
  "cells": [
    {
      "cell_type": "markdown",
      "metadata": {
        "id": "view-in-github",
        "colab_type": "text"
      },
      "source": [
        "<a href=\"https://colab.research.google.com/github/x1001000/Colab-Notebooks/blob/main/%E6%A8%B9%E8%8E%93%E6%B4%BE%E6%B7%B1%E5%BA%A6%E5%AD%B8%E7%BF%92AI%E5%B0%8F%E8%BB%8A.ipynb\" target=\"_parent\"><img src=\"https://colab.research.google.com/assets/colab-badge.svg\" alt=\"Open In Colab\"/></a>"
      ]
    },
    {
      "cell_type": "markdown",
      "metadata": {
        "id": "6Vdqfu2hCqux"
      },
      "source": [
        "# 安裝 TensorFlow 機器學習套件及 DonkeyCar 自走車開發套件"
      ]
    },
    {
      "cell_type": "code",
      "source": [
        "!pip uninstall tensorflow -y        # -y是直接帶入yes的意思\n",
        "!pip install tensorflow==2.2.0\n",
        "!pip install git+https://github.com/autorope/donkeycar"
      ],
      "metadata": {
        "id": "yQVo5LWfw1B8"
      },
      "execution_count": null,
      "outputs": []
    },
    {
      "cell_type": "markdown",
      "metadata": {
        "id": "MrTdaCR4FFzs"
      },
      "source": [
        "# 第一次需完整複製（git clone）之後只需下載差異（git pull）"
      ]
    },
    {
      "cell_type": "code",
      "metadata": {
        "id": "aWaMVOZJIWD7"
      },
      "source": [
        "!git config --global user.email \"you@example.com\"\n",
        "!git config --global user.name \"Your Name\"\n",
        "!git clone https://github.com/帳號/tmdpi01car\n",
        "%cd tmdpi01car\n",
        "!mkdir models"
      ],
      "execution_count": null,
      "outputs": []
    },
    {
      "cell_type": "code",
      "metadata": {
        "id": "bZt6MZLmteBb"
      },
      "source": [
        "!git pull"
      ],
      "execution_count": null,
      "outputs": []
    },
    {
      "cell_type": "markdown",
      "metadata": {
        "id": "BVEb-VpfGPFw"
      },
      "source": [
        "# 訓練模型"
      ]
    },
    {
      "cell_type": "code",
      "metadata": {
        "id": "tTGjZ1ORIkIH"
      },
      "source": [
        "!python train.py --tub data --model models/20220415-1.h5 #--transfer models/預先訓練過的模型"
      ],
      "execution_count": null,
      "outputs": []
    },
    {
      "cell_type": "markdown",
      "metadata": {
        "id": "UH00QYOjHxSP"
      },
      "source": [
        "# 上傳模型（git push）"
      ]
    },
    {
      "cell_type": "code",
      "metadata": {
        "id": "HljiqCRcJd_p"
      },
      "source": [
        "!git add .\n",
        "!git commit -m 'upload model'\n",
        "!git push https://偷啃@github.com/帳號/tmdpi01car"
      ],
      "execution_count": null,
      "outputs": []
    }
  ]
}